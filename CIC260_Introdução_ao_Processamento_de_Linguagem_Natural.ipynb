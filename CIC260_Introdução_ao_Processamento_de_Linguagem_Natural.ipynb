{
  "nbformat": 4,
  "nbformat_minor": 0,
  "metadata": {
    "colab": {
      "name": "CIC260 - Introdução ao Processamento de Linguagem Natural.ipynb",
      "provenance": [],
      "collapsed_sections": [],
      "toc_visible": true,
      "authorship_tag": "ABX9TyOPRiqJdSUUg4uNMKOOgVAV",
      "include_colab_link": true
    },
    "kernelspec": {
      "name": "python3",
      "display_name": "Python 3"
    },
    "language_info": {
      "name": "python"
    }
  },
  "cells": [
    {
      "cell_type": "markdown",
      "metadata": {
        "id": "view-in-github",
        "colab_type": "text"
      },
      "source": [
        "<a href=\"https://colab.research.google.com/github/flavio-mota/fundamentos-pln/blob/master/CIC260_Introdu%C3%A7%C3%A3o_ao_Processamento_de_Linguagem_Natural.ipynb\" target=\"_parent\"><img src=\"https://colab.research.google.com/assets/colab-badge.svg\" alt=\"Open In Colab\"/></a>"
      ]
    },
    {
      "cell_type": "markdown",
      "metadata": {
        "id": "TTkIQCYUkmEH"
      },
      "source": [
        "# Introdução ao Processamento de Linguagem Natural (PLN)"
      ]
    },
    {
      "cell_type": "markdown",
      "metadata": {
        "id": "0H_sVHX_ky2H"
      },
      "source": [
        "## Objetivos gerais:\n",
        "\n",
        "\n",
        "*   Apresentar noções básicas de sobre o que é o PLN\n",
        "*   Criar funções simples que realizem a limpeza e análise de textos\n",
        "*   Realizar algumas análises quantitativas\n",
        "*   Aplicar etiquetagem morfossintáticas às palavras do corpus\n",
        "*   Geração de gráficos\n",
        "\n"
      ]
    },
    {
      "cell_type": "markdown",
      "metadata": {
        "id": "wpfUoquTmPhf"
      },
      "source": [
        "## Começando com uma análise simples de textos\n",
        "\n",
        "Vamos criar uma variável chamada `sentenca` e armazenar uma pequena frase nela:"
      ]
    },
    {
      "cell_type": "code",
      "metadata": {
        "id": "dWtvbYS4Jruy"
      },
      "source": [
        "sentenca = 'A raposa rápida salta sobre o cão preguiçoso'"
      ],
      "execution_count": null,
      "outputs": []
    },
    {
      "cell_type": "markdown",
      "metadata": {
        "id": "NJGDtk6DnF-g"
      },
      "source": [
        "Vamos verificar agora a ocorrência de uma palavra dentro da sentença:"
      ]
    },
    {
      "cell_type": "code",
      "metadata": {
        "colab": {
          "base_uri": "https://localhost:8080/"
        },
        "id": "kDze0baJkl0A",
        "outputId": "da61660c-9ad6-4997-ed4f-bbd411ecf31a"
      },
      "source": [
        "'rápida' in sentenca"
      ],
      "execution_count": null,
      "outputs": [
        {
          "output_type": "execute_result",
          "data": {
            "text/plain": [
              "True"
            ]
          },
          "metadata": {},
          "execution_count": 2
        }
      ]
    },
    {
      "cell_type": "markdown",
      "metadata": {
        "id": "nUxshQpynaTf"
      },
      "source": [
        "O código acima retorna `True`, indicando que a palavra 'rápida' existe dentro da sentença. Se fosse utilizada a palavra 'gato', o retorno seria `False`, uma vez que essa palavra não existe na frase.\n",
        "\n",
        "Agora, vamos retornar uma determinada palavra da frase através de sua posição. No exemplo a seguir, o código retorna a palavra na 5ª posição da sentença:"
      ]
    },
    {
      "cell_type": "code",
      "metadata": {
        "colab": {
          "base_uri": "https://localhost:8080/",
          "height": 36
        },
        "id": "EmhMvfzQnZVP",
        "outputId": "4c181da3-faf5-4c0d-eeb5-b5af5e57e0a7"
      },
      "source": [
        "sentenca.split()[2]"
      ],
      "execution_count": null,
      "outputs": [
        {
          "output_type": "execute_result",
          "data": {
            "application/vnd.google.colaboratory.intrinsic+json": {
              "type": "string"
            },
            "text/plain": [
              "'rápida'"
            ]
          },
          "metadata": {},
          "execution_count": 4
        }
      ]
    },
    {
      "cell_type": "markdown",
      "metadata": {
        "id": "cKeOueBfpR4f"
      },
      "source": [
        "Para exibir uma determinada palavra de trás para frente, podemos utilizar:"
      ]
    },
    {
      "cell_type": "code",
      "metadata": {
        "colab": {
          "base_uri": "https://localhost:8080/",
          "height": 36
        },
        "id": "6aXZayEHpKpY",
        "outputId": "bade3aa1-67d4-49e8-b8d2-bd5a5db9ab3b"
      },
      "source": [
        "sentenca.split()[1][::-1]"
      ],
      "execution_count": null,
      "outputs": [
        {
          "output_type": "execute_result",
          "data": {
            "application/vnd.google.colaboratory.intrinsic+json": {
              "type": "string"
            },
            "text/plain": [
              "'asopar'"
            ]
          },
          "metadata": {},
          "execution_count": 5
        }
      ]
    },
    {
      "cell_type": "markdown",
      "metadata": {
        "id": "j_fZCQb0rFaH"
      },
      "source": [
        "Para exibir toda a sentença invertida:"
      ]
    },
    {
      "cell_type": "code",
      "metadata": {
        "colab": {
          "base_uri": "https://localhost:8080/",
          "height": 36
        },
        "id": "zjkPO75IrJPQ",
        "outputId": "9e964f8d-e763-45f7-fa6e-d4517d8558cd"
      },
      "source": [
        "sentenca[::-1]"
      ],
      "execution_count": null,
      "outputs": [
        {
          "output_type": "execute_result",
          "data": {
            "application/vnd.google.colaboratory.intrinsic+json": {
              "type": "string"
            },
            "text/plain": [
              "'osoçiugerp oãc o erbos atlas adipár asopar A'"
            ]
          },
          "metadata": {},
          "execution_count": 6
        }
      ]
    },
    {
      "cell_type": "markdown",
      "metadata": {
        "id": "-pABt5xPpojE"
      },
      "source": [
        "Vamos concatenar a primeira e a última palavra da sentença:"
      ]
    },
    {
      "cell_type": "code",
      "metadata": {
        "colab": {
          "base_uri": "https://localhost:8080/"
        },
        "id": "2hjNCG7ZpdPl",
        "outputId": "b5895c4a-a841-4064-d168-a84e9b1990a9"
      },
      "source": [
        "palavras = sentenca.split() #Vamos criar uma variável para armazenar as palavras\n",
        "primeira_palavra = palavras[0] #Recuperamos a primeira palavra (posição 0)\n",
        "ultima_palavra = palavras[len(palavras)-1] #Recuperamos a última palavra (tamanho do vetor de palavras menos 1)\n",
        "concatenar_palavras = primeira_palavra + ultima_palavra\n",
        "print(concatenar_palavras)"
      ],
      "execution_count": null,
      "outputs": [
        {
          "output_type": "stream",
          "name": "stdout",
          "text": [
            "Apreguiçoso\n"
          ]
        }
      ]
    },
    {
      "cell_type": "markdown",
      "metadata": {
        "id": "RXM3l0GPqhhS"
      },
      "source": [
        "Para encontrar as palavras que estão em posições pares da sentença, podemos utilizar:"
      ]
    },
    {
      "cell_type": "code",
      "metadata": {
        "colab": {
          "base_uri": "https://localhost:8080/"
        },
        "id": "I51LBYStqb3g",
        "outputId": "584034cd-e59f-4bab-d9d4-5bf1c5b30d6a"
      },
      "source": [
        "[palavras[i] for i in range(len(palavras)) if i%2 == 0]"
      ],
      "execution_count": null,
      "outputs": [
        {
          "output_type": "execute_result",
          "data": {
            "text/plain": [
              "['A', 'rápida', 'sobre', 'cão']"
            ]
          },
          "metadata": {},
          "execution_count": 8
        }
      ]
    },
    {
      "cell_type": "markdown",
      "metadata": {
        "id": "IFl-Q44FuWoe"
      },
      "source": [
        "## Um breve parênteses: A biblioteca NLTK"
      ]
    },
    {
      "cell_type": "markdown",
      "metadata": {
        "id": "hLTQoTRLud36"
      },
      "source": [
        "A NLTK (**N**atural **L**anguage **T**ool**K**it) é uma biblioteca do python que oferece uma infinidade de recursos para o tratamento de dados textuais. Ela conta com uma excelente documentação, que inclui passo a passo a utilização dos recursos. Um diferencial dessa biblioteca é a disponibilidade de recursos linguísticos em português. Vamos utilizar alguns desses recursos a seguir.\n",
        "\n",
        "Link para documentação: [NLTK](https://www.nltk.org/)"
      ]
    },
    {
      "cell_type": "markdown",
      "metadata": {
        "id": "ZvwUgtdpsbMq"
      },
      "source": [
        "## Tarefas do PLN"
      ]
    },
    {
      "cell_type": "markdown",
      "metadata": {
        "id": "znK2I9AXstb0"
      },
      "source": [
        "Ao trabalhar com textos no PLN, diversas tarefas podem ser executadas, como a *tokenização*, limpeza do texto, etiquetagem, contagens de palavras, *stemming*, etc. Vermos algumas dessas tarefas a seguir."
      ]
    },
    {
      "cell_type": "markdown",
      "metadata": {
        "id": "qREnH9AJsjUz"
      },
      "source": [
        "### Tokenização"
      ]
    },
    {
      "cell_type": "markdown",
      "metadata": {
        "id": "A6HUA9RUykxr"
      },
      "source": [
        "A *tokenização* é o processo de dividir as sentenças em palavras. Considere a frase:\n",
        "> \"Eu estou lendo um livro.\"\n",
        "\n",
        "A tarefa de *tokenização* tem como objetivo extrair as palavras (ou tokens) dessa sentença, produzindo:\n",
        "> 'Eu', 'estou', 'lendo', 'um', 'livro', ' . '\n",
        "\n",
        "Esse tipo de extração é chamada de 'unigrama', uma vez que separa uma palavra por vez. Entretanto, é possível realizar a extraçã de dois ou três *tokens* por vez. Se são 2 *tokens* por vez, chamamos de **bigramas**. Se são 3, **trigramas**. Dependendo da necessidade, podemos ter **n-gramas**, sendo n um número natural.\n",
        "\n",
        "> **n-gramas** são sequências de n palavras de um texto.\n",
        "\n",
        "No PLN trabalhamos com *tokens* por questão de conveniência, já que temos a tendência de realizar as análises palavra por palavra.\n",
        "\n"
      ]
    },
    {
      "cell_type": "markdown",
      "metadata": {
        "id": "EH2TSMCJzPMi"
      },
      "source": [
        "Vamos realizar a tokenização de uma sentença simples. Para isso vamos utilizar um módulo da NLTK que facilita esse processo."
      ]
    },
    {
      "cell_type": "code",
      "metadata": {
        "colab": {
          "base_uri": "https://localhost:8080/"
        },
        "id": "OFXhK8S1q-jw",
        "outputId": "2a6394b3-5818-4f11-ab37-8991b5a739c5"
      },
      "source": [
        "import nltk #importando a biblioteca\n",
        "nltk.download('all') # baixando todos os recursos da biblioteca (pode demorar)\n",
        "from nltk import word_tokenize #importando o módulo word_tokenize"
      ],
      "execution_count": null,
      "outputs": [
        {
          "output_type": "stream",
          "name": "stdout",
          "text": [
            "[nltk_data] Downloading collection 'all'\n",
            "[nltk_data]    | \n",
            "[nltk_data]    | Downloading package abc to /root/nltk_data...\n",
            "[nltk_data]    |   Package abc is already up-to-date!\n",
            "[nltk_data]    | Downloading package alpino to /root/nltk_data...\n",
            "[nltk_data]    |   Package alpino is already up-to-date!\n",
            "[nltk_data]    | Downloading package biocreative_ppi to\n",
            "[nltk_data]    |     /root/nltk_data...\n",
            "[nltk_data]    |   Package biocreative_ppi is already up-to-date!\n",
            "[nltk_data]    | Downloading package brown to /root/nltk_data...\n",
            "[nltk_data]    |   Package brown is already up-to-date!\n",
            "[nltk_data]    | Downloading package brown_tei to /root/nltk_data...\n",
            "[nltk_data]    |   Package brown_tei is already up-to-date!\n",
            "[nltk_data]    | Downloading package cess_cat to /root/nltk_data...\n",
            "[nltk_data]    |   Package cess_cat is already up-to-date!\n",
            "[nltk_data]    | Downloading package cess_esp to /root/nltk_data...\n",
            "[nltk_data]    |   Package cess_esp is already up-to-date!\n",
            "[nltk_data]    | Downloading package chat80 to /root/nltk_data...\n",
            "[nltk_data]    |   Package chat80 is already up-to-date!\n",
            "[nltk_data]    | Downloading package city_database to\n",
            "[nltk_data]    |     /root/nltk_data...\n",
            "[nltk_data]    |   Package city_database is already up-to-date!\n",
            "[nltk_data]    | Downloading package cmudict to /root/nltk_data...\n",
            "[nltk_data]    |   Package cmudict is already up-to-date!\n",
            "[nltk_data]    | Downloading package comparative_sentences to\n",
            "[nltk_data]    |     /root/nltk_data...\n",
            "[nltk_data]    |   Package comparative_sentences is already up-to-\n",
            "[nltk_data]    |       date!\n",
            "[nltk_data]    | Downloading package comtrans to /root/nltk_data...\n",
            "[nltk_data]    |   Package comtrans is already up-to-date!\n",
            "[nltk_data]    | Downloading package conll2000 to /root/nltk_data...\n",
            "[nltk_data]    |   Package conll2000 is already up-to-date!\n",
            "[nltk_data]    | Downloading package conll2002 to /root/nltk_data...\n",
            "[nltk_data]    |   Package conll2002 is already up-to-date!\n",
            "[nltk_data]    | Downloading package conll2007 to /root/nltk_data...\n",
            "[nltk_data]    |   Package conll2007 is already up-to-date!\n",
            "[nltk_data]    | Downloading package crubadan to /root/nltk_data...\n",
            "[nltk_data]    |   Package crubadan is already up-to-date!\n",
            "[nltk_data]    | Downloading package dependency_treebank to\n",
            "[nltk_data]    |     /root/nltk_data...\n",
            "[nltk_data]    |   Package dependency_treebank is already up-to-date!\n",
            "[nltk_data]    | Downloading package dolch to /root/nltk_data...\n",
            "[nltk_data]    |   Package dolch is already up-to-date!\n",
            "[nltk_data]    | Downloading package europarl_raw to\n",
            "[nltk_data]    |     /root/nltk_data...\n",
            "[nltk_data]    |   Package europarl_raw is already up-to-date!\n",
            "[nltk_data]    | Downloading package floresta to /root/nltk_data...\n",
            "[nltk_data]    |   Package floresta is already up-to-date!\n",
            "[nltk_data]    | Downloading package framenet_v15 to\n",
            "[nltk_data]    |     /root/nltk_data...\n",
            "[nltk_data]    |   Package framenet_v15 is already up-to-date!\n",
            "[nltk_data]    | Downloading package framenet_v17 to\n",
            "[nltk_data]    |     /root/nltk_data...\n",
            "[nltk_data]    |   Package framenet_v17 is already up-to-date!\n",
            "[nltk_data]    | Downloading package gazetteers to /root/nltk_data...\n",
            "[nltk_data]    |   Package gazetteers is already up-to-date!\n",
            "[nltk_data]    | Downloading package genesis to /root/nltk_data...\n",
            "[nltk_data]    |   Package genesis is already up-to-date!\n",
            "[nltk_data]    | Downloading package gutenberg to /root/nltk_data...\n",
            "[nltk_data]    |   Package gutenberg is already up-to-date!\n",
            "[nltk_data]    | Downloading package ieer to /root/nltk_data...\n",
            "[nltk_data]    |   Package ieer is already up-to-date!\n",
            "[nltk_data]    | Downloading package inaugural to /root/nltk_data...\n",
            "[nltk_data]    |   Package inaugural is already up-to-date!\n",
            "[nltk_data]    | Downloading package indian to /root/nltk_data...\n",
            "[nltk_data]    |   Package indian is already up-to-date!\n",
            "[nltk_data]    | Downloading package jeita to /root/nltk_data...\n",
            "[nltk_data]    |   Package jeita is already up-to-date!\n",
            "[nltk_data]    | Downloading package kimmo to /root/nltk_data...\n",
            "[nltk_data]    |   Package kimmo is already up-to-date!\n",
            "[nltk_data]    | Downloading package knbc to /root/nltk_data...\n",
            "[nltk_data]    |   Package knbc is already up-to-date!\n",
            "[nltk_data]    | Downloading package lin_thesaurus to\n",
            "[nltk_data]    |     /root/nltk_data...\n",
            "[nltk_data]    |   Package lin_thesaurus is already up-to-date!\n",
            "[nltk_data]    | Downloading package mac_morpho to /root/nltk_data...\n",
            "[nltk_data]    |   Package mac_morpho is already up-to-date!\n",
            "[nltk_data]    | Downloading package machado to /root/nltk_data...\n",
            "[nltk_data]    |   Package machado is already up-to-date!\n",
            "[nltk_data]    | Downloading package masc_tagged to /root/nltk_data...\n",
            "[nltk_data]    |   Package masc_tagged is already up-to-date!\n",
            "[nltk_data]    | Downloading package moses_sample to\n",
            "[nltk_data]    |     /root/nltk_data...\n",
            "[nltk_data]    |   Package moses_sample is already up-to-date!\n",
            "[nltk_data]    | Downloading package movie_reviews to\n",
            "[nltk_data]    |     /root/nltk_data...\n",
            "[nltk_data]    |   Package movie_reviews is already up-to-date!\n",
            "[nltk_data]    | Downloading package names to /root/nltk_data...\n",
            "[nltk_data]    |   Package names is already up-to-date!\n",
            "[nltk_data]    | Downloading package nombank.1.0 to /root/nltk_data...\n",
            "[nltk_data]    |   Package nombank.1.0 is already up-to-date!\n",
            "[nltk_data]    | Downloading package nps_chat to /root/nltk_data...\n",
            "[nltk_data]    |   Package nps_chat is already up-to-date!\n",
            "[nltk_data]    | Downloading package omw to /root/nltk_data...\n",
            "[nltk_data]    |   Package omw is already up-to-date!\n",
            "[nltk_data]    | Downloading package opinion_lexicon to\n",
            "[nltk_data]    |     /root/nltk_data...\n",
            "[nltk_data]    |   Package opinion_lexicon is already up-to-date!\n",
            "[nltk_data]    | Downloading package paradigms to /root/nltk_data...\n",
            "[nltk_data]    |   Package paradigms is already up-to-date!\n",
            "[nltk_data]    | Downloading package pil to /root/nltk_data...\n",
            "[nltk_data]    |   Package pil is already up-to-date!\n",
            "[nltk_data]    | Downloading package pl196x to /root/nltk_data...\n",
            "[nltk_data]    |   Package pl196x is already up-to-date!\n",
            "[nltk_data]    | Downloading package ppattach to /root/nltk_data...\n",
            "[nltk_data]    |   Package ppattach is already up-to-date!\n",
            "[nltk_data]    | Downloading package problem_reports to\n",
            "[nltk_data]    |     /root/nltk_data...\n",
            "[nltk_data]    |   Package problem_reports is already up-to-date!\n",
            "[nltk_data]    | Downloading package propbank to /root/nltk_data...\n",
            "[nltk_data]    |   Package propbank is already up-to-date!\n",
            "[nltk_data]    | Downloading package ptb to /root/nltk_data...\n",
            "[nltk_data]    |   Package ptb is already up-to-date!\n",
            "[nltk_data]    | Downloading package product_reviews_1 to\n",
            "[nltk_data]    |     /root/nltk_data...\n",
            "[nltk_data]    |   Package product_reviews_1 is already up-to-date!\n",
            "[nltk_data]    | Downloading package product_reviews_2 to\n",
            "[nltk_data]    |     /root/nltk_data...\n",
            "[nltk_data]    |   Package product_reviews_2 is already up-to-date!\n",
            "[nltk_data]    | Downloading package pros_cons to /root/nltk_data...\n",
            "[nltk_data]    |   Package pros_cons is already up-to-date!\n",
            "[nltk_data]    | Downloading package qc to /root/nltk_data...\n",
            "[nltk_data]    |   Package qc is already up-to-date!\n",
            "[nltk_data]    | Downloading package reuters to /root/nltk_data...\n",
            "[nltk_data]    |   Package reuters is already up-to-date!\n",
            "[nltk_data]    | Downloading package rte to /root/nltk_data...\n",
            "[nltk_data]    |   Package rte is already up-to-date!\n",
            "[nltk_data]    | Downloading package semcor to /root/nltk_data...\n",
            "[nltk_data]    |   Package semcor is already up-to-date!\n",
            "[nltk_data]    | Downloading package senseval to /root/nltk_data...\n",
            "[nltk_data]    |   Package senseval is already up-to-date!\n",
            "[nltk_data]    | Downloading package sentiwordnet to\n",
            "[nltk_data]    |     /root/nltk_data...\n",
            "[nltk_data]    |   Package sentiwordnet is already up-to-date!\n",
            "[nltk_data]    | Downloading package sentence_polarity to\n",
            "[nltk_data]    |     /root/nltk_data...\n",
            "[nltk_data]    |   Package sentence_polarity is already up-to-date!\n",
            "[nltk_data]    | Downloading package shakespeare to /root/nltk_data...\n",
            "[nltk_data]    |   Package shakespeare is already up-to-date!\n",
            "[nltk_data]    | Downloading package sinica_treebank to\n",
            "[nltk_data]    |     /root/nltk_data...\n",
            "[nltk_data]    |   Package sinica_treebank is already up-to-date!\n",
            "[nltk_data]    | Downloading package smultron to /root/nltk_data...\n",
            "[nltk_data]    |   Package smultron is already up-to-date!\n",
            "[nltk_data]    | Downloading package state_union to /root/nltk_data...\n",
            "[nltk_data]    |   Package state_union is already up-to-date!\n",
            "[nltk_data]    | Downloading package stopwords to /root/nltk_data...\n",
            "[nltk_data]    |   Package stopwords is already up-to-date!\n",
            "[nltk_data]    | Downloading package subjectivity to\n",
            "[nltk_data]    |     /root/nltk_data...\n",
            "[nltk_data]    |   Package subjectivity is already up-to-date!\n",
            "[nltk_data]    | Downloading package swadesh to /root/nltk_data...\n",
            "[nltk_data]    |   Package swadesh is already up-to-date!\n",
            "[nltk_data]    | Downloading package switchboard to /root/nltk_data...\n",
            "[nltk_data]    |   Package switchboard is already up-to-date!\n",
            "[nltk_data]    | Downloading package timit to /root/nltk_data...\n",
            "[nltk_data]    |   Package timit is already up-to-date!\n",
            "[nltk_data]    | Downloading package toolbox to /root/nltk_data...\n",
            "[nltk_data]    |   Package toolbox is already up-to-date!\n",
            "[nltk_data]    | Downloading package treebank to /root/nltk_data...\n",
            "[nltk_data]    |   Package treebank is already up-to-date!\n",
            "[nltk_data]    | Downloading package twitter_samples to\n",
            "[nltk_data]    |     /root/nltk_data...\n",
            "[nltk_data]    |   Package twitter_samples is already up-to-date!\n",
            "[nltk_data]    | Downloading package udhr to /root/nltk_data...\n",
            "[nltk_data]    |   Package udhr is already up-to-date!\n",
            "[nltk_data]    | Downloading package udhr2 to /root/nltk_data...\n",
            "[nltk_data]    |   Package udhr2 is already up-to-date!\n",
            "[nltk_data]    | Downloading package unicode_samples to\n",
            "[nltk_data]    |     /root/nltk_data...\n",
            "[nltk_data]    |   Package unicode_samples is already up-to-date!\n",
            "[nltk_data]    | Downloading package universal_treebanks_v20 to\n",
            "[nltk_data]    |     /root/nltk_data...\n",
            "[nltk_data]    |   Package universal_treebanks_v20 is already up-to-\n",
            "[nltk_data]    |       date!\n",
            "[nltk_data]    | Downloading package verbnet to /root/nltk_data...\n",
            "[nltk_data]    |   Package verbnet is already up-to-date!\n",
            "[nltk_data]    | Downloading package verbnet3 to /root/nltk_data...\n",
            "[nltk_data]    |   Package verbnet3 is already up-to-date!\n",
            "[nltk_data]    | Downloading package webtext to /root/nltk_data...\n",
            "[nltk_data]    |   Package webtext is already up-to-date!\n",
            "[nltk_data]    | Downloading package wordnet to /root/nltk_data...\n",
            "[nltk_data]    |   Package wordnet is already up-to-date!\n",
            "[nltk_data]    | Downloading package wordnet31 to /root/nltk_data...\n",
            "[nltk_data]    |   Package wordnet31 is already up-to-date!\n",
            "[nltk_data]    | Downloading package wordnet_ic to /root/nltk_data...\n",
            "[nltk_data]    |   Package wordnet_ic is already up-to-date!\n",
            "[nltk_data]    | Downloading package words to /root/nltk_data...\n",
            "[nltk_data]    |   Package words is already up-to-date!\n",
            "[nltk_data]    | Downloading package ycoe to /root/nltk_data...\n",
            "[nltk_data]    |   Package ycoe is already up-to-date!\n",
            "[nltk_data]    | Downloading package rslp to /root/nltk_data...\n",
            "[nltk_data]    |   Package rslp is already up-to-date!\n",
            "[nltk_data]    | Downloading package maxent_treebank_pos_tagger to\n",
            "[nltk_data]    |     /root/nltk_data...\n",
            "[nltk_data]    |   Package maxent_treebank_pos_tagger is already up-\n",
            "[nltk_data]    |       to-date!\n",
            "[nltk_data]    | Downloading package universal_tagset to\n",
            "[nltk_data]    |     /root/nltk_data...\n",
            "[nltk_data]    |   Package universal_tagset is already up-to-date!\n",
            "[nltk_data]    | Downloading package maxent_ne_chunker to\n",
            "[nltk_data]    |     /root/nltk_data...\n",
            "[nltk_data]    |   Package maxent_ne_chunker is already up-to-date!\n",
            "[nltk_data]    | Downloading package punkt to /root/nltk_data...\n",
            "[nltk_data]    |   Package punkt is already up-to-date!\n",
            "[nltk_data]    | Downloading package book_grammars to\n",
            "[nltk_data]    |     /root/nltk_data...\n",
            "[nltk_data]    |   Package book_grammars is already up-to-date!\n",
            "[nltk_data]    | Downloading package sample_grammars to\n",
            "[nltk_data]    |     /root/nltk_data...\n",
            "[nltk_data]    |   Package sample_grammars is already up-to-date!\n",
            "[nltk_data]    | Downloading package spanish_grammars to\n",
            "[nltk_data]    |     /root/nltk_data...\n",
            "[nltk_data]    |   Package spanish_grammars is already up-to-date!\n",
            "[nltk_data]    | Downloading package basque_grammars to\n",
            "[nltk_data]    |     /root/nltk_data...\n",
            "[nltk_data]    |   Package basque_grammars is already up-to-date!\n",
            "[nltk_data]    | Downloading package large_grammars to\n",
            "[nltk_data]    |     /root/nltk_data...\n",
            "[nltk_data]    |   Package large_grammars is already up-to-date!\n",
            "[nltk_data]    | Downloading package tagsets to /root/nltk_data...\n",
            "[nltk_data]    |   Package tagsets is already up-to-date!\n",
            "[nltk_data]    | Downloading package snowball_data to\n",
            "[nltk_data]    |     /root/nltk_data...\n",
            "[nltk_data]    |   Package snowball_data is already up-to-date!\n",
            "[nltk_data]    | Downloading package bllip_wsj_no_aux to\n",
            "[nltk_data]    |     /root/nltk_data...\n",
            "[nltk_data]    |   Package bllip_wsj_no_aux is already up-to-date!\n",
            "[nltk_data]    | Downloading package word2vec_sample to\n",
            "[nltk_data]    |     /root/nltk_data...\n",
            "[nltk_data]    |   Package word2vec_sample is already up-to-date!\n",
            "[nltk_data]    | Downloading package panlex_swadesh to\n",
            "[nltk_data]    |     /root/nltk_data...\n",
            "[nltk_data]    |   Package panlex_swadesh is already up-to-date!\n",
            "[nltk_data]    | Downloading package mte_teip5 to /root/nltk_data...\n",
            "[nltk_data]    |   Package mte_teip5 is already up-to-date!\n",
            "[nltk_data]    | Downloading package averaged_perceptron_tagger to\n",
            "[nltk_data]    |     /root/nltk_data...\n",
            "[nltk_data]    |   Package averaged_perceptron_tagger is already up-\n",
            "[nltk_data]    |       to-date!\n",
            "[nltk_data]    | Downloading package averaged_perceptron_tagger_ru to\n",
            "[nltk_data]    |     /root/nltk_data...\n",
            "[nltk_data]    |   Package averaged_perceptron_tagger_ru is already\n",
            "[nltk_data]    |       up-to-date!\n",
            "[nltk_data]    | Downloading package perluniprops to\n",
            "[nltk_data]    |     /root/nltk_data...\n",
            "[nltk_data]    |   Package perluniprops is already up-to-date!\n",
            "[nltk_data]    | Downloading package nonbreaking_prefixes to\n",
            "[nltk_data]    |     /root/nltk_data...\n",
            "[nltk_data]    |   Package nonbreaking_prefixes is already up-to-date!\n",
            "[nltk_data]    | Downloading package vader_lexicon to\n",
            "[nltk_data]    |     /root/nltk_data...\n",
            "[nltk_data]    |   Package vader_lexicon is already up-to-date!\n",
            "[nltk_data]    | Downloading package porter_test to /root/nltk_data...\n",
            "[nltk_data]    |   Package porter_test is already up-to-date!\n",
            "[nltk_data]    | Downloading package wmt15_eval to /root/nltk_data...\n",
            "[nltk_data]    |   Package wmt15_eval is already up-to-date!\n",
            "[nltk_data]    | Downloading package mwa_ppdb to /root/nltk_data...\n",
            "[nltk_data]    |   Package mwa_ppdb is already up-to-date!\n",
            "[nltk_data]    | \n",
            "[nltk_data]  Done downloading collection all\n"
          ]
        }
      ]
    },
    {
      "cell_type": "code",
      "metadata": {
        "id": "hHUQsbdZzl_C"
      },
      "source": [
        "palavras = word_tokenize('Eu estou aprendendo sobre os fundamentos do PLN')"
      ],
      "execution_count": null,
      "outputs": []
    },
    {
      "cell_type": "code",
      "metadata": {
        "colab": {
          "base_uri": "https://localhost:8080/"
        },
        "id": "Jb3oH8vGzx9s",
        "outputId": "3f771c48-4cc7-4443-c2bb-11f3dfda1182"
      },
      "source": [
        "palavras"
      ],
      "execution_count": null,
      "outputs": [
        {
          "output_type": "execute_result",
          "data": {
            "text/plain": [
              "['Eu', 'estou', 'aprendendo', 'sobre', 'os', 'fundamentos', 'do', 'PLN']"
            ]
          },
          "metadata": {},
          "execution_count": 15
        }
      ]
    },
    {
      "cell_type": "markdown",
      "metadata": {
        "id": "O9HUuF_O7eF1"
      },
      "source": [
        "Aplicar essa tarefa em frases simples pode não parecer muito útil. Sendo assim, vamos ver exemplos com um *corpus*."
      ]
    },
    {
      "cell_type": "markdown",
      "metadata": {
        "id": "YXiTEQOG0cGz"
      },
      "source": [
        "#### O que é e para que serve um *corpus*?\n",
        "\n",
        "*Corpus* pode ser definido como o conjunto de materiais linguísticos que serão analisados. Para os propósitos do PLN, é necessário que esses materiais estejam na forma de texto e que possam ser lidos por um programa de computador.\n",
        "\n",
        "Vamos criar um método de leitura de um arquivo txt que contém nosso corpus:"
      ]
    },
    {
      "cell_type": "code",
      "metadata": {
        "id": "CL-tWvrDtFAk"
      },
      "source": [
        "def ler(nome_arquivo):\n",
        "  arquivo = open(nome_arquivo, 'r', encoding='utf-8')\n",
        "  conteudo_arq = arquivo.read()\n",
        "  arquivo.close()\n",
        "  return conteudo_arq"
      ],
      "execution_count": null,
      "outputs": []
    },
    {
      "cell_type": "markdown",
      "metadata": {
        "id": "2xnUfxxAEubs"
      },
      "source": [
        "Vamos carregar o romance \"Dom Casmurro\" (arquivo 'marm08.txt'):"
      ]
    },
    {
      "cell_type": "code",
      "metadata": {
        "id": "xSVbDjHstmNC"
      },
      "source": [
        "obra = ler('marm08.txt')"
      ],
      "execution_count": null,
      "outputs": []
    },
    {
      "cell_type": "markdown",
      "metadata": {
        "id": "D0xMlCz8Fatl"
      },
      "source": [
        "Podemos agora obter a *tokenização* do livro Dom Casmurro:"
      ]
    },
    {
      "cell_type": "code",
      "metadata": {
        "colab": {
          "base_uri": "https://localhost:8080/"
        },
        "id": "HPEnizRTCGap",
        "outputId": "caa69015-af46-4d50-b0df-8ce8ae51b38d"
      },
      "source": [
        "palavras = word_tokenize(obra)\n",
        "palavras"
      ],
      "execution_count": null,
      "outputs": [
        {
          "output_type": "execute_result",
          "data": {
            "text/plain": [
              "['Romance',\n",
              " ',',\n",
              " 'Dom',\n",
              " 'Casmurro',\n",
              " ',',\n",
              " '1899',\n",
              " 'Dom',\n",
              " 'Casmurro',\n",
              " 'Texto',\n",
              " 'de',\n",
              " 'referência',\n",
              " ':',\n",
              " 'Obras',\n",
              " 'Completas',\n",
              " 'de',\n",
              " 'Machado',\n",
              " 'de',\n",
              " 'Assis',\n",
              " ',',\n",
              " 'vol',\n",
              " '.',\n",
              " 'I',\n",
              " ',',\n",
              " 'Nova',\n",
              " 'Aguilar',\n",
              " ',',\n",
              " 'Rio',\n",
              " 'de',\n",
              " 'Janeiro',\n",
              " ',',\n",
              " '1994',\n",
              " '.',\n",
              " 'Publicado',\n",
              " 'originalmente',\n",
              " 'pela',\n",
              " 'Editora',\n",
              " 'Garnier',\n",
              " ',',\n",
              " 'Rio',\n",
              " 'de',\n",
              " 'Janeiro',\n",
              " ',',\n",
              " '1899',\n",
              " '.',\n",
              " 'CAPÍTULO',\n",
              " 'PRIMEIRO',\n",
              " 'DO',\n",
              " 'TÍTULO',\n",
              " 'Uma',\n",
              " 'noite',\n",
              " 'destas',\n",
              " ',',\n",
              " 'vindo',\n",
              " 'da',\n",
              " 'cidade',\n",
              " 'para',\n",
              " 'o',\n",
              " 'Engenho',\n",
              " 'Novo',\n",
              " ',',\n",
              " 'encontrei',\n",
              " 'no',\n",
              " 'trem',\n",
              " 'da',\n",
              " 'Central',\n",
              " 'um',\n",
              " 'rapaz',\n",
              " 'aqui',\n",
              " 'do',\n",
              " 'bairro',\n",
              " ',',\n",
              " 'que',\n",
              " 'eu',\n",
              " 'conheço',\n",
              " 'de',\n",
              " 'vista',\n",
              " 'e',\n",
              " 'de',\n",
              " 'chapéu',\n",
              " '.',\n",
              " 'Cumprimentou-me',\n",
              " ',',\n",
              " 'sentou-se',\n",
              " 'ao',\n",
              " 'pé',\n",
              " 'de',\n",
              " 'mim',\n",
              " ',',\n",
              " 'falou',\n",
              " 'da',\n",
              " 'Lua',\n",
              " 'e',\n",
              " 'dos',\n",
              " 'ministros',\n",
              " ',',\n",
              " 'e',\n",
              " 'acabou',\n",
              " 'recitando-me',\n",
              " 'versos',\n",
              " '.',\n",
              " 'A',\n",
              " 'viagem',\n",
              " 'era',\n",
              " 'curta',\n",
              " ',',\n",
              " 'e',\n",
              " 'os',\n",
              " 'versos',\n",
              " 'pode',\n",
              " 'ser',\n",
              " 'que',\n",
              " 'não',\n",
              " 'fossem',\n",
              " 'inteiramente',\n",
              " 'maus',\n",
              " '.',\n",
              " 'Sucedeu',\n",
              " ',',\n",
              " 'porém',\n",
              " ',',\n",
              " 'que',\n",
              " ',',\n",
              " 'como',\n",
              " 'eu',\n",
              " 'estava',\n",
              " 'cansado',\n",
              " ',',\n",
              " 'fechei',\n",
              " 'os',\n",
              " 'olhos',\n",
              " 'três',\n",
              " 'ou',\n",
              " 'quatro',\n",
              " 'vezes',\n",
              " ';',\n",
              " 'tanto',\n",
              " 'bastou',\n",
              " 'para',\n",
              " 'que',\n",
              " 'ele',\n",
              " 'interrompesse',\n",
              " 'a',\n",
              " 'leitura',\n",
              " 'e',\n",
              " 'metesse',\n",
              " 'os',\n",
              " 'versos',\n",
              " 'no',\n",
              " 'bolso',\n",
              " '.',\n",
              " '—',\n",
              " 'Continue',\n",
              " ',',\n",
              " 'disse',\n",
              " 'eu',\n",
              " 'acordando',\n",
              " '.',\n",
              " '—',\n",
              " 'Já',\n",
              " 'acabei',\n",
              " ',',\n",
              " 'murmurou',\n",
              " 'ele',\n",
              " '.',\n",
              " '—',\n",
              " 'São',\n",
              " 'muito',\n",
              " 'bonitos',\n",
              " '.',\n",
              " 'Vi-lhe',\n",
              " 'fazer',\n",
              " 'um',\n",
              " 'gesto',\n",
              " 'para',\n",
              " 'tirá-los',\n",
              " 'outra',\n",
              " 'vez',\n",
              " 'do',\n",
              " 'bolso',\n",
              " ',',\n",
              " 'mas',\n",
              " 'não',\n",
              " 'passou',\n",
              " 'do',\n",
              " 'gesto',\n",
              " ';',\n",
              " 'estava',\n",
              " 'amuado',\n",
              " '.',\n",
              " 'No',\n",
              " 'dia',\n",
              " 'seguinte',\n",
              " 'entrou',\n",
              " 'a',\n",
              " 'dizer',\n",
              " 'de',\n",
              " 'mim',\n",
              " 'nomes',\n",
              " 'feios',\n",
              " ',',\n",
              " 'e',\n",
              " 'acabou',\n",
              " 'alcunhando-me',\n",
              " 'Dom',\n",
              " 'Casmurro',\n",
              " '.',\n",
              " 'Os',\n",
              " 'vizinhos',\n",
              " ',',\n",
              " 'que',\n",
              " 'não',\n",
              " 'gostam',\n",
              " 'dos',\n",
              " 'meus',\n",
              " 'hábitos',\n",
              " 'reclusos',\n",
              " 'e',\n",
              " 'calados',\n",
              " ',',\n",
              " 'deram',\n",
              " 'curso',\n",
              " 'à',\n",
              " 'alcunha',\n",
              " ',',\n",
              " 'que',\n",
              " 'afinal',\n",
              " 'pegou',\n",
              " '.',\n",
              " 'Nem',\n",
              " 'por',\n",
              " 'isso',\n",
              " 'me',\n",
              " 'zanguei',\n",
              " '.',\n",
              " 'Contei',\n",
              " 'a',\n",
              " 'anedota',\n",
              " 'aos',\n",
              " 'amigos',\n",
              " 'da',\n",
              " 'cidade',\n",
              " ',',\n",
              " 'e',\n",
              " 'eles',\n",
              " ',',\n",
              " 'por',\n",
              " 'graça',\n",
              " ',',\n",
              " 'chamam-me',\n",
              " 'assim',\n",
              " ',',\n",
              " 'alguns',\n",
              " 'em',\n",
              " 'bilhetes',\n",
              " ':',\n",
              " \"'Dom\",\n",
              " 'Casmurro',\n",
              " ',',\n",
              " 'domingo',\n",
              " 'vou',\n",
              " 'jantar',\n",
              " 'com',\n",
              " 'você',\n",
              " '”',\n",
              " '.—',\n",
              " \"'Vou\",\n",
              " 'para',\n",
              " 'Petrópolis',\n",
              " ',',\n",
              " 'Dom',\n",
              " 'Casmurro',\n",
              " ';',\n",
              " 'a',\n",
              " 'casa',\n",
              " 'é',\n",
              " 'a',\n",
              " 'mesma',\n",
              " 'da',\n",
              " 'Renânia',\n",
              " ';',\n",
              " 'vê',\n",
              " 'se',\n",
              " 'deixas',\n",
              " 'essa',\n",
              " 'caverna',\n",
              " 'do',\n",
              " 'Engenho',\n",
              " 'Novo',\n",
              " ',',\n",
              " 'e',\n",
              " 'vai',\n",
              " 'lá',\n",
              " 'passar',\n",
              " 'uns',\n",
              " 'quinze',\n",
              " 'dias',\n",
              " 'comigo',\n",
              " '”',\n",
              " '.—',\n",
              " \"'Meu\",\n",
              " 'caro',\n",
              " 'Dom',\n",
              " 'Casmurro',\n",
              " ',',\n",
              " 'não',\n",
              " 'cuide',\n",
              " 'que',\n",
              " 'o',\n",
              " 'dispenso',\n",
              " 'do',\n",
              " 'teatro',\n",
              " 'amanhã',\n",
              " ';',\n",
              " 'venha',\n",
              " 'e',\n",
              " 'dormirá',\n",
              " 'aqui',\n",
              " 'na',\n",
              " 'cidade',\n",
              " ';',\n",
              " 'dou-lhe',\n",
              " 'camarote',\n",
              " ',',\n",
              " 'dou-lhe',\n",
              " 'chá',\n",
              " ',',\n",
              " 'dou-lhe',\n",
              " 'cama',\n",
              " ';',\n",
              " 'só',\n",
              " 'não',\n",
              " 'lhe',\n",
              " 'dou',\n",
              " 'moça',\n",
              " '”',\n",
              " '.',\n",
              " 'Não',\n",
              " 'consultes',\n",
              " 'dicionários',\n",
              " '.',\n",
              " 'Casmurro',\n",
              " 'não',\n",
              " 'está',\n",
              " 'aqui',\n",
              " 'no',\n",
              " 'sentido',\n",
              " 'que',\n",
              " 'eles',\n",
              " 'lhe',\n",
              " 'dão',\n",
              " ',',\n",
              " 'mas',\n",
              " 'no',\n",
              " 'que',\n",
              " 'lhe',\n",
              " 'pôs',\n",
              " 'o',\n",
              " 'vulgo',\n",
              " 'de',\n",
              " 'homem',\n",
              " 'calado',\n",
              " 'e',\n",
              " 'metido',\n",
              " 'consigo',\n",
              " '.',\n",
              " 'Dom',\n",
              " 'veio',\n",
              " 'por',\n",
              " 'ironia',\n",
              " ',',\n",
              " 'para',\n",
              " 'atribuir-me',\n",
              " 'fumos',\n",
              " 'de',\n",
              " 'fidalgo',\n",
              " '.',\n",
              " 'Tudo',\n",
              " 'por',\n",
              " 'estar',\n",
              " 'cochilando',\n",
              " '!',\n",
              " 'Também',\n",
              " 'não',\n",
              " 'achei',\n",
              " 'melhor',\n",
              " 'título',\n",
              " 'para',\n",
              " 'a',\n",
              " 'minha',\n",
              " 'narração',\n",
              " ';',\n",
              " 'se',\n",
              " 'não',\n",
              " 'tiver',\n",
              " 'outro',\n",
              " 'daqui',\n",
              " 'até',\n",
              " 'ao',\n",
              " 'fim',\n",
              " 'do',\n",
              " 'livro',\n",
              " ',',\n",
              " 'vai',\n",
              " 'este',\n",
              " 'mesmo',\n",
              " '.',\n",
              " 'O',\n",
              " 'meu',\n",
              " 'poeta',\n",
              " 'do',\n",
              " 'trem',\n",
              " 'ficará',\n",
              " 'sabendo',\n",
              " 'que',\n",
              " 'não',\n",
              " 'lhe',\n",
              " 'guardo',\n",
              " 'rancor',\n",
              " '.',\n",
              " 'E',\n",
              " 'com',\n",
              " 'pequeno',\n",
              " 'esforço',\n",
              " ',',\n",
              " 'sendo',\n",
              " 'o',\n",
              " 'título',\n",
              " 'seu',\n",
              " ',',\n",
              " 'poderá',\n",
              " 'cuidar',\n",
              " 'que',\n",
              " 'a',\n",
              " 'obra',\n",
              " 'é',\n",
              " 'sua',\n",
              " '.',\n",
              " 'Há',\n",
              " 'livros',\n",
              " 'que',\n",
              " 'apenas',\n",
              " 'terão',\n",
              " 'isso',\n",
              " 'dos',\n",
              " 'seus',\n",
              " 'autores',\n",
              " ';',\n",
              " 'alguns',\n",
              " 'nem',\n",
              " 'tanto',\n",
              " '.',\n",
              " 'CAPÍTULO',\n",
              " 'II',\n",
              " 'DO',\n",
              " 'LIVRO',\n",
              " 'Agora',\n",
              " 'que',\n",
              " 'expliquei',\n",
              " 'o',\n",
              " 'título',\n",
              " ',',\n",
              " 'passo',\n",
              " 'a',\n",
              " 'escrever',\n",
              " 'o',\n",
              " 'livro',\n",
              " '.',\n",
              " 'Antes',\n",
              " 'disso',\n",
              " ',',\n",
              " 'porém',\n",
              " ',',\n",
              " 'digamos',\n",
              " 'os',\n",
              " 'motivos',\n",
              " 'que',\n",
              " 'me',\n",
              " 'põem',\n",
              " 'a',\n",
              " 'pena',\n",
              " 'na',\n",
              " 'mão',\n",
              " '.',\n",
              " 'Vivo',\n",
              " 'só',\n",
              " ',',\n",
              " 'com',\n",
              " 'um',\n",
              " 'criado',\n",
              " '.',\n",
              " 'A',\n",
              " 'casa',\n",
              " 'em',\n",
              " 'que',\n",
              " 'moro',\n",
              " 'é',\n",
              " 'própria',\n",
              " ';',\n",
              " 'fi-la',\n",
              " 'construir',\n",
              " 'de',\n",
              " 'propósito',\n",
              " ',',\n",
              " 'levado',\n",
              " 'de',\n",
              " 'um',\n",
              " 'desejo',\n",
              " 'tão',\n",
              " 'particular',\n",
              " 'que',\n",
              " 'me',\n",
              " 'vexa',\n",
              " 'imprimi-lo',\n",
              " ',',\n",
              " 'mas',\n",
              " 'vá',\n",
              " 'lá',\n",
              " '.',\n",
              " 'Um',\n",
              " 'dia',\n",
              " ',',\n",
              " 'há',\n",
              " 'bastantes',\n",
              " 'anos',\n",
              " ',',\n",
              " 'lembrou-me',\n",
              " 'reproduzir',\n",
              " 'no',\n",
              " 'Engenho',\n",
              " 'Novo',\n",
              " 'a',\n",
              " 'casa',\n",
              " 'em',\n",
              " 'que',\n",
              " 'me',\n",
              " 'criei',\n",
              " 'na',\n",
              " 'antiga',\n",
              " 'Rua',\n",
              " 'de',\n",
              " 'Mata-cavalos',\n",
              " ',',\n",
              " 'dando-lhe',\n",
              " 'o',\n",
              " 'mesmo',\n",
              " 'aspecto',\n",
              " 'e',\n",
              " 'economia',\n",
              " 'daquela',\n",
              " 'outra',\n",
              " ',',\n",
              " 'que',\n",
              " 'desapareceu',\n",
              " '.',\n",
              " 'Construtor',\n",
              " 'e',\n",
              " 'pintor',\n",
              " 'entenderam',\n",
              " 'bem',\n",
              " 'as',\n",
              " 'indicações',\n",
              " 'que',\n",
              " 'lhes',\n",
              " 'fiz',\n",
              " ':',\n",
              " 'é',\n",
              " 'o',\n",
              " 'mesmo',\n",
              " 'prédio',\n",
              " 'assobradado',\n",
              " ',',\n",
              " 'três',\n",
              " 'janelas',\n",
              " 'de',\n",
              " 'frente',\n",
              " ',',\n",
              " 'varanda',\n",
              " 'ao',\n",
              " 'fundo',\n",
              " ',',\n",
              " 'as',\n",
              " 'mesmas',\n",
              " 'alcovas',\n",
              " 'e',\n",
              " 'salas',\n",
              " '.',\n",
              " 'Na',\n",
              " 'principal',\n",
              " 'destas',\n",
              " ',',\n",
              " 'a',\n",
              " 'pintura',\n",
              " 'do',\n",
              " 'teto',\n",
              " 'e',\n",
              " 'das',\n",
              " 'paredes',\n",
              " 'é',\n",
              " 'mais',\n",
              " 'ou',\n",
              " 'menos',\n",
              " 'igual',\n",
              " ',',\n",
              " 'umas',\n",
              " 'grinaldas',\n",
              " 'de',\n",
              " 'flores',\n",
              " 'miúdas',\n",
              " 'e',\n",
              " 'grandes',\n",
              " 'pássaros',\n",
              " 'que',\n",
              " 'as',\n",
              " 'tomam',\n",
              " 'nos',\n",
              " 'bicos',\n",
              " ',',\n",
              " 'de',\n",
              " 'espaço',\n",
              " 'a',\n",
              " 'espaço',\n",
              " '.',\n",
              " 'Nos',\n",
              " 'quatro',\n",
              " 'cantos',\n",
              " 'do',\n",
              " 'teto',\n",
              " 'as',\n",
              " 'figuras',\n",
              " 'das',\n",
              " 'estações',\n",
              " ',',\n",
              " 'e',\n",
              " 'ao',\n",
              " 'centro',\n",
              " 'das',\n",
              " 'paredes',\n",
              " 'os',\n",
              " 'medalhões',\n",
              " 'de',\n",
              " 'César',\n",
              " ',',\n",
              " 'Augusto',\n",
              " ',',\n",
              " 'Nero',\n",
              " 'e',\n",
              " 'Massinissa',\n",
              " ',',\n",
              " 'com',\n",
              " 'os',\n",
              " 'nomes',\n",
              " 'por',\n",
              " 'baixo',\n",
              " '...',\n",
              " 'Não',\n",
              " 'alcanço',\n",
              " 'a',\n",
              " 'razão',\n",
              " 'de',\n",
              " 'tais',\n",
              " 'personagens',\n",
              " '.',\n",
              " 'Quando',\n",
              " 'fomos',\n",
              " 'para',\n",
              " 'a',\n",
              " 'casa',\n",
              " 'de',\n",
              " 'Mata-cavalos',\n",
              " ',',\n",
              " 'já',\n",
              " 'ela',\n",
              " 'estava',\n",
              " 'assim',\n",
              " 'decorada',\n",
              " ';',\n",
              " 'vinha',\n",
              " 'do',\n",
              " 'decênio',\n",
              " 'anterior',\n",
              " '.',\n",
              " 'Naturalmente',\n",
              " 'era',\n",
              " 'gosto',\n",
              " 'do',\n",
              " 'tempo',\n",
              " 'meter',\n",
              " 'sabor',\n",
              " 'clássico',\n",
              " 'e',\n",
              " 'figuras',\n",
              " 'antigas',\n",
              " 'em',\n",
              " 'pinturas',\n",
              " 'americanas',\n",
              " '.',\n",
              " 'O',\n",
              " 'mais',\n",
              " 'é',\n",
              " 'também',\n",
              " 'análogo',\n",
              " 'e',\n",
              " 'parecido',\n",
              " '.',\n",
              " 'Tenho',\n",
              " 'chacarinha',\n",
              " ',',\n",
              " 'flores',\n",
              " ',',\n",
              " 'legume',\n",
              " ',',\n",
              " 'uma',\n",
              " 'casuarina',\n",
              " ',',\n",
              " 'um',\n",
              " 'poço',\n",
              " 'e',\n",
              " 'lavadouro',\n",
              " '.',\n",
              " 'Uso',\n",
              " 'louça',\n",
              " 'velha',\n",
              " 'e',\n",
              " 'mobília',\n",
              " 'velha',\n",
              " '.',\n",
              " 'Enfim',\n",
              " ',',\n",
              " 'agora',\n",
              " ',',\n",
              " 'como',\n",
              " 'outrora',\n",
              " ',',\n",
              " 'há',\n",
              " 'aqui',\n",
              " 'o',\n",
              " 'mesmo',\n",
              " 'contraste',\n",
              " 'da',\n",
              " 'vida',\n",
              " 'interior',\n",
              " ',',\n",
              " 'que',\n",
              " 'é',\n",
              " 'pacata',\n",
              " ',',\n",
              " 'com',\n",
              " 'a',\n",
              " 'exterior',\n",
              " ',',\n",
              " 'que',\n",
              " 'é',\n",
              " 'ruidosa',\n",
              " '.',\n",
              " 'O',\n",
              " 'meu',\n",
              " 'fim',\n",
              " 'evidente',\n",
              " 'era',\n",
              " 'atar',\n",
              " 'as',\n",
              " 'duas',\n",
              " 'pontas',\n",
              " 'da',\n",
              " 'vida',\n",
              " ',',\n",
              " 'e',\n",
              " 'restaurar',\n",
              " 'na',\n",
              " 'velhice',\n",
              " 'a',\n",
              " 'adolescência',\n",
              " '.',\n",
              " 'Pois',\n",
              " ',',\n",
              " 'senhor',\n",
              " ',',\n",
              " 'não',\n",
              " 'consegui',\n",
              " 'recompor',\n",
              " 'o',\n",
              " 'que',\n",
              " 'foi',\n",
              " 'nem',\n",
              " 'o',\n",
              " 'que',\n",
              " 'fui',\n",
              " '.',\n",
              " 'Em',\n",
              " 'tudo',\n",
              " ',',\n",
              " 'se',\n",
              " 'o',\n",
              " 'rosto',\n",
              " 'é',\n",
              " 'igual',\n",
              " ',',\n",
              " 'a',\n",
              " 'fisionomia',\n",
              " 'é',\n",
              " 'diferente',\n",
              " '.',\n",
              " 'Se',\n",
              " 'só',\n",
              " 'me',\n",
              " 'faltassem',\n",
              " 'os',\n",
              " 'outros',\n",
              " ',',\n",
              " 'vá',\n",
              " ';',\n",
              " 'um',\n",
              " 'homem',\n",
              " 'consola-se',\n",
              " 'mais',\n",
              " 'ou',\n",
              " 'menos',\n",
              " 'das',\n",
              " 'pessoas',\n",
              " 'que',\n",
              " 'perde',\n",
              " ';',\n",
              " 'mais',\n",
              " 'falto',\n",
              " 'eu',\n",
              " 'mesmo',\n",
              " ',',\n",
              " 'e',\n",
              " 'esta',\n",
              " 'lacuna',\n",
              " 'é',\n",
              " 'tudo',\n",
              " '.',\n",
              " 'O',\n",
              " 'que',\n",
              " 'aqui',\n",
              " 'está',\n",
              " 'é',\n",
              " ',',\n",
              " 'mal',\n",
              " 'comparando',\n",
              " ',',\n",
              " 'semelhante',\n",
              " 'à',\n",
              " 'pintura',\n",
              " 'que',\n",
              " 'se',\n",
              " 'põe',\n",
              " 'na',\n",
              " 'barba',\n",
              " 'e',\n",
              " 'nos',\n",
              " 'cabelos',\n",
              " ',',\n",
              " 'e',\n",
              " 'que',\n",
              " 'apenas',\n",
              " 'conserva',\n",
              " 'o',\n",
              " 'hábito',\n",
              " 'externo',\n",
              " ',',\n",
              " 'como',\n",
              " 'se',\n",
              " 'diz',\n",
              " 'nas',\n",
              " 'autópsias',\n",
              " ';',\n",
              " 'o',\n",
              " 'interno',\n",
              " 'não',\n",
              " 'agüenta',\n",
              " 'tinta',\n",
              " '.',\n",
              " 'Uma',\n",
              " 'certidão',\n",
              " 'que',\n",
              " 'me',\n",
              " 'desse',\n",
              " 'vinte',\n",
              " 'anos',\n",
              " 'de',\n",
              " 'idade',\n",
              " 'poderia',\n",
              " 'enganar',\n",
              " 'os',\n",
              " 'estranhos',\n",
              " ',',\n",
              " 'como',\n",
              " 'todos',\n",
              " 'os',\n",
              " 'documentos',\n",
              " 'falsos',\n",
              " ',',\n",
              " 'mas',\n",
              " 'não',\n",
              " 'a',\n",
              " 'mim',\n",
              " '.',\n",
              " 'Os',\n",
              " 'amigos',\n",
              " 'que',\n",
              " 'me',\n",
              " 'restam',\n",
              " 'são',\n",
              " 'de',\n",
              " 'data',\n",
              " 'recente',\n",
              " ';',\n",
              " 'todos',\n",
              " 'os',\n",
              " 'antigos',\n",
              " 'foram',\n",
              " 'estudar',\n",
              " 'a',\n",
              " 'geologia',\n",
              " 'dos',\n",
              " 'campos-santos',\n",
              " '.',\n",
              " 'Quanto',\n",
              " 'às',\n",
              " 'amigas',\n",
              " ',',\n",
              " 'algumas',\n",
              " 'datam',\n",
              " 'de',\n",
              " 'quinze',\n",
              " 'anos',\n",
              " ',',\n",
              " 'outras',\n",
              " 'de',\n",
              " 'menos',\n",
              " ',',\n",
              " 'e',\n",
              " 'quase',\n",
              " 'todas',\n",
              " 'crêem',\n",
              " 'na',\n",
              " 'mocidade',\n",
              " '.',\n",
              " 'Duas',\n",
              " 'ou',\n",
              " 'três',\n",
              " 'fariam',\n",
              " 'crer',\n",
              " 'nela',\n",
              " 'aos',\n",
              " 'outros',\n",
              " ',',\n",
              " 'mas',\n",
              " 'a',\n",
              " 'língua',\n",
              " 'que',\n",
              " 'falam',\n",
              " 'obriga',\n",
              " 'muita',\n",
              " 'vez',\n",
              " 'a',\n",
              " 'consultar',\n",
              " 'os',\n",
              " 'dicionários',\n",
              " ',',\n",
              " 'e',\n",
              " 'tal',\n",
              " 'freqüência',\n",
              " 'é',\n",
              " 'cansativa',\n",
              " '.',\n",
              " 'Entretanto',\n",
              " ',',\n",
              " 'vida',\n",
              " 'diferente',\n",
              " 'não',\n",
              " 'quer',\n",
              " 'dizer',\n",
              " 'vida',\n",
              " 'pior',\n",
              " ';',\n",
              " 'é',\n",
              " 'outra',\n",
              " 'coisa',\n",
              " '.',\n",
              " 'A',\n",
              " 'certos',\n",
              " 'respeitos',\n",
              " ',',\n",
              " 'aquela',\n",
              " 'vida',\n",
              " 'antiga',\n",
              " 'aparece-me',\n",
              " 'despida',\n",
              " 'de',\n",
              " 'muitos',\n",
              " 'encantos',\n",
              " 'que',\n",
              " 'lhe',\n",
              " 'achei',\n",
              " ';',\n",
              " 'mas',\n",
              " 'é',\n",
              " ...]"
            ]
          },
          "metadata": {},
          "execution_count": 27
        }
      ]
    },
    {
      "cell_type": "markdown",
      "metadata": {
        "id": "6GG88HlSHDSg"
      },
      "source": [
        "Podemos contar o tamanho do texto obtido:"
      ]
    },
    {
      "cell_type": "code",
      "metadata": {
        "colab": {
          "base_uri": "https://localhost:8080/"
        },
        "id": "nuaqSEeMHJLt",
        "outputId": "d8ceac38-5e6f-48e7-8725-f1fa7159f4a4"
      },
      "source": [
        "len(palavras)"
      ],
      "execution_count": null,
      "outputs": [
        {
          "output_type": "execute_result",
          "data": {
            "text/plain": [
              "78936"
            ]
          },
          "metadata": {},
          "execution_count": 28
        }
      ]
    },
    {
      "cell_type": "code",
      "metadata": {
        "colab": {
          "base_uri": "https://localhost:8080/"
        },
        "id": "LQUYPiH-vmqY",
        "outputId": "22d37b20-5abb-408f-b057-33ea39b8a42e"
      },
      "source": [
        "len(obra)"
      ],
      "execution_count": null,
      "outputs": [
        {
          "output_type": "execute_result",
          "data": {
            "text/plain": [
              "373504"
            ]
          },
          "metadata": {},
          "execution_count": 29
        }
      ]
    },
    {
      "cell_type": "markdown",
      "metadata": {
        "id": "ajE03pmgF8oA"
      },
      "source": [
        "### Limpeza do texto"
      ]
    },
    {
      "cell_type": "markdown",
      "metadata": {
        "id": "YpIpXS9wGFo3"
      },
      "source": [
        "Em aplicações de PLN, são avaliadas unidades de texto como sílabas, palavras, frases, entre outras, e não os caracteres do texto. Sendo assim, geralmente são empregadas estratégias de limpeza do texto.\n",
        "\n",
        "Vamos realizar a remoção da pontuação e a conversão de todo o texto para caracteres minúsculos. Podemos definir uma função para que isso possa ser feito sempre que necessário, sem repetição de códigos:"
      ]
    },
    {
      "cell_type": "code",
      "metadata": {
        "id": "hfLrC7mwF1KQ"
      },
      "source": [
        "def limpar(lista):\n",
        "  lixo = '.,:.;?!\"`()[]{}\\/|#$%^&*'\n",
        "  quase_limpo = [x.strip(lixo).lower() for x in lista]\n",
        "  return [x for x in quase_limpo if x.isalpha() or '-' in x]"
      ],
      "execution_count": null,
      "outputs": []
    },
    {
      "cell_type": "code",
      "metadata": {
        "colab": {
          "base_uri": "https://localhost:8080/"
        },
        "id": "Uz4-rq78Ikjp",
        "outputId": "0eaf71ff-1cba-4be1-dcd1-862b3e82dc24"
      },
      "source": [
        "corpus_sujo = ['banana', 'maçã.', 'abaca.te', ':Melancia']\n",
        "print(limpar(corpus_sujo))"
      ],
      "execution_count": null,
      "outputs": [
        {
          "output_type": "stream",
          "name": "stdout",
          "text": [
            "['banana', 'maçã', 'melancia']\n"
          ]
        }
      ]
    },
    {
      "cell_type": "markdown",
      "metadata": {
        "id": "Za0TzKTgIvX5"
      },
      "source": [
        "Vamos comparar o copus da obra Dom Casmurro antes e depois da limpeza:"
      ]
    },
    {
      "cell_type": "code",
      "metadata": {
        "colab": {
          "base_uri": "https://localhost:8080/"
        },
        "id": "rIaAuS-6IrGI",
        "outputId": "3142f3f2-de9b-4c2f-c46f-d675887c0ced"
      },
      "source": [
        "print(\"Antes da limpeza:\", len(palavras))\n",
        "palavras = limpar(palavras)\n",
        "print(\"Depois da limpeza:\", len(palavras))"
      ],
      "execution_count": null,
      "outputs": [
        {
          "output_type": "stream",
          "name": "stdout",
          "text": [
            "Antes da limpeza: 78936\n",
            "Depois da limpeza: 65212\n"
          ]
        }
      ]
    },
    {
      "cell_type": "markdown",
      "metadata": {
        "id": "utjtgtodL0i0"
      },
      "source": [
        "Outra forma de realizar a limpeza de um *corpus* é através da remoção de **palavras vazias**. Palavras vazias são palavras que podem ser descartadas antes de uma análise pois possuem reduzida contribuição semântica ou nocional. Geralmente são preposições, artigos, conjunções, alguns pronomes e advérbios.\n",
        "\n",
        "A NLTK traz uma lista de 203 palavras vazias para o português. Podemos importa-las usando:"
      ]
    },
    {
      "cell_type": "code",
      "metadata": {
        "id": "swZW3tOyI8T5"
      },
      "source": [
        "vazias = nltk.corpus.stopwords.words('portuguese')"
      ],
      "execution_count": null,
      "outputs": []
    },
    {
      "cell_type": "markdown",
      "metadata": {
        "id": "P0Z0QGBLNPZF"
      },
      "source": [
        "Vamos ver um exemplo:"
      ]
    },
    {
      "cell_type": "code",
      "metadata": {
        "colab": {
          "base_uri": "https://localhost:8080/"
        },
        "id": "cp19flEINJDV",
        "outputId": "4b40e189-7dec-492d-b2b3-3c90e7cf382a"
      },
      "source": [
        "sentenca = 'Eu estou aprendendo Python. É uma das linguagens de programação mais populares.'\n",
        "palavras_da_sentenca = word_tokenize(sentenca)\n",
        "print(palavras_da_sentenca)\n",
        "sentenca_sem_palavras_vazias = ' '.join([palavra for palavra in palavras_da_sentenca if palavra not in vazias])\n",
        "print(sentenca_sem_palavras_vazias)"
      ],
      "execution_count": null,
      "outputs": [
        {
          "output_type": "stream",
          "name": "stdout",
          "text": [
            "['Eu', 'estou', 'aprendendo', 'Python', '.', 'É', 'uma', 'das', 'linguagens', 'de', 'programação', 'mais', 'populares', '.']\n",
            "Eu aprendendo Python . É linguagens programação populares .\n"
          ]
        }
      ]
    },
    {
      "cell_type": "markdown",
      "metadata": {
        "id": "PXoJX8rbOCHa"
      },
      "source": [
        "O código acima realizou a remoção das palavras que são consideradas vazias, deixando a sentença estranha para a leitura, mas com mais significado para análises com PLN.\n",
        "\n",
        "Vamos criar uma função que remova as palavras vazias e aplicá-la a obra Dom Casmurro e verificar a mudança no tamanho do *corpus*."
      ]
    },
    {
      "cell_type": "code",
      "metadata": {
        "id": "sctkW9U5N6ym"
      },
      "source": [
        "def remove_vazias(lista):\n",
        "  return [palavra for palavra in lista if palavra not in vazias]"
      ],
      "execution_count": null,
      "outputs": []
    },
    {
      "cell_type": "code",
      "metadata": {
        "colab": {
          "base_uri": "https://localhost:8080/"
        },
        "id": "BnbMEEekOtBC",
        "outputId": "8df5f0ee-e465-44d2-a153-de52f0708069"
      },
      "source": [
        "print(\"Antes da limpeza de palavras vazias:\", len(palavras))\n",
        "palavras_sem_vazias = remove_vazias(palavras)\n",
        "print(\"Depois da limpeza de palavras vazias:\", len(palavras_sem_vazias))"
      ],
      "execution_count": null,
      "outputs": [
        {
          "output_type": "stream",
          "name": "stdout",
          "text": [
            "Antes da limpeza de palavras vazias: 65212\n",
            "Depois da limpeza de palavras vazias: 34737\n"
          ]
        }
      ]
    },
    {
      "cell_type": "markdown",
      "metadata": {
        "id": "sb-rPHV4PDvs"
      },
      "source": [
        "### Contagens"
      ]
    },
    {
      "cell_type": "markdown",
      "metadata": {
        "id": "B_UdQusFPGHa"
      },
      "source": [
        "Outra tarefa comum no PLN é a contagem de palavras para gerar algumas estatísticas e analisar o vocabulário e a riqueza lexical."
      ]
    },
    {
      "cell_type": "markdown",
      "metadata": {
        "id": "9_bxFinnPVcL"
      },
      "source": [
        "#### Vocabulário"
      ]
    },
    {
      "cell_type": "markdown",
      "metadata": {
        "id": "UVC8n2JyPggH"
      },
      "source": [
        "O vocabulário é basicamente uma lista de todas as palavras que aparecem no *corpus*. É como um dicionário, e sendo assim, não apresenta repetição de palavras. Podemos obter o vocabulário facilmente:"
      ]
    },
    {
      "cell_type": "code",
      "metadata": {
        "colab": {
          "base_uri": "https://localhost:8080/"
        },
        "id": "TnBu1BaQO3bR",
        "outputId": "cfa4fa59-dda8-4843-b7ad-6b3f67e4e769"
      },
      "source": [
        "vocabulario_sem_limpeza = set(palavras)\n",
        "print(\"Vocabulário sem a remoção de palavras vazias: \", len(vocabulario_sem_limpeza))\n",
        "vocabulario = set(palavras_sem_vazias)\n",
        "print(\"Vocabulário com a remoção de palavras vazias: \", len(vocabulario))"
      ],
      "execution_count": null,
      "outputs": [
        {
          "output_type": "stream",
          "name": "stdout",
          "text": [
            "Vocabulário sem a remoção de palavras vazias:  9238\n",
            "Vocabulário com a remoção de palavras vazias:  9069\n"
          ]
        }
      ]
    },
    {
      "cell_type": "markdown",
      "metadata": {
        "id": "78IlMC6UT6xd"
      },
      "source": [
        "#### Riqueza lexical"
      ]
    },
    {
      "cell_type": "markdown",
      "metadata": {
        "id": "FV7vGLnGT_oN"
      },
      "source": [
        "A riqueza lexical trata-se do número de palavras distintas dividido pelo número total de palavras. O intuito dessa conta é que, quanto mais palavras diferentes aparecem no *corpus*, maior a diversidade (ou riqueza) do vocabulário.\n",
        "\n",
        "Sendo assim, podemos fazer a análise da riqueza lexical de forma muito simples:"
      ]
    },
    {
      "cell_type": "code",
      "metadata": {
        "colab": {
          "base_uri": "https://localhost:8080/"
        },
        "id": "nH6opdtsSBL7",
        "outputId": "6050f4ce-b20d-466c-90a2-e5a7809b818f"
      },
      "source": [
        "riqueza = len(vocabulario) / len(palavras)\n",
        "riqueza"
      ],
      "execution_count": null,
      "outputs": [
        {
          "output_type": "execute_result",
          "data": {
            "text/plain": [
              "0.13906949641170338"
            ]
          },
          "metadata": {},
          "execution_count": 38
        }
      ]
    },
    {
      "cell_type": "markdown",
      "metadata": {
        "id": "2GDlDSbHP4NF"
      },
      "source": [
        "#### Ocorrências"
      ]
    },
    {
      "cell_type": "markdown",
      "metadata": {
        "id": "rCCWLnvLQWpM"
      },
      "source": [
        "É comum querermos saber quais são as palavras que possuem mais ocorrências em um texto. Podemos criar um dicionário no Python que associa a palavra a sua contagem de ocorrências."
      ]
    },
    {
      "cell_type": "code",
      "metadata": {
        "id": "f6aIZcqcP2za"
      },
      "source": [
        "from collections import defaultdict\n",
        "def ocorrencias(lista_palavras):\n",
        "    dicionario = defaultdict(int)\n",
        "    for p in lista_palavras:\n",
        "        dicionario[p] += 1\n",
        "    \n",
        "    return dicionario"
      ],
      "execution_count": null,
      "outputs": []
    },
    {
      "cell_type": "markdown",
      "metadata": {
        "id": "_-zLbSfhSvhO"
      },
      "source": [
        "Utilizando a função acima, podemos obter uma estrutura do Python que contém uma chave e um valor, no nosso caso uma palavra e sua contagem de ocorrências.\n",
        "\n",
        "Podemos utilizar uma função do Python chamada `sorted()` que, com algumas alterações, pode ordenar as palavras em função da sua ocorrência. No exemplo a seguir, veremos as 10 palavras mais frequentes considerando a obra Dom Casmurro sem a remoção das palavras vazias:"
      ]
    },
    {
      "cell_type": "code",
      "metadata": {
        "colab": {
          "base_uri": "https://localhost:8080/"
        },
        "id": "7BGZIKOLRgkT",
        "outputId": "42c79114-184a-4b7b-dae7-e18a67905c69"
      },
      "source": [
        "dic = ocorrencias(palavras)\n",
        "mais_frequentes = sorted(dic.items(), key=lambda tupla:tupla[1], reverse=True)[:10]\n",
        "for palavra, n in mais_frequentes:\n",
        "    print(palavra, '\\t', n)"
      ],
      "execution_count": null,
      "outputs": [
        {
          "output_type": "stream",
          "name": "stdout",
          "text": [
            "que \t 2684\n",
            "a \t 2483\n",
            "e \t 2185\n",
            "de \t 1975\n",
            "o \t 1667\n",
            "não \t 1524\n",
            "um \t 771\n",
            "é \t 715\n",
            "os \t 660\n",
            "da \t 626\n"
          ]
        }
      ]
    },
    {
      "cell_type": "markdown",
      "metadata": {
        "id": "2fJ_KIz4Sva8"
      },
      "source": [
        "Agora, o mesmo trecho pode ser utilizado para verificarmos as 10 mais frequentes com a limpeza de palavras vazias:"
      ]
    },
    {
      "cell_type": "code",
      "metadata": {
        "colab": {
          "base_uri": "https://localhost:8080/"
        },
        "id": "apzffFztR9EO",
        "outputId": "00c8b987-636d-416e-b68c-7d136e7a4c4b"
      },
      "source": [
        "dic = ocorrencias(palavras_sem_vazias)\n",
        "mais_frequentes = sorted(dic.items(), key=lambda tupla:tupla[1], reverse=True)[:20]\n",
        "for palavra, n in mais_frequentes:\n",
        "    print(palavra, '\\t', n)"
      ],
      "execution_count": null,
      "outputs": [
        {
          "output_type": "stream",
          "name": "stdout",
          "text": [
            "capitu \t 341\n",
            "mãe \t 228\n",
            "dias \t 192\n",
            "tudo \t 189\n",
            "capítulo \t 188\n",
            "casa \t 169\n",
            "ser \t 167\n",
            "olhos \t 163\n",
            "mim \t 162\n",
            "josé \t 159\n",
            "assim \t 158\n",
            "vez \t 147\n",
            "agora \t 145\n",
            "ainda \t 141\n",
            "outra \t 138\n",
            "nada \t 135\n",
            "disse \t 123\n",
            "tão \t 122\n",
            "tempo \t 120\n",
            "padre \t 112\n"
          ]
        }
      ]
    },
    {
      "cell_type": "markdown",
      "metadata": {
        "id": "9nn5yZU4VVeF"
      },
      "source": [
        "### Stemming"
      ]
    },
    {
      "cell_type": "markdown",
      "metadata": {
        "id": "gNnea2KuVrz-"
      },
      "source": [
        "O processo de *stemming* está relacionado a reduzir as palavras a suas raízes morfológicas, eliminando assim algumas formas flexionadas que possuem o mesmo significado.\n",
        "\n",
        "Essa é uma estratégia que deve ser usada somente em determinadas situações, uma vez que homônimos indesejados podem surgir, como por exemplo: \"nada\", advérbio, e \"nadaram\", forma conjulgada do verbo \"nadar\", seriam reduzidas na raiz \"nad\". Todas essas raízes seriam contadas uma única vez, afetando a descrição do *corpus*. Porém a técnica pode ser útil na identificação de termos mais raros no *corpus*, as chamadas **Hápax legômena**.\n",
        "\n",
        "Podemos utilizar um **stemmer** para reduzir as palavras. Vamos empregar um dos módulos da NLTK."
      ]
    },
    {
      "cell_type": "code",
      "metadata": {
        "colab": {
          "base_uri": "https://localhost:8080/"
        },
        "id": "PEkqd8ieVekU",
        "outputId": "52e2693f-4e45-4fc1-a141-85f0e0c485c1"
      },
      "source": [
        "stemmer = nltk.stem.RSLPStemmer()\n",
        "raizes = [stemmer.stem(x) for x in set(palavras)]\n",
        "raizes[:10]"
      ],
      "execution_count": null,
      "outputs": [
        {
          "output_type": "execute_result",
          "data": {
            "text/plain": [
              "['explic',\n",
              " 'tiv',\n",
              " 'naquel',\n",
              " 'desapareç',\n",
              " 'estir',\n",
              " 'levá-l',\n",
              " 'cheg',\n",
              " 'epístol',\n",
              " 'consider',\n",
              " 'seren']"
            ]
          },
          "metadata": {},
          "execution_count": 43
        }
      ]
    },
    {
      "cell_type": "markdown",
      "metadata": {
        "id": "cIxxe6SSYCJ-"
      },
      "source": [
        "Podemos calcular a riqueza lexical utilizando as raízes, lembrando porém que a forma tradicional é a apresentada anteriormente:"
      ]
    },
    {
      "cell_type": "code",
      "metadata": {
        "colab": {
          "base_uri": "https://localhost:8080/"
        },
        "id": "W708dQ8CXrF6",
        "outputId": "cdec08f1-cb1a-4e44-daa6-597f0f06d20d"
      },
      "source": [
        "len(set(raizes)) / len(raizes)"
      ],
      "execution_count": null,
      "outputs": [
        {
          "output_type": "execute_result",
          "data": {
            "text/plain": [
              "0.5365880060619181"
            ]
          },
          "metadata": {},
          "execution_count": 44
        }
      ]
    },
    {
      "cell_type": "markdown",
      "metadata": {
        "id": "N192l9tpYn3V"
      },
      "source": [
        "### Etiquetagem"
      ]
    },
    {
      "cell_type": "markdown",
      "metadata": {
        "id": "HqxKQ0S8YrNl"
      },
      "source": [
        "A etiquetagem morfossintática, também conhecida com PoS Tagging, é o processo no qual as palavras de um *corpus* recebem uma etiqueta que representa a parte do discurso (part of speech) equivalente a palavra.\n",
        "\n",
        "Para realizar a etiquetagem, podemos empregar a biblioteca spaCy e seus componentes adicionais que permitem a etiquetagem de textos em português."
      ]
    },
    {
      "cell_type": "code",
      "metadata": {
        "colab": {
          "base_uri": "https://localhost:8080/"
        },
        "id": "WLtRdY_IYT5H",
        "outputId": "30b06c63-8c7e-45fa-a02b-0160fd4e46f3"
      },
      "source": [
        "import spacy\n",
        "spacy.cli.download(\"pt_core_news_sm\") # Download dos recursos em pt-BR\n",
        "nlp = spacy.load('pt_core_news_sm') # Carregamento dos recursos em pt-BR"
      ],
      "execution_count": null,
      "outputs": [
        {
          "output_type": "stream",
          "name": "stdout",
          "text": [
            "\u001b[38;5;2m✔ Download and installation successful\u001b[0m\n",
            "You can now load the model via spacy.load('pt_core_news_sm')\n"
          ]
        }
      ]
    },
    {
      "cell_type": "markdown",
      "metadata": {
        "id": "4PxNtckZaIa8"
      },
      "source": [
        "Vamos executar um exemplo simples:"
      ]
    },
    {
      "cell_type": "code",
      "metadata": {
        "colab": {
          "base_uri": "https://localhost:8080/"
        },
        "id": "S7fXXLobaDi9",
        "outputId": "b9ebc08b-d95b-4bb4-f132-32f1828a1597"
      },
      "source": [
        "doc = nlp('Será que vai funcionar essa etiquetagem?')\n",
        "etiq = [(x.orth_, x.pos_) for x in doc]\n",
        "print(etiq)"
      ],
      "execution_count": null,
      "outputs": [
        {
          "output_type": "stream",
          "name": "stdout",
          "text": [
            "[('Será', 'VERB'), ('que', 'SCONJ'), ('vai', 'AUX'), ('funcionar', 'VERB'), ('essa', 'DET'), ('etiquetagem', 'NOUN'), ('?', 'PUNCT')]\n"
          ]
        }
      ]
    },
    {
      "cell_type": "markdown",
      "metadata": {
        "id": "y7Tl4x1EaOHN"
      },
      "source": [
        "Note que as etiquetas representam as funções morfológicas de cada palavra. Esses rótulos estão em inglês. Esse [post](https://stackoverflow.com/questions/40288323/what-do-spacys-part-of-speech-and-dependency-tags-mean) do stackoverflow tem uma lista que ajuda a descobrir rapidamente o significado de cada uma."
      ]
    },
    {
      "cell_type": "markdown",
      "metadata": {
        "id": "9z6gOdlVbeXu"
      },
      "source": [
        "### Gráficos"
      ]
    },
    {
      "cell_type": "markdown",
      "metadata": {
        "id": "NLjNbnwrbh5I"
      },
      "source": [
        "Alguns gráficos podem ser gerados para auxiliar na análise dos textos. Veremos dois: um gráfico de linha com as frequências dos *tokens* e um gráfico de barras para representar a etiquetagem."
      ]
    },
    {
      "cell_type": "markdown",
      "metadata": {
        "id": "ThW-GPc8cRa3"
      },
      "source": [
        "#### Frequências"
      ]
    },
    {
      "cell_type": "markdown",
      "metadata": {
        "id": "idTnqts1cY7m"
      },
      "source": [
        "Vamos gerar um gráfico de linha para exibir as 20 palavras mais frequentes da obra Dom Casmurro. A NLTK possui um módulo que facilita a plotagem desse gráfico:\n"
      ]
    },
    {
      "cell_type": "code",
      "metadata": {
        "colab": {
          "base_uri": "https://localhost:8080/",
          "height": 311
        },
        "id": "jSiAV4JCaNE1",
        "outputId": "4c69c9a1-7cbb-4aac-e011-7240c971cc14"
      },
      "source": [
        "freq = nltk.FreqDist(palavras_sem_vazias)\n",
        "freq.plot(20, cumulative=False)"
      ],
      "execution_count": null,
      "outputs": [
        {
          "output_type": "display_data",
          "data": {
            "image/png": "[encoded data removed]",
            "text/plain": [
              "<Figure size 432x288 with 1 Axes>"
            ]
          },
          "metadata": {
            "needs_background": "light"
          }
        }
      ]
    },
    {
      "cell_type": "markdown",
      "metadata": {
        "id": "zoGwBjW7dcdi"
      },
      "source": [
        "#### Utilização de Partes do Discurso"
      ]
    },
    {
      "cell_type": "markdown",
      "metadata": {
        "id": "cL6etCdNde3V"
      },
      "source": [
        "Para visualizar as partes do discurso mais frequentes, utilizaremos apenas as etiquetas mais tradicionais, eliminando as de pontuação, espaços em branco, símbolos não-alfabéticos, numerais e palavras irreconhecíveis. Vamos utilizar também a biblioteca matplotlib, muito empregada no Python para a construção de gráficos. O código a seguir produz um gráfico de barras com a distribuição de frequência das partes do discurso na obra Dom Casmurro:"
      ]
    },
    {
      "cell_type": "code",
      "metadata": {
        "colab": {
          "base_uri": "https://localhost:8080/",
          "height": 336
        },
        "id": "-MScepTBdIm2",
        "outputId": "7f3f8bad-7482-44e8-8db5-d354e8304d5c"
      },
      "source": [
        "import matplotlib.pyplot as plt\n",
        "from collections import defaultdict\n",
        "\n",
        "lixo = ['PUNCT', 'SPACE', 'X', 'SYM', 'NUM']\n",
        "doc = nlp(obra)\n",
        "etiq = [(pal.orth_, pal.pos_) for pal in doc]\n",
        "pos2 = [pos for (pal, pos) in etiq if pos not in lixo]\n",
        "cont = defaultdict(int)\n",
        "for p in pos2:\n",
        "    cont[p] += 1\n",
        "frequencia = sorted(cont.items(), key=lambda tupla:tupla[1], reverse=True)\n",
        "cont = defaultdict(int)\n",
        "for palavra, n in frequencia:\n",
        "  cont[palavra] = n\n",
        "fig = plt.figure()\n",
        "ax = fig.add_axes([0,0,1,1])\n",
        "nomes = cont.keys()\n",
        "ocorrencias = cont.values()\n",
        "ax.bar(nomes,ocorrencias)\n",
        "plt.show()"
      ],
      "execution_count": null,
      "outputs": [
        {
          "output_type": "display_data",
          "data": {
            "image/png": "[encoded data removed]",
            "text/plain": [
              "<Figure size 432x288 with 1 Axes>"
            ]
          },
          "metadata": {
            "needs_background": "light"
          }
        }
      ]
    },
    {
      "cell_type": "code",
      "metadata": {
        "id": "N9NKUfAX2JW6"
      },
      "source": [
        ""
      ],
      "execution_count": null,
      "outputs": []
    }
  ]
}