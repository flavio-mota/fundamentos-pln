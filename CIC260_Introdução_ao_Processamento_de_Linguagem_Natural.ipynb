{
  "nbformat": 4,
  "nbformat_minor": 0,
  "metadata": {
    "colab": {
      "name": "CIC260 - Introdução ao Processamento de Linguagem Natural.ipynb",
      "provenance": [],
      "collapsed_sections": [],
      "toc_visible": true,
      "authorship_tag": "ABX9TyPTQxzWTfyGinC6j0HpuzCg",
      "include_colab_link": true
    },
    "kernelspec": {
      "name": "python3",
      "display_name": "Python 3"
    },
    "language_info": {
      "name": "python"
    }
  },
  "cells": [
    {
      "cell_type": "markdown",
      "metadata": {
        "id": "view-in-github",
        "colab_type": "text"
      },
      "source": [
        "<a href=\"https://colab.research.google.com/github/flavio-mota/fundamentos-pln/blob/master/CIC260_Introdu%C3%A7%C3%A3o_ao_Processamento_de_Linguagem_Natural.ipynb\" target=\"_parent\"><img src=\"https://colab.research.google.com/assets/colab-badge.svg\" alt=\"Open In Colab\"/></a>"
      ]
    },
    {
      "cell_type": "markdown",
      "metadata": {
        "id": "TTkIQCYUkmEH"
      },
      "source": [
        "# Introdução ao Processamento de Linguagem Natural (PLN)"
      ]
    },
    {
      "cell_type": "markdown",
      "metadata": {
        "id": "0H_sVHX_ky2H"
      },
      "source": [
        "## Objetivos gerais:\n",
        "\n",
        "\n",
        "*   Apresentar noções básicas de sobre o que é o PLN\n",
        "*   Criar funções simples que realizem a limpeza e análise de textos\n",
        "*   Realizar algumas análises quantitativas\n",
        "*   Aplicar etiquetagem morfossintáticas às palavras do corpus\n",
        "*   Geração de gráficos\n",
        "\n"
      ]
    },
    {
      "cell_type": "markdown",
      "metadata": {
        "id": "wpfUoquTmPhf"
      },
      "source": [
        "## Começando com uma análise simples de textos\n",
        "\n",
        "Vamos criar uma variável chamada `sentenca` e armazenar uma pequena frase nela:"
      ]
    },
    {
      "cell_type": "code",
      "metadata": {
        "id": "dWtvbYS4Jruy"
      },
      "source": [
        "sentenca = 'A raposa rápida salta sobre o cão preguiçoso'"
      ],
      "execution_count": 1,
      "outputs": []
    },
    {
      "cell_type": "markdown",
      "metadata": {
        "id": "NJGDtk6DnF-g"
      },
      "source": [
        "Vamos verificar agora a ocorrência de uma palavra dentro da sentença:"
      ]
    },
    {
      "cell_type": "code",
      "metadata": {
        "colab": {
          "base_uri": "https://localhost:8080/"
        },
        "id": "kDze0baJkl0A",
        "outputId": "c480ce2c-d993-4f61-bd67-4199252200e1"
      },
      "source": [
        "'rápida' in sentenca"
      ],
      "execution_count": 2,
      "outputs": [
        {
          "output_type": "execute_result",
          "data": {
            "text/plain": [
              "True"
            ]
          },
          "metadata": {},
          "execution_count": 2
        }
      ]
    },
    {
      "cell_type": "markdown",
      "metadata": {
        "id": "nUxshQpynaTf"
      },
      "source": [
        "O código acima retorna `True`, indicando que a palavra 'rápida' existe dentro da sentença. Se fosse utilizada a palavra 'gato', o retorno seria `False`, uma vez que essa palavra não existe na frase.\n",
        "\n",
        "Agora, vamos retornar uma determinada palavra da frase através de sua posição. No exemplo a seguir, o código retorna a palavra na 5ª posição da sentença:"
      ]
    },
    {
      "cell_type": "code",
      "metadata": {
        "colab": {
          "base_uri": "https://localhost:8080/",
          "height": 36
        },
        "id": "EmhMvfzQnZVP",
        "outputId": "c21a4db1-75d8-4ef4-9f05-3d6ee416cde2"
      },
      "source": [
        "sentenca.split()[4]"
      ],
      "execution_count": 3,
      "outputs": [
        {
          "output_type": "execute_result",
          "data": {
            "application/vnd.google.colaboratory.intrinsic+json": {
              "type": "string"
            },
            "text/plain": [
              "'sobre'"
            ]
          },
          "metadata": {},
          "execution_count": 3
        }
      ]
    },
    {
      "cell_type": "markdown",
      "metadata": {
        "id": "cKeOueBfpR4f"
      },
      "source": [
        "Para exibir uma determinada palavra de trás para frente, podemos utilizar:"
      ]
    },
    {
      "cell_type": "code",
      "metadata": {
        "colab": {
          "base_uri": "https://localhost:8080/",
          "height": 36
        },
        "id": "6aXZayEHpKpY",
        "outputId": "781c9f4a-01cf-41b8-9980-2fb6b47daada"
      },
      "source": [
        "sentenca.split()[1][::-1]"
      ],
      "execution_count": 4,
      "outputs": [
        {
          "output_type": "execute_result",
          "data": {
            "application/vnd.google.colaboratory.intrinsic+json": {
              "type": "string"
            },
            "text/plain": [
              "'asopar'"
            ]
          },
          "metadata": {},
          "execution_count": 4
        }
      ]
    },
    {
      "cell_type": "markdown",
      "metadata": {
        "id": "j_fZCQb0rFaH"
      },
      "source": [
        "Para exibir toda a sentença invertida:"
      ]
    },
    {
      "cell_type": "code",
      "metadata": {
        "colab": {
          "base_uri": "https://localhost:8080/",
          "height": 36
        },
        "id": "zjkPO75IrJPQ",
        "outputId": "9e3c3b7d-fe89-4bbc-c30c-a6fe00d37793"
      },
      "source": [
        "sentenca[::-1]"
      ],
      "execution_count": 5,
      "outputs": [
        {
          "output_type": "execute_result",
          "data": {
            "application/vnd.google.colaboratory.intrinsic+json": {
              "type": "string"
            },
            "text/plain": [
              "'osoçiugerp oãc o erbos atlas adipár asopar A'"
            ]
          },
          "metadata": {},
          "execution_count": 5
        }
      ]
    },
    {
      "cell_type": "markdown",
      "metadata": {
        "id": "-pABt5xPpojE"
      },
      "source": [
        "Vamos concatenar a primeira e a última palavra da sentença:"
      ]
    },
    {
      "cell_type": "code",
      "metadata": {
        "colab": {
          "base_uri": "https://localhost:8080/"
        },
        "id": "2hjNCG7ZpdPl",
        "outputId": "f7454f2e-a920-40f1-d9b0-90547d75a3fe"
      },
      "source": [
        "palavras = sentenca.split() #Vamos criar uma variável para armazenar as palavras\n",
        "primeira_palavra = palavras[0] #Recuperamos a primeira palavra (posição 0)\n",
        "ultima_palavra = palavras[len(palavras)-1] #Recuperamos a última palavra (tamanho do vetor de palavras menos 1)\n",
        "concatenar_palavras = primeira_palavra + ultima_palavra\n",
        "print(concatenar_palavras)"
      ],
      "execution_count": 6,
      "outputs": [
        {
          "output_type": "stream",
          "name": "stdout",
          "text": [
            "Apreguiçoso\n"
          ]
        }
      ]
    },
    {
      "cell_type": "markdown",
      "metadata": {
        "id": "RXM3l0GPqhhS"
      },
      "source": [
        "Para encontrar as palavras que estão em posições pares da sentença, podemos utilizar:"
      ]
    },
    {
      "cell_type": "code",
      "metadata": {
        "colab": {
          "base_uri": "https://localhost:8080/"
        },
        "id": "I51LBYStqb3g",
        "outputId": "8295ece5-286c-4eef-ae34-0448a1393d27"
      },
      "source": [
        "[palavras[i] for i in range(len(palavras)) if i%2 == 0]"
      ],
      "execution_count": 7,
      "outputs": [
        {
          "output_type": "execute_result",
          "data": {
            "text/plain": [
              "['A', 'rápida', 'sobre', 'cão']"
            ]
          },
          "metadata": {},
          "execution_count": 7
        }
      ]
    },
    {
      "cell_type": "markdown",
      "metadata": {
        "id": "IFl-Q44FuWoe"
      },
      "source": [
        "## Um breve parênteses: A biblioteca NLTK"
      ]
    },
    {
      "cell_type": "markdown",
      "metadata": {
        "id": "hLTQoTRLud36"
      },
      "source": [
        "A NLTK (**N**atural **L**anguage **T**ool**K**it) é uma biblioteca do python que oferece uma infinidade de recursos para o tratamento de dados textuais. Ela conta com uma excelente documentação, que inclui passo a passo a utilização dos recursos. Um diferencial dessa biblioteca é a disponibilidade de recursos linguísticos em português. Vamos utilizar alguns desses recursos a seguir.\n",
        "\n",
        "Link para documentação: [NLTK](https://www.nltk.org/)"
      ]
    },
    {
      "cell_type": "markdown",
      "metadata": {
        "id": "ZvwUgtdpsbMq"
      },
      "source": [
        "## Tarefas do PLN"
      ]
    },
    {
      "cell_type": "markdown",
      "metadata": {
        "id": "znK2I9AXstb0"
      },
      "source": [
        "Ao trabalhar com textos no PLN, diversas tarefas podem ser executadas, como a *tokenização*, limpeza do texto, etiquetagem, contagens de palavras, *stemming*, etc. Vermos algumas dessas tarefas a seguir."
      ]
    },
    {
      "cell_type": "markdown",
      "metadata": {
        "id": "qREnH9AJsjUz"
      },
      "source": [
        "### Tokenização"
      ]
    },
    {
      "cell_type": "markdown",
      "metadata": {
        "id": "A6HUA9RUykxr"
      },
      "source": [
        "A *tokenização* é o processo de dividir as sentenças em palavras. Considere a frase:\n",
        "> \"Eu estou lendo um livro.\"\n",
        "\n",
        "A tarefa de *tokenização* tem como objetivo extrair as palavras (ou tokens) dessa sentença, produzindo:\n",
        "> 'Eu', 'estou', 'lendo', 'um', 'livro', ' . '\n",
        "\n",
        "Esse tipo de extração é chamada de 'unigrama', uma vez que separa uma palavra por vez. Entretanto, é possível realizar a extraçã de dois ou três *tokens* por vez. Se são 2 *tokens* por vez, chamamos de **bigramas**. Se são 3, **trigramas**. Dependendo da necessidade, podemos ter **n-gramas**, sendo n um número natural.\n",
        "\n",
        "> **n-gramas** são sequências de n palavras de um texto.\n",
        "\n",
        "No PLN trabalhamos com *tokens* por questão de conveniência, já que temos a tendência de realizar as análises palavra por palavra.\n",
        "\n"
      ]
    },
    {
      "cell_type": "markdown",
      "metadata": {
        "id": "EH2TSMCJzPMi"
      },
      "source": [
        "Vamos realizar a tokenização de uma sentença simples. Para isso vamos utilizar um módulo da NLTK que facilita esse processo."
      ]
    },
    {
      "cell_type": "code",
      "metadata": {
        "colab": {
          "base_uri": "https://localhost:8080/"
        },
        "id": "OFXhK8S1q-jw",
        "outputId": "9f4f061b-b60b-48c4-e627-46d0d23faf26"
      },
      "source": [
        "import nltk #importando a biblioteca\n",
        "nltk.download('all') # baixando todos os recursos da biblioteca (pode demorar)\n",
        "from nltk import word_tokenize #importando o módulo word_tokenize"
      ],
      "execution_count": 8,
      "outputs": [
        {
          "output_type": "stream",
          "name": "stdout",
          "text": [
            "[nltk_data] Downloading collection 'all'\n",
            "[nltk_data]    | \n",
            "[nltk_data]    | Downloading package abc to /root/nltk_data...\n",
            "[nltk_data]    |   Package abc is already up-to-date!\n",
            "[nltk_data]    | Downloading package alpino to /root/nltk_data...\n",
            "[nltk_data]    |   Package alpino is already up-to-date!\n",
            "[nltk_data]    | Downloading package biocreative_ppi to\n",
            "[nltk_data]    |     /root/nltk_data...\n",
            "[nltk_data]    |   Package biocreative_ppi is already up-to-date!\n",
            "[nltk_data]    | Downloading package brown to /root/nltk_data...\n",
            "[nltk_data]    |   Package brown is already up-to-date!\n",
            "[nltk_data]    | Downloading package brown_tei to /root/nltk_data...\n",
            "[nltk_data]    |   Package brown_tei is already up-to-date!\n",
            "[nltk_data]    | Downloading package cess_cat to /root/nltk_data...\n",
            "[nltk_data]    |   Package cess_cat is already up-to-date!\n",
            "[nltk_data]    | Downloading package cess_esp to /root/nltk_data...\n",
            "[nltk_data]    |   Package cess_esp is already up-to-date!\n",
            "[nltk_data]    | Downloading package chat80 to /root/nltk_data...\n",
            "[nltk_data]    |   Package chat80 is already up-to-date!\n",
            "[nltk_data]    | Downloading package city_database to\n",
            "[nltk_data]    |     /root/nltk_data...\n",
            "[nltk_data]    |   Package city_database is already up-to-date!\n",
            "[nltk_data]    | Downloading package cmudict to /root/nltk_data...\n",
            "[nltk_data]    |   Package cmudict is already up-to-date!\n",
            "[nltk_data]    | Downloading package comparative_sentences to\n",
            "[nltk_data]    |     /root/nltk_data...\n",
            "[nltk_data]    |   Unzipping corpora/comparative_sentences.zip.\n",
            "[nltk_data]    | Downloading package comtrans to /root/nltk_data...\n",
            "[nltk_data]    |   Package comtrans is already up-to-date!\n",
            "[nltk_data]    | Downloading package conll2000 to /root/nltk_data...\n",
            "[nltk_data]    |   Package conll2000 is already up-to-date!\n",
            "[nltk_data]    | Downloading package conll2002 to /root/nltk_data...\n",
            "[nltk_data]    |   Package conll2002 is already up-to-date!\n",
            "[nltk_data]    | Downloading package conll2007 to /root/nltk_data...\n",
            "[nltk_data]    |   Package conll2007 is already up-to-date!\n",
            "[nltk_data]    | Downloading package crubadan to /root/nltk_data...\n",
            "[nltk_data]    |   Package crubadan is already up-to-date!\n",
            "[nltk_data]    | Downloading package dependency_treebank to\n",
            "[nltk_data]    |     /root/nltk_data...\n",
            "[nltk_data]    |   Package dependency_treebank is already up-to-date!\n",
            "[nltk_data]    | Downloading package dolch to /root/nltk_data...\n",
            "[nltk_data]    |   Package dolch is already up-to-date!\n",
            "[nltk_data]    | Downloading package europarl_raw to\n",
            "[nltk_data]    |     /root/nltk_data...\n",
            "[nltk_data]    |   Unzipping corpora/europarl_raw.zip.\n",
            "[nltk_data]    | Downloading package floresta to /root/nltk_data...\n",
            "[nltk_data]    |   Package floresta is already up-to-date!\n",
            "[nltk_data]    | Downloading package framenet_v15 to\n",
            "[nltk_data]    |     /root/nltk_data...\n",
            "[nltk_data]    |   Package framenet_v15 is already up-to-date!\n",
            "[nltk_data]    | Downloading package framenet_v17 to\n",
            "[nltk_data]    |     /root/nltk_data...\n",
            "[nltk_data]    |   Package framenet_v17 is already up-to-date!\n",
            "[nltk_data]    | Downloading package gazetteers to /root/nltk_data...\n",
            "[nltk_data]    |   Package gazetteers is already up-to-date!\n",
            "[nltk_data]    | Downloading package genesis to /root/nltk_data...\n",
            "[nltk_data]    |   Package genesis is already up-to-date!\n",
            "[nltk_data]    | Downloading package gutenberg to /root/nltk_data...\n",
            "[nltk_data]    |   Package gutenberg is already up-to-date!\n",
            "[nltk_data]    | Downloading package ieer to /root/nltk_data...\n",
            "[nltk_data]    |   Package ieer is already up-to-date!\n",
            "[nltk_data]    | Downloading package inaugural to /root/nltk_data...\n",
            "[nltk_data]    |   Package inaugural is already up-to-date!\n",
            "[nltk_data]    | Downloading package indian to /root/nltk_data...\n",
            "[nltk_data]    |   Package indian is already up-to-date!\n",
            "[nltk_data]    | Downloading package jeita to /root/nltk_data...\n",
            "[nltk_data]    |   Package jeita is already up-to-date!\n",
            "[nltk_data]    | Downloading package kimmo to /root/nltk_data...\n",
            "[nltk_data]    |   Package kimmo is already up-to-date!\n",
            "[nltk_data]    | Downloading package knbc to /root/nltk_data...\n",
            "[nltk_data]    |   Package knbc is already up-to-date!\n",
            "[nltk_data]    | Downloading package lin_thesaurus to\n",
            "[nltk_data]    |     /root/nltk_data...\n",
            "[nltk_data]    |   Package lin_thesaurus is already up-to-date!\n",
            "[nltk_data]    | Downloading package mac_morpho to /root/nltk_data...\n",
            "[nltk_data]    |   Package mac_morpho is already up-to-date!\n",
            "[nltk_data]    | Downloading package machado to /root/nltk_data...\n",
            "[nltk_data]    |   Unzipping corpora/machado.zip.\n",
            "[nltk_data]    | Downloading package masc_tagged to /root/nltk_data...\n",
            "[nltk_data]    |   Package masc_tagged is already up-to-date!\n",
            "[nltk_data]    | Downloading package moses_sample to\n",
            "[nltk_data]    |     /root/nltk_data...\n",
            "[nltk_data]    |   Unzipping models/moses_sample.zip.\n",
            "[nltk_data]    | Downloading package movie_reviews to\n",
            "[nltk_data]    |     /root/nltk_data...\n",
            "[nltk_data]    |   Package movie_reviews is already up-to-date!\n",
            "[nltk_data]    | Downloading package names to /root/nltk_data...\n",
            "[nltk_data]    |   Package names is already up-to-date!\n",
            "[nltk_data]    | Downloading package nombank.1.0 to /root/nltk_data...\n",
            "[nltk_data]    |   Package nombank.1.0 is already up-to-date!\n",
            "[nltk_data]    | Downloading package nps_chat to /root/nltk_data...\n",
            "[nltk_data]    |   Package nps_chat is already up-to-date!\n",
            "[nltk_data]    | Downloading package omw to /root/nltk_data...\n",
            "[nltk_data]    |   Package omw is already up-to-date!\n",
            "[nltk_data]    | Downloading package opinion_lexicon to\n",
            "[nltk_data]    |     /root/nltk_data...\n",
            "[nltk_data]    |   Unzipping corpora/opinion_lexicon.zip.\n",
            "[nltk_data]    | Downloading package paradigms to /root/nltk_data...\n",
            "[nltk_data]    |   Package paradigms is already up-to-date!\n",
            "[nltk_data]    | Downloading package pil to /root/nltk_data...\n",
            "[nltk_data]    |   Package pil is already up-to-date!\n",
            "[nltk_data]    | Downloading package pl196x to /root/nltk_data...\n",
            "[nltk_data]    |   Package pl196x is already up-to-date!\n",
            "[nltk_data]    | Downloading package ppattach to /root/nltk_data...\n",
            "[nltk_data]    |   Package ppattach is already up-to-date!\n",
            "[nltk_data]    | Downloading package problem_reports to\n",
            "[nltk_data]    |     /root/nltk_data...\n",
            "[nltk_data]    |   Package problem_reports is already up-to-date!\n",
            "[nltk_data]    | Downloading package propbank to /root/nltk_data...\n",
            "[nltk_data]    |   Package propbank is already up-to-date!\n",
            "[nltk_data]    | Downloading package ptb to /root/nltk_data...\n",
            "[nltk_data]    |   Package ptb is already up-to-date!\n",
            "[nltk_data]    | Downloading package product_reviews_1 to\n",
            "[nltk_data]    |     /root/nltk_data...\n",
            "[nltk_data]    |   Unzipping corpora/product_reviews_1.zip.\n",
            "[nltk_data]    | Downloading package product_reviews_2 to\n",
            "[nltk_data]    |     /root/nltk_data...\n",
            "[nltk_data]    |   Unzipping corpora/product_reviews_2.zip.\n",
            "[nltk_data]    | Downloading package pros_cons to /root/nltk_data...\n",
            "[nltk_data]    |   Unzipping corpora/pros_cons.zip.\n",
            "[nltk_data]    | Downloading package qc to /root/nltk_data...\n",
            "[nltk_data]    |   Package qc is already up-to-date!\n",
            "[nltk_data]    | Downloading package reuters to /root/nltk_data...\n",
            "[nltk_data]    |   Package reuters is already up-to-date!\n",
            "[nltk_data]    | Downloading package rte to /root/nltk_data...\n",
            "[nltk_data]    |   Package rte is already up-to-date!\n",
            "[nltk_data]    | Downloading package semcor to /root/nltk_data...\n",
            "[nltk_data]    |   Package semcor is already up-to-date!\n",
            "[nltk_data]    | Downloading package senseval to /root/nltk_data...\n",
            "[nltk_data]    |   Package senseval is already up-to-date!\n",
            "[nltk_data]    | Downloading package sentiwordnet to\n",
            "[nltk_data]    |     /root/nltk_data...\n",
            "[nltk_data]    |   Package sentiwordnet is already up-to-date!\n",
            "[nltk_data]    | Downloading package sentence_polarity to\n",
            "[nltk_data]    |     /root/nltk_data...\n",
            "[nltk_data]    |   Unzipping corpora/sentence_polarity.zip.\n",
            "[nltk_data]    | Downloading package shakespeare to /root/nltk_data...\n",
            "[nltk_data]    |   Package shakespeare is already up-to-date!\n",
            "[nltk_data]    | Downloading package sinica_treebank to\n",
            "[nltk_data]    |     /root/nltk_data...\n",
            "[nltk_data]    |   Package sinica_treebank is already up-to-date!\n",
            "[nltk_data]    | Downloading package smultron to /root/nltk_data...\n",
            "[nltk_data]    |   Unzipping corpora/smultron.zip.\n",
            "[nltk_data]    | Downloading package state_union to /root/nltk_data...\n",
            "[nltk_data]    |   Package state_union is already up-to-date!\n",
            "[nltk_data]    | Downloading package stopwords to /root/nltk_data...\n",
            "[nltk_data]    |   Package stopwords is already up-to-date!\n",
            "[nltk_data]    | Downloading package subjectivity to\n",
            "[nltk_data]    |     /root/nltk_data...\n",
            "[nltk_data]    |   Unzipping corpora/subjectivity.zip.\n",
            "[nltk_data]    | Downloading package swadesh to /root/nltk_data...\n",
            "[nltk_data]    |   Package swadesh is already up-to-date!\n",
            "[nltk_data]    | Downloading package switchboard to /root/nltk_data...\n",
            "[nltk_data]    |   Package switchboard is already up-to-date!\n",
            "[nltk_data]    | Downloading package timit to /root/nltk_data...\n",
            "[nltk_data]    |   Package timit is already up-to-date!\n",
            "[nltk_data]    | Downloading package toolbox to /root/nltk_data...\n",
            "[nltk_data]    |   Package toolbox is already up-to-date!\n",
            "[nltk_data]    | Downloading package treebank to /root/nltk_data...\n",
            "[nltk_data]    |   Package treebank is already up-to-date!\n",
            "[nltk_data]    | Downloading package twitter_samples to\n",
            "[nltk_data]    |     /root/nltk_data...\n",
            "[nltk_data]    |   Package twitter_samples is already up-to-date!\n",
            "[nltk_data]    | Downloading package udhr to /root/nltk_data...\n",
            "[nltk_data]    |   Package udhr is already up-to-date!\n",
            "[nltk_data]    | Downloading package udhr2 to /root/nltk_data...\n",
            "[nltk_data]    |   Package udhr2 is already up-to-date!\n",
            "[nltk_data]    | Downloading package unicode_samples to\n",
            "[nltk_data]    |     /root/nltk_data...\n",
            "[nltk_data]    |   Package unicode_samples is already up-to-date!\n",
            "[nltk_data]    | Downloading package universal_treebanks_v20 to\n",
            "[nltk_data]    |     /root/nltk_data...\n",
            "[nltk_data]    |   Package universal_treebanks_v20 is already up-to-\n",
            "[nltk_data]    |       date!\n",
            "[nltk_data]    | Downloading package verbnet to /root/nltk_data...\n",
            "[nltk_data]    |   Package verbnet is already up-to-date!\n",
            "[nltk_data]    | Downloading package verbnet3 to /root/nltk_data...\n",
            "[nltk_data]    |   Package verbnet3 is already up-to-date!\n",
            "[nltk_data]    | Downloading package webtext to /root/nltk_data...\n",
            "[nltk_data]    |   Package webtext is already up-to-date!\n",
            "[nltk_data]    | Downloading package wordnet to /root/nltk_data...\n",
            "[nltk_data]    |   Package wordnet is already up-to-date!\n",
            "[nltk_data]    | Downloading package wordnet31 to /root/nltk_data...\n",
            "[nltk_data]    |   Package wordnet31 is already up-to-date!\n",
            "[nltk_data]    | Downloading package wordnet_ic to /root/nltk_data...\n",
            "[nltk_data]    |   Package wordnet_ic is already up-to-date!\n",
            "[nltk_data]    | Downloading package words to /root/nltk_data...\n",
            "[nltk_data]    |   Package words is already up-to-date!\n",
            "[nltk_data]    | Downloading package ycoe to /root/nltk_data...\n",
            "[nltk_data]    |   Package ycoe is already up-to-date!\n",
            "[nltk_data]    | Downloading package rslp to /root/nltk_data...\n",
            "[nltk_data]    |   Unzipping stemmers/rslp.zip.\n",
            "[nltk_data]    | Downloading package maxent_treebank_pos_tagger to\n",
            "[nltk_data]    |     /root/nltk_data...\n",
            "[nltk_data]    |   Unzipping taggers/maxent_treebank_pos_tagger.zip.\n",
            "[nltk_data]    | Downloading package universal_tagset to\n",
            "[nltk_data]    |     /root/nltk_data...\n",
            "[nltk_data]    |   Unzipping taggers/universal_tagset.zip.\n",
            "[nltk_data]    | Downloading package maxent_ne_chunker to\n",
            "[nltk_data]    |     /root/nltk_data...\n",
            "[nltk_data]    |   Package maxent_ne_chunker is already up-to-date!\n",
            "[nltk_data]    | Downloading package punkt to /root/nltk_data...\n",
            "[nltk_data]    |   Package punkt is already up-to-date!\n",
            "[nltk_data]    | Downloading package book_grammars to\n",
            "[nltk_data]    |     /root/nltk_data...\n",
            "[nltk_data]    |   Unzipping grammars/book_grammars.zip.\n",
            "[nltk_data]    | Downloading package sample_grammars to\n",
            "[nltk_data]    |     /root/nltk_data...\n",
            "[nltk_data]    |   Unzipping grammars/sample_grammars.zip.\n",
            "[nltk_data]    | Downloading package spanish_grammars to\n",
            "[nltk_data]    |     /root/nltk_data...\n",
            "[nltk_data]    |   Unzipping grammars/spanish_grammars.zip.\n",
            "[nltk_data]    | Downloading package basque_grammars to\n",
            "[nltk_data]    |     /root/nltk_data...\n",
            "[nltk_data]    |   Unzipping grammars/basque_grammars.zip.\n",
            "[nltk_data]    | Downloading package large_grammars to\n",
            "[nltk_data]    |     /root/nltk_data...\n",
            "[nltk_data]    |   Unzipping grammars/large_grammars.zip.\n",
            "[nltk_data]    | Downloading package tagsets to /root/nltk_data...\n",
            "[nltk_data]    |   Unzipping help/tagsets.zip.\n",
            "[nltk_data]    | Downloading package snowball_data to\n",
            "[nltk_data]    |     /root/nltk_data...\n",
            "[nltk_data]    |   Package snowball_data is already up-to-date!\n",
            "[nltk_data]    | Downloading package bllip_wsj_no_aux to\n",
            "[nltk_data]    |     /root/nltk_data...\n",
            "[nltk_data]    |   Unzipping models/bllip_wsj_no_aux.zip.\n",
            "[nltk_data]    | Downloading package word2vec_sample to\n",
            "[nltk_data]    |     /root/nltk_data...\n",
            "[nltk_data]    |   Unzipping models/word2vec_sample.zip.\n",
            "[nltk_data]    | Downloading package panlex_swadesh to\n",
            "[nltk_data]    |     /root/nltk_data...\n",
            "[nltk_data]    |   Package panlex_swadesh is already up-to-date!\n",
            "[nltk_data]    | Downloading package mte_teip5 to /root/nltk_data...\n",
            "[nltk_data]    |   Package mte_teip5 is already up-to-date!\n",
            "[nltk_data]    | Downloading package averaged_perceptron_tagger to\n",
            "[nltk_data]    |     /root/nltk_data...\n",
            "[nltk_data]    |   Package averaged_perceptron_tagger is already up-\n",
            "[nltk_data]    |       to-date!\n",
            "[nltk_data]    | Downloading package averaged_perceptron_tagger_ru to\n",
            "[nltk_data]    |     /root/nltk_data...\n",
            "[nltk_data]    |   Unzipping\n",
            "[nltk_data]    |       taggers/averaged_perceptron_tagger_ru.zip.\n",
            "[nltk_data]    | Downloading package perluniprops to\n",
            "[nltk_data]    |     /root/nltk_data...\n",
            "[nltk_data]    |   Unzipping misc/perluniprops.zip.\n",
            "[nltk_data]    | Downloading package nonbreaking_prefixes to\n",
            "[nltk_data]    |     /root/nltk_data...\n",
            "[nltk_data]    |   Package nonbreaking_prefixes is already up-to-date!\n",
            "[nltk_data]    | Downloading package vader_lexicon to\n",
            "[nltk_data]    |     /root/nltk_data...\n",
            "[nltk_data]    | Downloading package porter_test to /root/nltk_data...\n",
            "[nltk_data]    |   Unzipping stemmers/porter_test.zip.\n",
            "[nltk_data]    | Downloading package wmt15_eval to /root/nltk_data...\n",
            "[nltk_data]    |   Unzipping models/wmt15_eval.zip.\n",
            "[nltk_data]    | Downloading package mwa_ppdb to /root/nltk_data...\n",
            "[nltk_data]    |   Unzipping misc/mwa_ppdb.zip.\n",
            "[nltk_data]    | \n",
            "[nltk_data]  Done downloading collection all\n"
          ]
        }
      ]
    },
    {
      "cell_type": "code",
      "metadata": {
        "id": "hHUQsbdZzl_C"
      },
      "source": [
        "palavras = word_tokenize('Eu estou aprendendo sobre os fundamentos do PLN')"
      ],
      "execution_count": 9,
      "outputs": []
    },
    {
      "cell_type": "code",
      "metadata": {
        "colab": {
          "base_uri": "https://localhost:8080/"
        },
        "id": "Jb3oH8vGzx9s",
        "outputId": "b8686822-7138-465a-fc53-1767f44a7b4c"
      },
      "source": [
        "palavras"
      ],
      "execution_count": 10,
      "outputs": [
        {
          "output_type": "execute_result",
          "data": {
            "text/plain": [
              "['Eu', 'estou', 'aprendendo', 'sobre', 'os', 'fundamentos', 'do', 'NLP']"
            ]
          },
          "metadata": {},
          "execution_count": 10
        }
      ]
    },
    {
      "cell_type": "markdown",
      "metadata": {
        "id": "O9HUuF_O7eF1"
      },
      "source": [
        "Aplicar essa tarefa em frases simples pode não parecer muito útil. Sendo assim, vamos ver exemplos com um *corpus*."
      ]
    },
    {
      "cell_type": "markdown",
      "metadata": {
        "id": "YXiTEQOG0cGz"
      },
      "source": [
        "#### O que é e para que serve um *corpus*?\n",
        "\n",
        "*Corpus* pode ser definido como o conjunto de materiais linguísticos que serão analisados. Para os propósitos do PLN, é necessário que esses materiais estejam na forma de texto e que possam ser lidos por um programa de computador.\n",
        "\n",
        "A NLTK disponibiliza diversos *corpora* (plural de *corpus*) em diversas línguas, incluindo o português. Nessa aula de introdução ao PLN, utilizaremos o *corpora* que contém as obras completas de Machado de Assis."
      ]
    },
    {
      "cell_type": "markdown",
      "metadata": {
        "id": "hwkD45HG8aku"
      },
      "source": [
        "Os textos do *corpus* Machado são como arquivos TXT. A NLTK fornece informações sobre o *corpora* pelo método `readme()`"
      ]
    },
    {
      "cell_type": "code",
      "metadata": {
        "colab": {
          "base_uri": "https://localhost:8080/"
        },
        "id": "xZengKuA8YKk",
        "outputId": "29528c4c-ad96-4065-976b-2c1912d9ea19"
      },
      "source": [
        "from nltk.corpus import machado #Importamos o módulo da NLTK\n",
        "print(machado.readme())"
      ],
      "execution_count": 12,
      "outputs": [
        {
          "output_type": "stream",
          "name": "stdout",
          "text": [
            "Machado de Assis -- Obra Completa\n",
            "\n",
            "http://machado.mec.gov.br/\n",
            "\n",
            "Public Domain\n",
            "\n",
            "Contents:\n",
            "\n",
            "Romance\n",
            "\n",
            "romance/marm01.txt: Ressurreição (1872)\n",
            "romance/marm02.txt: A Mão e a Luva (1874)\n",
            "romance/marm03.txt: Helena (1876)\n",
            "romance/marm04.txt: Iaiá Garcia (1878)\n",
            "romance/marm05.txt: Memórias Póstumas de Brás Cubas (1881)\n",
            "romance/marm06.txt: Casa Velha (1885)\n",
            "romance/marm07.txt: Quincas Borba (1891)\n",
            "romance/marm08.txt: Dom Casmurro (1899)\n",
            "romance/marm09.txt: Esaú e Jacó (1904)\n",
            "romance/marm10.txt: Memorial de Aires (1908)\n",
            "\n",
            "Poesia\n",
            "\n",
            "poesia/maps01.txt: Crisálidas (1864)\n",
            "poesia/maps02.txt: Falenas (1870)\n",
            "poesia/maps03.txt: Americanas (1875)\n",
            "poesia/maps04.txt: Gazeta de Holanda (1886-88)\n",
            "poesia/maps05.txt: Ocidentais (1901)\n",
            "poesia/maps06.txt: O Almada (1908)\n",
            "poesia/maps07.txt: Dispersas (1854-1939)\n",
            "\n",
            "Contos\n",
            "\n",
            "contos/macn001.txt: Contos Fluminenses (1870); Miss Dollar; Luís Soares; A mulher de preto; O segredo de Augusta; Confissões de uma viúva moça; Linha reta e linha curva; Frei Sim\n",
            "contos/macn002.txt: Histórias da meia-noite (1873); A parasita azul; As bodas de Luís Duarte; Ernesto de Tal; Aurora sem dia; O relógio de ouro; Ponto de vista\n",
            "contos/macn003.txt: Papéis avulsos (1882); O alienista; Teoria do medalhão; A chinela turca; Na arca; D. Benedita; O segredo do bonzo; O anel de Polícrates; O empréstimo; A sereníssima república; O espelho; Uma visita de Alcibíades; Verba testamentária\n",
            "contos/macn004.txt: Histórias sem data (1884); A igreja do Diabo; O lapso; Último capítulo; Cantiga de esponsais; Singular ocorrência; Galeria póstuma; Capítulo dos chapéus; Conto alexandrino; Rimas de Sapucaia!; Uma senhora; Anedota pecuniária; Fulano; A segunda vida; Noite de almirante; Manuscrito de um sacristão; Ex cathedra; A senhora do Galvão; As academias de Sião\n",
            "contos/macn005.txt: Várias histórias (1896); A cartomante; Entre santos; Uns braços; Um homem célebre; A desejada das gentes; A causa secreta; Trio em lá menor; Adão e Eva; O enfermeiro; O diplomático; Mariana; Conto de escola; Um apólogo; D. Paula; Viver!; O cônego ou Metafísica do estilo\n",
            "contos/macn006.txt: Páginas recolhidas (1899); O caso da vara; O dicionário; Um erradio; Eterno!; Missa do galo; Idéias de canário; Lágrimas de Xerxes; Papéis velhos\n",
            "contos/macn007.txt: Relíquias de Casa Velha (1906); Pai contra mãe; Maria Cora; Marcha fúnebre; Um capitão de voluntários; Suje-se gordo!; Umas férias; Evolução; Pílades e Orestes; Anedota do cabriolet\n",
            "\n",
            "Traducao\n",
            "\n",
            "traducao/matr01.txt: Suplício de uma mulher (1865)\n",
            "traducao/matr02.txt: Os trabalhadores do mar (1866)\n",
            "traducao/matr03.txt: Oliver Twist (1870)\n",
            "\n",
            "Teatro\n",
            "\n",
            "teatro/matt01.txt: As forcas caudinas (1956)\n",
            "teatro/matt02.txt: Hoje avental, amanhã luva (1860)\n",
            "teatro/matt03.txt: Desencantos (1861)\n",
            "teatro/matt04.txt: O caminho da porta / O protocolo (1863)\n",
            "teatro/matt05.txt: Quase ministro (1864)\n",
            "teatro/matt06.txt: Os deuses de casaca (1866)\n",
            "teatro/matt07.txt: O bote de rapé (1878)\n",
            "teatro/matt08.txt: Tu, só tu, puro amor (1880)\n",
            "teatro/matt09.txt: Não consultes médico (1899)\n",
            "teatro/matt10.txt: Lição de botânica (1906)\n",
            "\n",
            "Cronica\n",
            "\n",
            "cronica/macr01.txt: Comentários da semana (1861-1863)\n",
            "cronica/macr02.txt: Crônicas do Dr. Semana (1861-1864)\n",
            "cronica/macr03.txt: Crônicas - O futuro (1862-1863)\n",
            "cronica/macr04.txt: Ao acaso (1864-1865)\n",
            "cronica/macr05.txt: Cartas fluminenses (1867)\n",
            "cronica/macr06.txt: Badaladas (1871-1873)\n",
            "cronica/macr07.txt: História de quinze dias (1876-1877)\n",
            "cronica/macr08.txt: História dos trinta dias (1878)\n",
            "cronica/macr09.txt: Notas semanais (1878)\n",
            "cronica/macr10.txt: Balas de estalo (1883-1886)\n",
            "cronica/macr11.txt: Bons dias! (1888-1889)\n",
            "cronica/macr12.txt: A semana (1892-1800)\n",
            "cronica/macr13.txt: O jornal e o livro (1859)\n",
            "cronica/macr14.txt: A reforma pelo jornal (1859)\n",
            "cronica/macr15.txt: Aquarelas (1859)\n",
            "cronica/macr16.txt: O Visconde de Castilho (1875)\n",
            "cronica/macr17.txt: Cherchez la femme (1881)\n",
            "cronica/macr18.txt: José de Alencar (1883)\n",
            "cronica/macr19.txt: Joaquim Serra (1888)\n",
            "cronica/macr20.txt: O futuro dos argentinos (1888)\n",
            "cronica/macr21.txt: Entre 1892 e 1894 (1892-1894)\n",
            "cronica/macr22.txt: Henrique Chaves (1893)\n",
            "cronica/macr23.txt: Henrique Lombaerts (1897)\n",
            "cronica/macr24.txt: O velho Senado (1898)\n",
            "critica/mact01.txt: O Passado, o presente e o futuro da literatura (1858)\n",
            "critica/mact02.txt: Idéias sobre o teatro (1859)\n",
            "critica/mact03.txt: Revista dos teatros (1859)\n",
            "critica/mact04.txt: Revista Dramática (1860)\n",
            "critica/mact05.txt: A Crítica teatral. José de Alencar: Mãe (1860)\n",
            "critica/mact06.txt: Crítica variada - Diário do RJ (1862)\n",
            "critica/mact07.txt: Flores e Frutos, de Bruno Seabra (1862)\n",
            "critica/mact08.txt: Pareceres - Conservatório Dramático (1862-1864)\n",
            "critica/mact09.txt: Homem de Mello e B. Pinheiro  A Constituinte perante a História e Sombras e Luz (1863)\n",
            "critica/mact10.txt: Peregrinação pela província de S. Paulo , por A. E. Zaluar (1863)\n",
            "critica/mact11.txt: Revelações , de A. E. Zaluar (1863)\n",
            "critica/mact12.txt: Dois folhetins. Suplício de uma mulher (1865)\n",
            "critica/mact13.txt: O Ideal do crítico (1865)\n",
            "critica/mact14.txt: Álvares de Azevedo: Lira dos vinte anos (1866)\n",
            "critica/mact15.txt: Crítica teatral (1866)\n",
            "critica/mact16.txt: Fagundes Varela  Cantos e fantasias (1866)\n",
            "critica/mact17.txt: J .M. de Macedo: O culto do dever (1866)\n",
            "critica/mact18.txt: José de Alencar: Iracema (1866)\n",
            "critica/mact19.txt: Junqueira Freire: Inspirações do claustro (1866)\n",
            "critica/mact20.txt: Porto Alegre: Colombo (1866)\n",
            "critica/mact21.txt: Propósito (1866)\n",
            "critica/mact22.txt: Castro Alves (1868)\n",
            "critica/mact23.txt: Lúcio de Mendonça: Névoas matutinas (1872)\n",
            "critica/mact24.txt: Un cuento endemoniado e La mujer misteriosa , de Guilherme Malta (1872)\n",
            "critica/mact25.txt: Notícia da atual literatura brasileira: Instinto de nacionalidade (1873)\n",
            "critica/mact26.txt: Fagundes Varela (1875)\n",
            "critica/mact27.txt: Eça de Queirós: O primo Basílio (1878)\n",
            "critica/mact28.txt: Francisco de Castro: Harmonias errantes (1878)\n",
            "critica/mact29.txt: A Nova geração (1879)\n",
            "critica/mact30.txt: Carlos Jansen: Contos seletos das mil e uma noites (1882)\n",
            "critica/mact31.txt: Raimundo Correia: Sinfonias (1882)\n",
            "critica/mact32.txt: Alberto de Oliveira: Meridionais (1884)\n",
            "critica/mact33.txt: Enéias Galvão: Miragens (1885)\n",
            "critica/mact34.txt: L. L. Fernandes Pinheiro Júnior: Tipos e quadros (1886)\n",
            "critica/mact35.txt: José de Alencar: O Guarani (1887)\n",
            "critica/mact36.txt: Henriqueta Renan (1896)\n",
            "critica/mact37.txt: Discursos na Academia Brasileira de Letras (1897)\n",
            "critica/mact38.txt: Magalhães de Azeredo: Procelárias (1898)\n",
            "critica/mact39.txt: Cenas da vida amazônica , de José Veríssimo (1899)\n",
            "critica/mact40.txt: Garrett (1899)\n",
            "critica/mact41.txt: Eça de Queirós (1900)\n",
            "critica/mact42.txt: Eduardo Prado (1901)\n",
            "critica/mact43.txt: Magalhães de Azeredo e Mário de Alencar: Horas sagradas e Versos (1902)\n",
            "critica/mact44.txt: Oliveira Lima: Secretário d'el-rei (1904)\n",
            "critica/mact45.txt: Joaquim Nabuco: Pensées détachées et souvenirs (1906)\n",
            "\n",
            "Miscelanea\n",
            "\n",
            "miscelanea/mams01.txt: Os imortais (1859)\n",
            "miscelanea/mams02.txt: Queda que as mulheres têm para os tolos (1861)\n",
            "miscelanea/mams03.txt: Carta ao Sr. Bispo do RJ (1862)\n",
            "miscelanea/mams04.txt: Carta à redação da Imprensa Acadêmica (1864)\n",
            "miscelanea/mams05.txt: Pedro Luís (1884)\n",
            "miscelanea/mams06.txt: A morte de Francisco Otaviano (1889)\n",
            "miscelanea/mams07.txt: Secretaria de Agricultura (1890)\n",
            "miscelanea/mams08.txt: A Paixão de Jesus (1904)\n",
            "miscelanea/mams09.txt: Gonçalves Dias (1906)\n",
            "miscelanea/mams10.txt: A Estátua de José de Alencar (1906)\n",
            "\n"
          ]
        }
      ]
    },
    {
      "cell_type": "markdown",
      "metadata": {
        "id": "2xnUfxxAEubs"
      },
      "source": [
        "Para carregar um dos arquivos do *corpus*, basta utilizar o método `raw()`. Vamos carregar o romance \"Dom Casmurro\", que aparece com o nome 'romance/marm08.txt':"
      ]
    },
    {
      "cell_type": "code",
      "metadata": {
        "id": "5bdQ_i00FG6Q"
      },
      "source": [
        "obra = machado.raw('romance/marm08.txt')"
      ],
      "execution_count": 13,
      "outputs": []
    },
    {
      "cell_type": "markdown",
      "metadata": {
        "id": "D0xMlCz8Fatl"
      },
      "source": [
        "Podemos agora obter a *tokenização* do livro Dom Casmurro:"
      ]
    },
    {
      "cell_type": "code",
      "metadata": {
        "colab": {
          "base_uri": "https://localhost:8080/"
        },
        "id": "HPEnizRTCGap",
        "outputId": "a18f60cf-c0a5-4e63-a8dd-7a6a3767a2ff"
      },
      "source": [
        "palavras = word_tokenize(obra)\n",
        "palavras"
      ],
      "execution_count": 20,
      "outputs": [
        {
          "output_type": "execute_result",
          "data": {
            "text/plain": [
              "['Romance',\n",
              " ',',\n",
              " 'Dom',\n",
              " 'Casmurro',\n",
              " ',',\n",
              " '1899',\n",
              " 'Dom',\n",
              " 'Casmurro',\n",
              " 'Texto',\n",
              " 'de',\n",
              " 'referência',\n",
              " ':',\n",
              " 'Obras',\n",
              " 'Completas',\n",
              " 'de',\n",
              " 'Machado',\n",
              " 'de',\n",
              " 'Assis',\n",
              " ',',\n",
              " 'vol',\n",
              " '.',\n",
              " 'I',\n",
              " ',',\n",
              " 'Nova',\n",
              " 'Aguilar',\n",
              " ',',\n",
              " 'Rio',\n",
              " 'de',\n",
              " 'Janeiro',\n",
              " ',',\n",
              " '1994',\n",
              " '.',\n",
              " 'Publicado',\n",
              " 'originalmente',\n",
              " 'pela',\n",
              " 'Editora',\n",
              " 'Garnier',\n",
              " ',',\n",
              " 'Rio',\n",
              " 'de',\n",
              " 'Janeiro',\n",
              " ',',\n",
              " '1899',\n",
              " '.',\n",
              " 'CAPÍTULO',\n",
              " 'PRIMEIRO',\n",
              " 'DO',\n",
              " 'TÍTULO',\n",
              " 'Uma',\n",
              " 'noite',\n",
              " 'destas',\n",
              " ',',\n",
              " 'vindo',\n",
              " 'da',\n",
              " 'cidade',\n",
              " 'para',\n",
              " 'o',\n",
              " 'Engenho',\n",
              " 'Novo',\n",
              " ',',\n",
              " 'encontrei',\n",
              " 'no',\n",
              " 'trem',\n",
              " 'da',\n",
              " 'Central',\n",
              " 'um',\n",
              " 'rapaz',\n",
              " 'aqui',\n",
              " 'do',\n",
              " 'bairro',\n",
              " ',',\n",
              " 'que',\n",
              " 'eu',\n",
              " 'conheço',\n",
              " 'de',\n",
              " 'vista',\n",
              " 'e',\n",
              " 'de',\n",
              " 'chapéu',\n",
              " '.',\n",
              " 'Cumprimentou-me',\n",
              " ',',\n",
              " 'sentou-se',\n",
              " 'ao',\n",
              " 'pé',\n",
              " 'de',\n",
              " 'mim',\n",
              " ',',\n",
              " 'falou',\n",
              " 'da',\n",
              " 'Lua',\n",
              " 'e',\n",
              " 'dos',\n",
              " 'ministros',\n",
              " ',',\n",
              " 'e',\n",
              " 'acabou',\n",
              " 'recitando-me',\n",
              " 'versos',\n",
              " '.',\n",
              " 'A',\n",
              " 'viagem',\n",
              " 'era',\n",
              " 'curta',\n",
              " ',',\n",
              " 'e',\n",
              " 'os',\n",
              " 'versos',\n",
              " 'pode',\n",
              " 'ser',\n",
              " 'que',\n",
              " 'não',\n",
              " 'fossem',\n",
              " 'inteiramente',\n",
              " 'maus',\n",
              " '.',\n",
              " 'Sucedeu',\n",
              " ',',\n",
              " 'porém',\n",
              " ',',\n",
              " 'que',\n",
              " ',',\n",
              " 'como',\n",
              " 'eu',\n",
              " 'estava',\n",
              " 'cansado',\n",
              " ',',\n",
              " 'fechei',\n",
              " 'os',\n",
              " 'olhos',\n",
              " 'três',\n",
              " 'ou',\n",
              " 'quatro',\n",
              " 'vezes',\n",
              " ';',\n",
              " 'tanto',\n",
              " 'bastou',\n",
              " 'para',\n",
              " 'que',\n",
              " 'ele',\n",
              " 'interrompesse',\n",
              " 'a',\n",
              " 'leitura',\n",
              " 'e',\n",
              " 'metesse',\n",
              " 'os',\n",
              " 'versos',\n",
              " 'no',\n",
              " 'bolso',\n",
              " '.',\n",
              " '\\x97',\n",
              " 'Continue',\n",
              " ',',\n",
              " 'disse',\n",
              " 'eu',\n",
              " 'acordando',\n",
              " '.',\n",
              " '\\x97',\n",
              " 'Já',\n",
              " 'acabei',\n",
              " ',',\n",
              " 'murmurou',\n",
              " 'ele',\n",
              " '.',\n",
              " '\\x97',\n",
              " 'São',\n",
              " 'muito',\n",
              " 'bonitos',\n",
              " '.',\n",
              " 'Vi-lhe',\n",
              " 'fazer',\n",
              " 'um',\n",
              " 'gesto',\n",
              " 'para',\n",
              " 'tirá-los',\n",
              " 'outra',\n",
              " 'vez',\n",
              " 'do',\n",
              " 'bolso',\n",
              " ',',\n",
              " 'mas',\n",
              " 'não',\n",
              " 'passou',\n",
              " 'do',\n",
              " 'gesto',\n",
              " ';',\n",
              " 'estava',\n",
              " 'amuado',\n",
              " '.',\n",
              " 'No',\n",
              " 'dia',\n",
              " 'seguinte',\n",
              " 'entrou',\n",
              " 'a',\n",
              " 'dizer',\n",
              " 'de',\n",
              " 'mim',\n",
              " 'nomes',\n",
              " 'feios',\n",
              " ',',\n",
              " 'e',\n",
              " 'acabou',\n",
              " 'alcunhando-me',\n",
              " 'Dom',\n",
              " 'Casmurro',\n",
              " '.',\n",
              " 'Os',\n",
              " 'vizinhos',\n",
              " ',',\n",
              " 'que',\n",
              " 'não',\n",
              " 'gostam',\n",
              " 'dos',\n",
              " 'meus',\n",
              " 'hábitos',\n",
              " 'reclusos',\n",
              " 'e',\n",
              " 'calados',\n",
              " ',',\n",
              " 'deram',\n",
              " 'curso',\n",
              " 'à',\n",
              " 'alcunha',\n",
              " ',',\n",
              " 'que',\n",
              " 'afinal',\n",
              " 'pegou',\n",
              " '.',\n",
              " 'Nem',\n",
              " 'por',\n",
              " 'isso',\n",
              " 'me',\n",
              " 'zanguei',\n",
              " '.',\n",
              " 'Contei',\n",
              " 'a',\n",
              " 'anedota',\n",
              " 'aos',\n",
              " 'amigos',\n",
              " 'da',\n",
              " 'cidade',\n",
              " ',',\n",
              " 'e',\n",
              " 'eles',\n",
              " ',',\n",
              " 'por',\n",
              " 'graça',\n",
              " ',',\n",
              " 'chamam-me',\n",
              " 'assim',\n",
              " ',',\n",
              " 'alguns',\n",
              " 'em',\n",
              " 'bilhetes',\n",
              " ':',\n",
              " \"'Dom\",\n",
              " 'Casmurro',\n",
              " ',',\n",
              " 'domingo',\n",
              " 'vou',\n",
              " 'jantar',\n",
              " 'com',\n",
              " 'você\\x94.\\x97',\n",
              " \"'Vou\",\n",
              " 'para',\n",
              " 'Petrópolis',\n",
              " ',',\n",
              " 'Dom',\n",
              " 'Casmurro',\n",
              " ';',\n",
              " 'a',\n",
              " 'casa',\n",
              " 'é',\n",
              " 'a',\n",
              " 'mesma',\n",
              " 'da',\n",
              " 'Renânia',\n",
              " ';',\n",
              " 'vê',\n",
              " 'se',\n",
              " 'deixas',\n",
              " 'essa',\n",
              " 'caverna',\n",
              " 'do',\n",
              " 'Engenho',\n",
              " 'Novo',\n",
              " ',',\n",
              " 'e',\n",
              " 'vai',\n",
              " 'lá',\n",
              " 'passar',\n",
              " 'uns',\n",
              " 'quinze',\n",
              " 'dias',\n",
              " 'comigo\\x94.\\x97',\n",
              " \"'Meu\",\n",
              " 'caro',\n",
              " 'Dom',\n",
              " 'Casmurro',\n",
              " ',',\n",
              " 'não',\n",
              " 'cuide',\n",
              " 'que',\n",
              " 'o',\n",
              " 'dispenso',\n",
              " 'do',\n",
              " 'teatro',\n",
              " 'amanhã',\n",
              " ';',\n",
              " 'venha',\n",
              " 'e',\n",
              " 'dormirá',\n",
              " 'aqui',\n",
              " 'na',\n",
              " 'cidade',\n",
              " ';',\n",
              " 'dou-lhe',\n",
              " 'camarote',\n",
              " ',',\n",
              " 'dou-lhe',\n",
              " 'chá',\n",
              " ',',\n",
              " 'dou-lhe',\n",
              " 'cama',\n",
              " ';',\n",
              " 'só',\n",
              " 'não',\n",
              " 'lhe',\n",
              " 'dou',\n",
              " 'moça\\x94',\n",
              " '.',\n",
              " 'Não',\n",
              " 'consultes',\n",
              " 'dicionários',\n",
              " '.',\n",
              " 'Casmurro',\n",
              " 'não',\n",
              " 'está',\n",
              " 'aqui',\n",
              " 'no',\n",
              " 'sentido',\n",
              " 'que',\n",
              " 'eles',\n",
              " 'lhe',\n",
              " 'dão',\n",
              " ',',\n",
              " 'mas',\n",
              " 'no',\n",
              " 'que',\n",
              " 'lhe',\n",
              " 'pôs',\n",
              " 'o',\n",
              " 'vulgo',\n",
              " 'de',\n",
              " 'homem',\n",
              " 'calado',\n",
              " 'e',\n",
              " 'metido',\n",
              " 'consigo',\n",
              " '.',\n",
              " 'Dom',\n",
              " 'veio',\n",
              " 'por',\n",
              " 'ironia',\n",
              " ',',\n",
              " 'para',\n",
              " 'atribuir-me',\n",
              " 'fumos',\n",
              " 'de',\n",
              " 'fidalgo',\n",
              " '.',\n",
              " 'Tudo',\n",
              " 'por',\n",
              " 'estar',\n",
              " 'cochilando',\n",
              " '!',\n",
              " 'Também',\n",
              " 'não',\n",
              " 'achei',\n",
              " 'melhor',\n",
              " 'título',\n",
              " 'para',\n",
              " 'a',\n",
              " 'minha',\n",
              " 'narração',\n",
              " ';',\n",
              " 'se',\n",
              " 'não',\n",
              " 'tiver',\n",
              " 'outro',\n",
              " 'daqui',\n",
              " 'até',\n",
              " 'ao',\n",
              " 'fim',\n",
              " 'do',\n",
              " 'livro',\n",
              " ',',\n",
              " 'vai',\n",
              " 'este',\n",
              " 'mesmo',\n",
              " '.',\n",
              " 'O',\n",
              " 'meu',\n",
              " 'poeta',\n",
              " 'do',\n",
              " 'trem',\n",
              " 'ficará',\n",
              " 'sabendo',\n",
              " 'que',\n",
              " 'não',\n",
              " 'lhe',\n",
              " 'guardo',\n",
              " 'rancor',\n",
              " '.',\n",
              " 'E',\n",
              " 'com',\n",
              " 'pequeno',\n",
              " 'esforço',\n",
              " ',',\n",
              " 'sendo',\n",
              " 'o',\n",
              " 'título',\n",
              " 'seu',\n",
              " ',',\n",
              " 'poderá',\n",
              " 'cuidar',\n",
              " 'que',\n",
              " 'a',\n",
              " 'obra',\n",
              " 'é',\n",
              " 'sua',\n",
              " '.',\n",
              " 'Há',\n",
              " 'livros',\n",
              " 'que',\n",
              " 'apenas',\n",
              " 'terão',\n",
              " 'isso',\n",
              " 'dos',\n",
              " 'seus',\n",
              " 'autores',\n",
              " ';',\n",
              " 'alguns',\n",
              " 'nem',\n",
              " 'tanto',\n",
              " '.',\n",
              " 'CAPÍTULO',\n",
              " 'II',\n",
              " 'DO',\n",
              " 'LIVRO',\n",
              " 'Agora',\n",
              " 'que',\n",
              " 'expliquei',\n",
              " 'o',\n",
              " 'título',\n",
              " ',',\n",
              " 'passo',\n",
              " 'a',\n",
              " 'escrever',\n",
              " 'o',\n",
              " 'livro',\n",
              " '.',\n",
              " 'Antes',\n",
              " 'disso',\n",
              " ',',\n",
              " 'porém',\n",
              " ',',\n",
              " 'digamos',\n",
              " 'os',\n",
              " 'motivos',\n",
              " 'que',\n",
              " 'me',\n",
              " 'põem',\n",
              " 'a',\n",
              " 'pena',\n",
              " 'na',\n",
              " 'mão',\n",
              " '.',\n",
              " 'Vivo',\n",
              " 'só',\n",
              " ',',\n",
              " 'com',\n",
              " 'um',\n",
              " 'criado',\n",
              " '.',\n",
              " 'A',\n",
              " 'casa',\n",
              " 'em',\n",
              " 'que',\n",
              " 'moro',\n",
              " 'é',\n",
              " 'própria',\n",
              " ';',\n",
              " 'fi-la',\n",
              " 'construir',\n",
              " 'de',\n",
              " 'propósito',\n",
              " ',',\n",
              " 'levado',\n",
              " 'de',\n",
              " 'um',\n",
              " 'desejo',\n",
              " 'tão',\n",
              " 'particular',\n",
              " 'que',\n",
              " 'me',\n",
              " 'vexa',\n",
              " 'imprimi-lo',\n",
              " ',',\n",
              " 'mas',\n",
              " 'vá',\n",
              " 'lá',\n",
              " '.',\n",
              " 'Um',\n",
              " 'dia',\n",
              " ',',\n",
              " 'há',\n",
              " 'bastantes',\n",
              " 'anos',\n",
              " ',',\n",
              " 'lembrou-me',\n",
              " 'reproduzir',\n",
              " 'no',\n",
              " 'Engenho',\n",
              " 'Novo',\n",
              " 'a',\n",
              " 'casa',\n",
              " 'em',\n",
              " 'que',\n",
              " 'me',\n",
              " 'criei',\n",
              " 'na',\n",
              " 'antiga',\n",
              " 'Rua',\n",
              " 'de',\n",
              " 'Mata-cavalos',\n",
              " ',',\n",
              " 'dando-lhe',\n",
              " 'o',\n",
              " 'mesmo',\n",
              " 'aspecto',\n",
              " 'e',\n",
              " 'economia',\n",
              " 'daquela',\n",
              " 'outra',\n",
              " ',',\n",
              " 'que',\n",
              " 'desapareceu',\n",
              " '.',\n",
              " 'Construtor',\n",
              " 'e',\n",
              " 'pintor',\n",
              " 'entenderam',\n",
              " 'bem',\n",
              " 'as',\n",
              " 'indicações',\n",
              " 'que',\n",
              " 'lhes',\n",
              " 'fiz',\n",
              " ':',\n",
              " 'é',\n",
              " 'o',\n",
              " 'mesmo',\n",
              " 'prédio',\n",
              " 'assobradado',\n",
              " ',',\n",
              " 'três',\n",
              " 'janelas',\n",
              " 'de',\n",
              " 'frente',\n",
              " ',',\n",
              " 'varanda',\n",
              " 'ao',\n",
              " 'fundo',\n",
              " ',',\n",
              " 'as',\n",
              " 'mesmas',\n",
              " 'alcovas',\n",
              " 'e',\n",
              " 'salas',\n",
              " '.',\n",
              " 'Na',\n",
              " 'principal',\n",
              " 'destas',\n",
              " ',',\n",
              " 'a',\n",
              " 'pintura',\n",
              " 'do',\n",
              " 'teto',\n",
              " 'e',\n",
              " 'das',\n",
              " 'paredes',\n",
              " 'é',\n",
              " 'mais',\n",
              " 'ou',\n",
              " 'menos',\n",
              " 'igual',\n",
              " ',',\n",
              " 'umas',\n",
              " 'grinaldas',\n",
              " 'de',\n",
              " 'flores',\n",
              " 'miúdas',\n",
              " 'e',\n",
              " 'grandes',\n",
              " 'pássaros',\n",
              " 'que',\n",
              " 'as',\n",
              " 'tomam',\n",
              " 'nos',\n",
              " 'bicos',\n",
              " ',',\n",
              " 'de',\n",
              " 'espaço',\n",
              " 'a',\n",
              " 'espaço',\n",
              " '.',\n",
              " 'Nos',\n",
              " 'quatro',\n",
              " 'cantos',\n",
              " 'do',\n",
              " 'teto',\n",
              " 'as',\n",
              " 'figuras',\n",
              " 'das',\n",
              " 'estações',\n",
              " ',',\n",
              " 'e',\n",
              " 'ao',\n",
              " 'centro',\n",
              " 'das',\n",
              " 'paredes',\n",
              " 'os',\n",
              " 'medalhões',\n",
              " 'de',\n",
              " 'César',\n",
              " ',',\n",
              " 'Augusto',\n",
              " ',',\n",
              " 'Nero',\n",
              " 'e',\n",
              " 'Massinissa',\n",
              " ',',\n",
              " 'com',\n",
              " 'os',\n",
              " 'nomes',\n",
              " 'por',\n",
              " 'baixo',\n",
              " '...',\n",
              " 'Não',\n",
              " 'alcanço',\n",
              " 'a',\n",
              " 'razão',\n",
              " 'de',\n",
              " 'tais',\n",
              " 'personagens',\n",
              " '.',\n",
              " 'Quando',\n",
              " 'fomos',\n",
              " 'para',\n",
              " 'a',\n",
              " 'casa',\n",
              " 'de',\n",
              " 'Mata-cavalos',\n",
              " ',',\n",
              " 'já',\n",
              " 'ela',\n",
              " 'estava',\n",
              " 'assim',\n",
              " 'decorada',\n",
              " ';',\n",
              " 'vinha',\n",
              " 'do',\n",
              " 'decênio',\n",
              " 'anterior',\n",
              " '.',\n",
              " 'Naturalmente',\n",
              " 'era',\n",
              " 'gosto',\n",
              " 'do',\n",
              " 'tempo',\n",
              " 'meter',\n",
              " 'sabor',\n",
              " 'clássico',\n",
              " 'e',\n",
              " 'figuras',\n",
              " 'antigas',\n",
              " 'em',\n",
              " 'pinturas',\n",
              " 'americanas',\n",
              " '.',\n",
              " 'O',\n",
              " 'mais',\n",
              " 'é',\n",
              " 'também',\n",
              " 'análogo',\n",
              " 'e',\n",
              " 'parecido',\n",
              " '.',\n",
              " 'Tenho',\n",
              " 'chacarinha',\n",
              " ',',\n",
              " 'flores',\n",
              " ',',\n",
              " 'legume',\n",
              " ',',\n",
              " 'uma',\n",
              " 'casuarina',\n",
              " ',',\n",
              " 'um',\n",
              " 'poço',\n",
              " 'e',\n",
              " 'lavadouro',\n",
              " '.',\n",
              " 'Uso',\n",
              " 'louça',\n",
              " 'velha',\n",
              " 'e',\n",
              " 'mobília',\n",
              " 'velha',\n",
              " '.',\n",
              " 'Enfim',\n",
              " ',',\n",
              " 'agora',\n",
              " ',',\n",
              " 'como',\n",
              " 'outrora',\n",
              " ',',\n",
              " 'há',\n",
              " 'aqui',\n",
              " 'o',\n",
              " 'mesmo',\n",
              " 'contraste',\n",
              " 'da',\n",
              " 'vida',\n",
              " 'interior',\n",
              " ',',\n",
              " 'que',\n",
              " 'é',\n",
              " 'pacata',\n",
              " ',',\n",
              " 'com',\n",
              " 'a',\n",
              " 'exterior',\n",
              " ',',\n",
              " 'que',\n",
              " 'é',\n",
              " 'ruidosa',\n",
              " '.',\n",
              " 'O',\n",
              " 'meu',\n",
              " 'fim',\n",
              " 'evidente',\n",
              " 'era',\n",
              " 'atar',\n",
              " 'as',\n",
              " 'duas',\n",
              " 'pontas',\n",
              " 'da',\n",
              " 'vida',\n",
              " ',',\n",
              " 'e',\n",
              " 'restaurar',\n",
              " 'na',\n",
              " 'velhice',\n",
              " 'a',\n",
              " 'adolescência',\n",
              " '.',\n",
              " 'Pois',\n",
              " ',',\n",
              " 'senhor',\n",
              " ',',\n",
              " 'não',\n",
              " 'consegui',\n",
              " 'recompor',\n",
              " 'o',\n",
              " 'que',\n",
              " 'foi',\n",
              " 'nem',\n",
              " 'o',\n",
              " 'que',\n",
              " 'fui',\n",
              " '.',\n",
              " 'Em',\n",
              " 'tudo',\n",
              " ',',\n",
              " 'se',\n",
              " 'o',\n",
              " 'rosto',\n",
              " 'é',\n",
              " 'igual',\n",
              " ',',\n",
              " 'a',\n",
              " 'fisionomia',\n",
              " 'é',\n",
              " 'diferente',\n",
              " '.',\n",
              " 'Se',\n",
              " 'só',\n",
              " 'me',\n",
              " 'faltassem',\n",
              " 'os',\n",
              " 'outros',\n",
              " ',',\n",
              " 'vá',\n",
              " ';',\n",
              " 'um',\n",
              " 'homem',\n",
              " 'consola-se',\n",
              " 'mais',\n",
              " 'ou',\n",
              " 'menos',\n",
              " 'das',\n",
              " 'pessoas',\n",
              " 'que',\n",
              " 'perde',\n",
              " ';',\n",
              " 'mais',\n",
              " 'falto',\n",
              " 'eu',\n",
              " 'mesmo',\n",
              " ',',\n",
              " 'e',\n",
              " 'esta',\n",
              " 'lacuna',\n",
              " 'é',\n",
              " 'tudo',\n",
              " '.',\n",
              " 'O',\n",
              " 'que',\n",
              " 'aqui',\n",
              " 'está',\n",
              " 'é',\n",
              " ',',\n",
              " 'mal',\n",
              " 'comparando',\n",
              " ',',\n",
              " 'semelhante',\n",
              " 'à',\n",
              " 'pintura',\n",
              " 'que',\n",
              " 'se',\n",
              " 'põe',\n",
              " 'na',\n",
              " 'barba',\n",
              " 'e',\n",
              " 'nos',\n",
              " 'cabelos',\n",
              " ',',\n",
              " 'e',\n",
              " 'que',\n",
              " 'apenas',\n",
              " 'conserva',\n",
              " 'o',\n",
              " 'hábito',\n",
              " 'externo',\n",
              " ',',\n",
              " 'como',\n",
              " 'se',\n",
              " 'diz',\n",
              " 'nas',\n",
              " 'autópsias',\n",
              " ';',\n",
              " 'o',\n",
              " 'interno',\n",
              " 'não',\n",
              " 'agüenta',\n",
              " 'tinta',\n",
              " '.',\n",
              " 'Uma',\n",
              " 'certidão',\n",
              " 'que',\n",
              " 'me',\n",
              " 'desse',\n",
              " 'vinte',\n",
              " 'anos',\n",
              " 'de',\n",
              " 'idade',\n",
              " 'poderia',\n",
              " 'enganar',\n",
              " 'os',\n",
              " 'estranhos',\n",
              " ',',\n",
              " 'como',\n",
              " 'todos',\n",
              " 'os',\n",
              " 'documentos',\n",
              " 'falsos',\n",
              " ',',\n",
              " 'mas',\n",
              " 'não',\n",
              " 'a',\n",
              " 'mim',\n",
              " '.',\n",
              " 'Os',\n",
              " 'amigos',\n",
              " 'que',\n",
              " 'me',\n",
              " 'restam',\n",
              " 'são',\n",
              " 'de',\n",
              " 'data',\n",
              " 'recente',\n",
              " ';',\n",
              " 'todos',\n",
              " 'os',\n",
              " 'antigos',\n",
              " 'foram',\n",
              " 'estudar',\n",
              " 'a',\n",
              " 'geologia',\n",
              " 'dos',\n",
              " 'campos-santos',\n",
              " '.',\n",
              " 'Quanto',\n",
              " 'às',\n",
              " 'amigas',\n",
              " ',',\n",
              " 'algumas',\n",
              " 'datam',\n",
              " 'de',\n",
              " 'quinze',\n",
              " 'anos',\n",
              " ',',\n",
              " 'outras',\n",
              " 'de',\n",
              " 'menos',\n",
              " ',',\n",
              " 'e',\n",
              " 'quase',\n",
              " 'todas',\n",
              " 'crêem',\n",
              " 'na',\n",
              " 'mocidade',\n",
              " '.',\n",
              " 'Duas',\n",
              " 'ou',\n",
              " 'três',\n",
              " 'fariam',\n",
              " 'crer',\n",
              " 'nela',\n",
              " 'aos',\n",
              " 'outros',\n",
              " ',',\n",
              " 'mas',\n",
              " 'a',\n",
              " 'língua',\n",
              " 'que',\n",
              " 'falam',\n",
              " 'obriga',\n",
              " 'muita',\n",
              " 'vez',\n",
              " 'a',\n",
              " 'consultar',\n",
              " 'os',\n",
              " 'dicionários',\n",
              " ',',\n",
              " 'e',\n",
              " 'tal',\n",
              " 'freqüência',\n",
              " 'é',\n",
              " 'cansativa',\n",
              " '.',\n",
              " 'Entretanto',\n",
              " ',',\n",
              " 'vida',\n",
              " 'diferente',\n",
              " 'não',\n",
              " 'quer',\n",
              " 'dizer',\n",
              " 'vida',\n",
              " 'pior',\n",
              " ';',\n",
              " 'é',\n",
              " 'outra',\n",
              " 'coisa',\n",
              " '.',\n",
              " 'A',\n",
              " 'certos',\n",
              " 'respeitos',\n",
              " ',',\n",
              " 'aquela',\n",
              " 'vida',\n",
              " 'antiga',\n",
              " 'aparece-me',\n",
              " 'despida',\n",
              " 'de',\n",
              " 'muitos',\n",
              " 'encantos',\n",
              " 'que',\n",
              " 'lhe',\n",
              " 'achei',\n",
              " ';',\n",
              " 'mas',\n",
              " 'é',\n",
              " 'também',\n",
              " 'exato',\n",
              " 'que',\n",
              " 'perdeu',\n",
              " 'muito',\n",
              " ...]"
            ]
          },
          "metadata": {},
          "execution_count": 20
        }
      ]
    },
    {
      "cell_type": "markdown",
      "metadata": {
        "id": "6GG88HlSHDSg"
      },
      "source": [
        "Podemos contar o tamanho do texto obtido:"
      ]
    },
    {
      "cell_type": "code",
      "metadata": {
        "colab": {
          "base_uri": "https://localhost:8080/"
        },
        "id": "nuaqSEeMHJLt",
        "outputId": "b653b0db-085b-4ff5-dde2-11c82be6ade1"
      },
      "source": [
        "len(palavras)"
      ],
      "execution_count": 16,
      "outputs": [
        {
          "output_type": "execute_result",
          "data": {
            "text/plain": [
              "78900"
            ]
          },
          "metadata": {},
          "execution_count": 16
        }
      ]
    },
    {
      "cell_type": "markdown",
      "metadata": {
        "id": "ajE03pmgF8oA"
      },
      "source": [
        "### Limpeza do texto"
      ]
    },
    {
      "cell_type": "markdown",
      "metadata": {
        "id": "YpIpXS9wGFo3"
      },
      "source": [
        "Em aplicações de PLN, são avaliadas unidades de texto como sílabas, palavras, frases, entre outras, e não os caracteres do texto. Sendo assim, geralmente são empregadas estratégias de limpeza do texto.\n",
        "\n",
        "Vamos realizar a remoção da pontuação e a conversão de todo o texto para caracteres minúsculos. Podemos definir uma função para que isso possa ser feito sempre que necessário, sem repetição de códigos:"
      ]
    },
    {
      "cell_type": "code",
      "metadata": {
        "id": "hfLrC7mwF1KQ"
      },
      "source": [
        "def limpar(lista):\n",
        "  lixo = '.,:.;?!\"`()[]{}\\/|#$%^&*'\n",
        "  quase_limpo = [x.strip(lixo).lower() for x in lista]\n",
        "  return [x for x in quase_limpo if x.isalpha() or '-' in x]"
      ],
      "execution_count": 17,
      "outputs": []
    },
    {
      "cell_type": "code",
      "metadata": {
        "colab": {
          "base_uri": "https://localhost:8080/"
        },
        "id": "Uz4-rq78Ikjp",
        "outputId": "08bb3deb-e70d-4717-ec81-8571c1a21b2f"
      },
      "source": [
        "corpus_sujo = ['banana', 'maçã.', 'abaca.te', ':Melancia']\n",
        "print(limpar(corpus_sujo))"
      ],
      "execution_count": 18,
      "outputs": [
        {
          "output_type": "stream",
          "name": "stdout",
          "text": [
            "['banana', 'maçã', 'melancia']\n"
          ]
        }
      ]
    },
    {
      "cell_type": "markdown",
      "metadata": {
        "id": "Za0TzKTgIvX5"
      },
      "source": [
        "Vamos comparar o copus da obra Dom Casmurro antes e depois da limpeza:"
      ]
    },
    {
      "cell_type": "code",
      "metadata": {
        "colab": {
          "base_uri": "https://localhost:8080/"
        },
        "id": "rIaAuS-6IrGI",
        "outputId": "bd2b2128-56c7-43b8-c1ee-1166e6d24a45"
      },
      "source": [
        "print(\"Antes da limpeza:\", len(palavras))\n",
        "palavras = limpar(palavras)\n",
        "print(\"Depois da limpeza:\", len(palavras))"
      ],
      "execution_count": 21,
      "outputs": [
        {
          "output_type": "stream",
          "name": "stdout",
          "text": [
            "Antes da limpeza: 78900\n",
            "Depois da limpeza: 65180\n"
          ]
        }
      ]
    },
    {
      "cell_type": "markdown",
      "metadata": {
        "id": "utjtgtodL0i0"
      },
      "source": [
        "Outra forma de realizar a limpeza de um *corpus* é através da remoção de **palavras vazias**. Palavras vazias são palavras que podem ser descartadas antes de uma análise pois possuem reduzida contribuição semântica ou nocional. Geralmente são preposições, artigos, conjunções, alguns pronomes e advérbios.\n",
        "\n",
        "A NLTK traz uma lista de 203 palavras vazias para o português. Podemos importa-las usando:"
      ]
    },
    {
      "cell_type": "code",
      "metadata": {
        "id": "swZW3tOyI8T5"
      },
      "source": [
        "vazias = nltk.corpus.stopwords.words('portuguese')"
      ],
      "execution_count": 22,
      "outputs": []
    },
    {
      "cell_type": "markdown",
      "metadata": {
        "id": "P0Z0QGBLNPZF"
      },
      "source": [
        "Vamos ver um exemplo:"
      ]
    },
    {
      "cell_type": "code",
      "metadata": {
        "colab": {
          "base_uri": "https://localhost:8080/"
        },
        "id": "cp19flEINJDV",
        "outputId": "9a2d1d80-9e4b-4d84-c911-e0067a47b7a4"
      },
      "source": [
        "sentenca = 'Eu estou aprendendo Python. É uma das linguagens de programação mais populares.'\n",
        "palavras_da_sentenca = word_tokenize(sentenca)\n",
        "print(palavras_da_sentenca)\n",
        "sentenca_sem_palavras_vazias = ' '.join([palavra for palavra in palavras_da_sentenca if palavra not in vazias])\n",
        "print(sentenca_sem_palavras_vazias)"
      ],
      "execution_count": 23,
      "outputs": [
        {
          "output_type": "stream",
          "name": "stdout",
          "text": [
            "['Eu', 'estou', 'aprendendo', 'Python', '.', 'É', 'uma', 'das', 'linguagens', 'de', 'programação', 'mais', 'populares', '.']\n",
            "Eu aprendendo Python . É linguagens programação populares .\n"
          ]
        }
      ]
    },
    {
      "cell_type": "markdown",
      "metadata": {
        "id": "PXoJX8rbOCHa"
      },
      "source": [
        "O código acima realizou a remoção das palavras que são consideradas vazias, deixando a sentença estranha para a leitura, mas com mais significado para análises com PLN.\n",
        "\n",
        "Vamos criar uma função que remova as palavras vazias e aplicá-la a obra Dom Casmurro e verificar a mudança no tamanho do *corpus*."
      ]
    },
    {
      "cell_type": "code",
      "metadata": {
        "id": "sctkW9U5N6ym"
      },
      "source": [
        "def remove_vazias(lista):\n",
        "  return [palavra for palavra in lista if palavra not in vazias]"
      ],
      "execution_count": 24,
      "outputs": []
    },
    {
      "cell_type": "code",
      "metadata": {
        "colab": {
          "base_uri": "https://localhost:8080/"
        },
        "id": "BnbMEEekOtBC",
        "outputId": "50d7b581-13d0-46ef-d324-369f71246acd"
      },
      "source": [
        "print(\"Antes da limpeza de palavras vazias:\", len(palavras))\n",
        "palavras_sem_vazias = remove_vazias(palavras)\n",
        "print(\"Depois da limpeza de palavras vazias:\", len(palavras_sem_vazias))"
      ],
      "execution_count": 26,
      "outputs": [
        {
          "output_type": "stream",
          "name": "stdout",
          "text": [
            "Antes da limpeza de palavras vazias: 65180\n",
            "Depois da limpeza de palavras vazias: 35428\n"
          ]
        }
      ]
    },
    {
      "cell_type": "markdown",
      "metadata": {
        "id": "sb-rPHV4PDvs"
      },
      "source": [
        "### Contagens"
      ]
    },
    {
      "cell_type": "markdown",
      "metadata": {
        "id": "B_UdQusFPGHa"
      },
      "source": [
        "Outra tarefa comum no PLN é a contagem de palavras para gerar algumas estatísticas e analisar o vocabulário e a riqueza lexical."
      ]
    },
    {
      "cell_type": "markdown",
      "metadata": {
        "id": "9_bxFinnPVcL"
      },
      "source": [
        "#### Vocabulário"
      ]
    },
    {
      "cell_type": "markdown",
      "metadata": {
        "id": "UVC8n2JyPggH"
      },
      "source": [
        "O vocabulário é basicamente uma lista de todas as palavras que aparecem no *corpus*. É como um dicionário, e sendo assim, não apresenta repetição de palavras. Podemos obter o vocabulário facilmente:"
      ]
    },
    {
      "cell_type": "code",
      "metadata": {
        "colab": {
          "base_uri": "https://localhost:8080/"
        },
        "id": "TnBu1BaQO3bR",
        "outputId": "94b7064c-800b-4c5f-f799-ff3b41ce09c8"
      },
      "source": [
        "vocabulario_sem_limpeza = set(palavras)\n",
        "print(\"Vocabulário sem a remoção de palavras vazias: \", len(vocabulario_sem_limpeza))\n",
        "vocabulario = set(palavras_sem_vazias)\n",
        "print(\"Vocabulário com a remoção de palavras vazias: \", len(vocabulario))"
      ],
      "execution_count": 28,
      "outputs": [
        {
          "output_type": "stream",
          "name": "stdout",
          "text": [
            "Vocabulário sem a remoção de palavras vazias:  9234\n",
            "Vocabulário com a remoção de palavras vazias:  9066\n"
          ]
        }
      ]
    },
    {
      "cell_type": "markdown",
      "metadata": {
        "id": "78IlMC6UT6xd"
      },
      "source": [
        "#### Riqueza lexical"
      ]
    },
    {
      "cell_type": "markdown",
      "metadata": {
        "id": "FV7vGLnGT_oN"
      },
      "source": [
        "A riqueza lexical trata-se do número de palavras distintas dividido pelo número total de palavras. O intuito dessa conta é que, quanto mais palavras diferentes aparecem no *corpus*, maior a diversidade (ou riqueza) do vocabulário.\n",
        "\n",
        "Sendo assim, podemos fazer a análise da riqueza lexical de forma muito simples:"
      ]
    },
    {
      "cell_type": "code",
      "metadata": {
        "colab": {
          "base_uri": "https://localhost:8080/"
        },
        "id": "nH6opdtsSBL7",
        "outputId": "c5490bc3-4e9f-40fe-f251-ca6ef7910948"
      },
      "source": [
        "riqueza = len(vocabulario) / len(palavras)\n",
        "riqueza"
      ],
      "execution_count": 34,
      "outputs": [
        {
          "output_type": "execute_result",
          "data": {
            "text/plain": [
              "0.13909174593433568"
            ]
          },
          "metadata": {},
          "execution_count": 34
        }
      ]
    },
    {
      "cell_type": "markdown",
      "metadata": {
        "id": "2GDlDSbHP4NF"
      },
      "source": [
        "#### Ocorrências"
      ]
    },
    {
      "cell_type": "markdown",
      "metadata": {
        "id": "rCCWLnvLQWpM"
      },
      "source": [
        "É comum querermos saber quais são as palavras que possuem mais ocorrências em um texto. Podemos criar um dicionário no Python que associa a palavra a sua contagem de ocorrências."
      ]
    },
    {
      "cell_type": "code",
      "metadata": {
        "id": "f6aIZcqcP2za"
      },
      "source": [
        "from collections import defaultdict\n",
        "def ocorrencias(lista_palavras):\n",
        "    dicionario = defaultdict(int)\n",
        "    for p in lista_palavras:\n",
        "        dicionario[p] += 1\n",
        "    \n",
        "    return dicionario"
      ],
      "execution_count": 29,
      "outputs": []
    },
    {
      "cell_type": "markdown",
      "metadata": {
        "id": "_-zLbSfhSvhO"
      },
      "source": [
        "Utilizando a função acima, podemos obter uma estrutura do Python que contém uma chave e um valor, no nosso caso uma palavra e sua contagem de ocorrências.\n",
        "\n",
        "Podemos utilizar uma função do Python chamada `sorted()` que, com algumas alterações, pode ordenar as palavras em função da sua ocorrência. No exemplo a seguir, veremos as 10 palavras mais frequentes considerando a obra Dom Casmurro sem a remoção das palavras vazias:"
      ]
    },
    {
      "cell_type": "code",
      "metadata": {
        "colab": {
          "base_uri": "https://localhost:8080/"
        },
        "id": "7BGZIKOLRgkT",
        "outputId": "3d97655c-d3fa-4f65-e5fe-d5aed54e5c28"
      },
      "source": [
        "dic = ocorrencias(palavras)\n",
        "mais_frequentes = sorted(dic.items(), key=lambda tupla:tupla[1], reverse=True)[:10]\n",
        "for palavra, n in mais_frequentes:\n",
        "    print(palavra, '\\t', n)"
      ],
      "execution_count": 32,
      "outputs": [
        {
          "output_type": "stream",
          "name": "stdout",
          "text": [
            "que \t 2683\n",
            "a \t 2483\n",
            "e \t 2184\n",
            "de \t 1975\n",
            "o \t 1667\n",
            "não \t 1524\n",
            "um \t 771\n",
            "é \t 715\n",
            "os \t 660\n",
            "da \t 626\n"
          ]
        }
      ]
    },
    {
      "cell_type": "markdown",
      "metadata": {
        "id": "2fJ_KIz4Sva8"
      },
      "source": [
        "Agora, o mesmo trecho pode ser utilizado para verificarmos as 10 mais frequentes com a limpeza de palavras vazias:"
      ]
    },
    {
      "cell_type": "code",
      "metadata": {
        "colab": {
          "base_uri": "https://localhost:8080/"
        },
        "id": "apzffFztR9EO",
        "outputId": "047ebcfe-02ca-4436-aa33-1de39911578d"
      },
      "source": [
        "dic = ocorrencias(palavras_sem_vazias)\n",
        "mais_frequentes = sorted(dic.items(), key=lambda tupla:tupla[1], reverse=True)[:10]\n",
        "for palavra, n in mais_frequentes:\n",
        "    print(palavra, '\\t', n)"
      ],
      "execution_count": 33,
      "outputs": [
        {
          "output_type": "stream",
          "name": "stdout",
          "text": [
            "é \t 715\n",
            "capitu \t 341\n",
            "mãe \t 228\n",
            "dias \t 192\n",
            "tudo \t 189\n",
            "capítulo \t 188\n",
            "casa \t 169\n",
            "ser \t 167\n",
            "olhos \t 163\n",
            "mim \t 162\n"
          ]
        }
      ]
    },
    {
      "cell_type": "markdown",
      "metadata": {
        "id": "9nn5yZU4VVeF"
      },
      "source": [
        "### Stemming"
      ]
    },
    {
      "cell_type": "markdown",
      "metadata": {
        "id": "gNnea2KuVrz-"
      },
      "source": [
        "O processo de *stemming* está relacionado a reduzir as palavras a suas raízes morfológicas, eliminando assim algumas formas flexionadas que possuem o mesmo significado.\n",
        "\n",
        "Essa é uma estratégia que deve ser usada somente em determinadas situações, uma vez que homônimos indesejados podem surgir, como por exemplo: \"nada\", advérbio, e \"nadaram\", forma conjulgada do verbo \"nadar\", seriam reduzidas na raiz \"nad\". Todas essas raízes seriam contadas uma única vez, afetando a descrição do *corpus*. Porém a técnica pode ser útil na identificação de termos mais raros no *corpus*, as chamadas **Hápax legômena**.\n",
        "\n",
        "Podemos utilizar um **stemmer** para reduzir as palavras. Vamos empregar um dos módulos da NLTK."
      ]
    },
    {
      "cell_type": "code",
      "metadata": {
        "colab": {
          "base_uri": "https://localhost:8080/"
        },
        "id": "PEkqd8ieVekU",
        "outputId": "4ead4684-81e0-414e-98ea-7228430a9aa6"
      },
      "source": [
        "stemmer = nltk.stem.RSLPStemmer()\n",
        "raizes = [stemmer.stem(x) for x in set(palavras)]\n",
        "raizes[:10]"
      ],
      "execution_count": 38,
      "outputs": [
        {
          "output_type": "execute_result",
          "data": {
            "text/plain": [
              "['sent',\n",
              " 'confid',\n",
              " 'compr',\n",
              " 'mir',\n",
              " 'percebê-l',\n",
              " 'fortaleceram-m',\n",
              " 'institu',\n",
              " 'for',\n",
              " 'guard',\n",
              " 'comparou-n']"
            ]
          },
          "metadata": {},
          "execution_count": 38
        }
      ]
    },
    {
      "cell_type": "markdown",
      "metadata": {
        "id": "cIxxe6SSYCJ-"
      },
      "source": [
        "Podemos calcular a riqueza lexical utilizando as raízes, lembrando porém que a forma tradicional é a apresentada anteriormente:"
      ]
    },
    {
      "cell_type": "code",
      "metadata": {
        "colab": {
          "base_uri": "https://localhost:8080/"
        },
        "id": "W708dQ8CXrF6",
        "outputId": "934a08e8-6cb6-4ba6-ab17-fe0fff7d6924"
      },
      "source": [
        "len(set(raizes)) / len(raizes)"
      ],
      "execution_count": 39,
      "outputs": [
        {
          "output_type": "execute_result",
          "data": {
            "text/plain": [
              "0.5367121507472384"
            ]
          },
          "metadata": {},
          "execution_count": 39
        }
      ]
    },
    {
      "cell_type": "markdown",
      "metadata": {
        "id": "N192l9tpYn3V"
      },
      "source": [
        "### Etiquetagem"
      ]
    },
    {
      "cell_type": "markdown",
      "metadata": {
        "id": "HqxKQ0S8YrNl"
      },
      "source": [
        "A etiquetagem morfossintática, também conhecida com PoS Tagging, é o processo no qual as palavras de um *corpus* recebem uma etiqueta que representa a parte do discurso (part of speech) equivalente a palavra.\n",
        "\n",
        "Para realizar a etiquetagem, podemos empregar a biblioteca spaCy e seus componentes adicionais que permitem a etiquetagem de textos em português."
      ]
    },
    {
      "cell_type": "code",
      "metadata": {
        "colab": {
          "base_uri": "https://localhost:8080/"
        },
        "id": "WLtRdY_IYT5H",
        "outputId": "629fa948-255e-4e3d-cafa-58a23ca673d9"
      },
      "source": [
        "import spacy\n",
        "spacy.cli.download(\"pt_core_news_sm\") # Download dos recursos em pt-BR\n",
        "nlp = spacy.load('pt_core_news_sm') # Carregamento dos recursos em pt-BR"
      ],
      "execution_count": 40,
      "outputs": [
        {
          "output_type": "stream",
          "name": "stdout",
          "text": [
            "\u001b[38;5;2m✔ Download and installation successful\u001b[0m\n",
            "You can now load the model via spacy.load('pt_core_news_sm')\n"
          ]
        }
      ]
    },
    {
      "cell_type": "markdown",
      "metadata": {
        "id": "4PxNtckZaIa8"
      },
      "source": [
        "Vamos executar um exemplo simples:"
      ]
    },
    {
      "cell_type": "code",
      "metadata": {
        "colab": {
          "base_uri": "https://localhost:8080/"
        },
        "id": "S7fXXLobaDi9",
        "outputId": "0dd6b8ba-6f27-407f-df8b-e32827543797"
      },
      "source": [
        "doc = nlp('Será que vai funcionar essa etiquetagem?')\n",
        "etiq = [(x.orth_, x.pos_) for x in doc]\n",
        "print(etiq)"
      ],
      "execution_count": 41,
      "outputs": [
        {
          "output_type": "stream",
          "name": "stdout",
          "text": [
            "[('Será', 'VERB'), ('que', 'SCONJ'), ('vai', 'AUX'), ('funcionar', 'VERB'), ('essa', 'DET'), ('etiquetagem', 'NOUN'), ('?', 'PUNCT')]\n"
          ]
        }
      ]
    },
    {
      "cell_type": "markdown",
      "metadata": {
        "id": "y7Tl4x1EaOHN"
      },
      "source": [
        "Note que as etiquetas representam as funções morfológicas de cada palavra. Esses rótulos estão em inglês. Esse [post](https://stackoverflow.com/questions/40288323/what-do-spacys-part-of-speech-and-dependency-tags-mean) do stackoverflow tem uma lista que ajuda a descobrir rapidamente o significado de cada uma."
      ]
    },
    {
      "cell_type": "markdown",
      "metadata": {
        "id": "9z6gOdlVbeXu"
      },
      "source": [
        "### Gráficos"
      ]
    },
    {
      "cell_type": "markdown",
      "metadata": {
        "id": "NLjNbnwrbh5I"
      },
      "source": [
        "Alguns gráficos podem ser gerados para auxiliar na análise dos textos. Veremos dois: um gráfico de linha com as frequências dos *tokens* e um gráfico de pizza para representar a etiquetagem."
      ]
    },
    {
      "cell_type": "markdown",
      "metadata": {
        "id": "ThW-GPc8cRa3"
      },
      "source": [
        "#### Frequências"
      ]
    },
    {
      "cell_type": "markdown",
      "metadata": {
        "id": "idTnqts1cY7m"
      },
      "source": [
        "Vamos gerar um gráfico de linha para exibir as 20 palavras mais frequentes da obra Dom Casmurro. A NLTK possui um módulo que facilita a plotagem desse gráfico:\n"
      ]
    },
    {
      "cell_type": "code",
      "metadata": {
        "colab": {
          "base_uri": "https://localhost:8080/",
          "height": 309
        },
        "id": "jSiAV4JCaNE1",
        "outputId": "357ab434-6c64-4bac-ea37-02699ff912c5"
      },
      "source": [
        "freq = nltk.FreqDist(palavras_sem_vazias)\n",
        "freq.plot(20, cumulative=False)"
      ],
      "execution_count": 43,
      "outputs": [
        {
          "output_type": "display_data",
          "data": {
            "image/png": "[encoded data removed]",
            "text/plain": [
              "<Figure size 432x288 with 1 Axes>"
            ]
          },
          "metadata": {
            "needs_background": "light"
          }
        }
      ]
    },
    {
      "cell_type": "markdown",
      "metadata": {
        "id": "zoGwBjW7dcdi"
      },
      "source": [
        "#### Utilização de Partes do Discurso"
      ]
    },
    {
      "cell_type": "markdown",
      "metadata": {
        "id": "cL6etCdNde3V"
      },
      "source": [
        "Para a elaboração do gráfico de pizza com as etiquetagens, utilizaremos apenas as mais tradicionais, eliminando as de pontuação, espaços em branco, símbolos não-alfabéticos, numerais e palavras irreconhecíveis. Vamos utilizar também a biblioteca matplotlib, muito empregada no Python para a construção de gráficos. O código a seguir produz um gráfico de pizza com as porcentagens das partes do discurso na obra Dom Casmurro:"
      ]
    },
    {
      "cell_type": "code",
      "metadata": {
        "colab": {
          "base_uri": "https://localhost:8080/",
          "height": 336
        },
        "id": "-MScepTBdIm2",
        "outputId": "36e5f01e-c227-459c-d5fc-a8006a578089"
      },
      "source": [
        "import matplotlib.pyplot as plt\n",
        "from collections import defaultdict\n",
        "\n",
        "lixo = ['PUNCT', 'SPACE', 'X', 'SYM', 'NUM']\n",
        "doc = nlp(obra)\n",
        "etiq = [(pal.orth_, pal.pos_) for pal in doc]\n",
        "pos2 = [pos for (pal, pos) in etiq if pos not in lixo]\n",
        "cont = defaultdict(int)\n",
        "for p in pos2:\n",
        "    cont[p] += 1\n",
        "frequencia = sorted(cont.items(), key=lambda tupla:tupla[1], reverse=True)\n",
        "cont = defaultdict(int)\n",
        "for palavra, n in frequencia:\n",
        "  cont[palavra] = n\n",
        "fig = plt.figure()\n",
        "ax = fig.add_axes([0,0,1,1])\n",
        "nomes = cont.keys()\n",
        "ocorrencias = cont.values()\n",
        "ax.bar(nomes,ocorrencias)\n",
        "plt.show()"
      ],
      "execution_count": 53,
      "outputs": [
        {
          "output_type": "display_data",
          "data": {
            "image/png": "[encoded data removed]",
            "text/plain": [
              "<Figure size 432x288 with 1 Axes>"
            ]
          },
          "metadata": {
            "needs_background": "light"
          }
        }
      ]
    }
  ]
}