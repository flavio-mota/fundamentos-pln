{
  "nbformat": 4,
  "nbformat_minor": 0,
  "metadata": {
    "colab": {
      "name": "SIN260 - Sistemas Inteligentes - Introdução ao Processamento de Linguagem Natural.ipynb",
      "provenance": [],
      "collapsed_sections": [],
      "authorship_tag": "ABX9TyMKZGWgw5n4yT6WaILruOn6",
      "include_colab_link": true
    },
    "kernelspec": {
      "name": "python3",
      "display_name": "Python 3"
    },
    "language_info": {
      "name": "python"
    }
  },
  "cells": [
    {
      "cell_type": "markdown",
      "metadata": {
        "id": "view-in-github",
        "colab_type": "text"
      },
      "source": [
        "<a href=\"https://colab.research.google.com/github/flavio-mota/fundamentos-pln/blob/master/SIN260_Sistemas_Inteligentes_Introdu%C3%A7%C3%A3o_ao_Processamento_de_Linguagem_Natural.ipynb\" target=\"_parent\"><img src=\"https://colab.research.google.com/assets/colab-badge.svg\" alt=\"Open In Colab\"/></a>"
      ]
    },
    {
      "cell_type": "markdown",
      "metadata": {
        "id": "TTkIQCYUkmEH"
      },
      "source": [
        "# Introdução ao Processamento de Linguagem Natural (PLN)"
      ]
    },
    {
      "cell_type": "markdown",
      "metadata": {
        "id": "0H_sVHX_ky2H"
      },
      "source": [
        "## Objetivos gerais:\n",
        "\n",
        "\n",
        "*   Apresentar noções básicas de sobre o que é o PLN\n",
        "*   Criar funções simples que realizem a limpeza e análise de textos\n",
        "*   Realizar algumas análises quantitativas\n",
        "*   Aplicar etiquetagem morfossintáticas às palavras do corpus\n",
        "*   Geração de gráficos\n",
        "*   Classificação de textos\n",
        "\n"
      ]
    },
    {
      "cell_type": "markdown",
      "metadata": {
        "id": "wpfUoquTmPhf"
      },
      "source": [
        "## Começando com uma análise simples de textos\n",
        "\n",
        "Vamos criar uma variável chamada `sentenca` e armazenar uma pequena frase nela:"
      ]
    },
    {
      "cell_type": "code",
      "metadata": {
        "id": "dWtvbYS4Jruy"
      },
      "source": [
        "sentenca = 'A raposa rápida salta sobre o cão preguiçoso'"
      ],
      "execution_count": 1,
      "outputs": []
    },
    {
      "cell_type": "markdown",
      "metadata": {
        "id": "NJGDtk6DnF-g"
      },
      "source": [
        "Vamos verificar agora a ocorrência de uma palavra dentro da sentença:"
      ]
    },
    {
      "cell_type": "code",
      "metadata": {
        "colab": {
          "base_uri": "https://localhost:8080/"
        },
        "id": "kDze0baJkl0A",
        "outputId": "0d83c5f0-fcd0-43c0-ca77-ae71426f8ce5"
      },
      "source": [
        "'rápida' in sentenca"
      ],
      "execution_count": 2,
      "outputs": [
        {
          "output_type": "execute_result",
          "data": {
            "text/plain": [
              "True"
            ]
          },
          "metadata": {},
          "execution_count": 2
        }
      ]
    },
    {
      "cell_type": "markdown",
      "metadata": {
        "id": "nUxshQpynaTf"
      },
      "source": [
        "O código acima retorna `True`, indicando que a palavra 'rápida' existe dentro da sentença. Se fosse utilizada a palavra 'gato', o retorno seria `False`, uma vez que essa palavra não existe na frase.\n",
        "\n",
        "Agora, vamos retornar uma determinada palavra da frase através de sua posição. No exemplo a seguir, o código retorna a palavra na 5ª posição da sentença:"
      ]
    },
    {
      "cell_type": "code",
      "metadata": {
        "colab": {
          "base_uri": "https://localhost:8080/",
          "height": 35
        },
        "id": "EmhMvfzQnZVP",
        "outputId": "be4ba69e-240d-4eb9-cc76-7bb41d3cb913"
      },
      "source": [
        "sentenca.split()[2]"
      ],
      "execution_count": 3,
      "outputs": [
        {
          "output_type": "execute_result",
          "data": {
            "text/plain": [
              "'rápida'"
            ],
            "application/vnd.google.colaboratory.intrinsic+json": {
              "type": "string"
            }
          },
          "metadata": {},
          "execution_count": 3
        }
      ]
    },
    {
      "cell_type": "markdown",
      "metadata": {
        "id": "cKeOueBfpR4f"
      },
      "source": [
        "Para exibir uma determinada palavra de trás para frente, podemos utilizar:"
      ]
    },
    {
      "cell_type": "code",
      "metadata": {
        "colab": {
          "base_uri": "https://localhost:8080/",
          "height": 35
        },
        "id": "6aXZayEHpKpY",
        "outputId": "df7af299-c886-43d1-d5d0-f18285fa52c2"
      },
      "source": [
        "sentenca.split()[1][::-1]"
      ],
      "execution_count": 4,
      "outputs": [
        {
          "output_type": "execute_result",
          "data": {
            "text/plain": [
              "'asopar'"
            ],
            "application/vnd.google.colaboratory.intrinsic+json": {
              "type": "string"
            }
          },
          "metadata": {},
          "execution_count": 4
        }
      ]
    },
    {
      "cell_type": "markdown",
      "metadata": {
        "id": "j_fZCQb0rFaH"
      },
      "source": [
        "Para exibir toda a sentença invertida:"
      ]
    },
    {
      "cell_type": "code",
      "metadata": {
        "colab": {
          "base_uri": "https://localhost:8080/",
          "height": 35
        },
        "id": "zjkPO75IrJPQ",
        "outputId": "aab2319e-df37-4990-a37c-ef7e24321511"
      },
      "source": [
        "sentenca[::-1]"
      ],
      "execution_count": 5,
      "outputs": [
        {
          "output_type": "execute_result",
          "data": {
            "text/plain": [
              "'osoçiugerp oãc o erbos atlas adipár asopar A'"
            ],
            "application/vnd.google.colaboratory.intrinsic+json": {
              "type": "string"
            }
          },
          "metadata": {},
          "execution_count": 5
        }
      ]
    },
    {
      "cell_type": "markdown",
      "metadata": {
        "id": "-pABt5xPpojE"
      },
      "source": [
        "Vamos concatenar a primeira e a última palavra da sentença:"
      ]
    },
    {
      "cell_type": "code",
      "metadata": {
        "colab": {
          "base_uri": "https://localhost:8080/"
        },
        "id": "2hjNCG7ZpdPl",
        "outputId": "d9d2ff1d-d7f5-45a1-9a25-8f47fcb51e61"
      },
      "source": [
        "palavras = sentenca.split() #Vamos criar uma variável para armazenar as palavras\n",
        "primeira_palavra = palavras[0] #Recuperamos a primeira palavra (posição 0)\n",
        "ultima_palavra = palavras[len(palavras)-1] #Recuperamos a última palavra (tamanho do vetor de palavras menos 1)\n",
        "concatenar_palavras = primeira_palavra + ultima_palavra\n",
        "print(concatenar_palavras)"
      ],
      "execution_count": 6,
      "outputs": [
        {
          "output_type": "stream",
          "name": "stdout",
          "text": [
            "Apreguiçoso\n"
          ]
        }
      ]
    },
    {
      "cell_type": "markdown",
      "metadata": {
        "id": "RXM3l0GPqhhS"
      },
      "source": [
        "Para encontrar as palavras que estão em posições pares da sentença, podemos utilizar:"
      ]
    },
    {
      "cell_type": "code",
      "metadata": {
        "colab": {
          "base_uri": "https://localhost:8080/"
        },
        "id": "I51LBYStqb3g",
        "outputId": "8756b100-0d57-4cc3-a2a9-da9d9bf48eb3"
      },
      "source": [
        "[palavras[i] for i in range(len(palavras)) if i%2 == 0]"
      ],
      "execution_count": 7,
      "outputs": [
        {
          "output_type": "execute_result",
          "data": {
            "text/plain": [
              "['A', 'rápida', 'sobre', 'cão']"
            ]
          },
          "metadata": {},
          "execution_count": 7
        }
      ]
    },
    {
      "cell_type": "markdown",
      "metadata": {
        "id": "IFl-Q44FuWoe"
      },
      "source": [
        "## A biblioteca NLTK"
      ]
    },
    {
      "cell_type": "markdown",
      "metadata": {
        "id": "hLTQoTRLud36"
      },
      "source": [
        "Link para documentação: [NLTK](https://www.nltk.org/)"
      ]
    },
    {
      "cell_type": "markdown",
      "metadata": {
        "id": "ZvwUgtdpsbMq"
      },
      "source": [
        "## Tarefas do PLN"
      ]
    },
    {
      "cell_type": "markdown",
      "metadata": {
        "id": "znK2I9AXstb0"
      },
      "source": [
        "Ao trabalhar com textos no PLN, diversas tarefas podem ser executadas, como a *tokenização*, limpeza do texto, etiquetagem, contagens de palavras, *stemming*, etc. Vermos algumas dessas tarefas a seguir."
      ]
    },
    {
      "cell_type": "markdown",
      "metadata": {
        "id": "qREnH9AJsjUz"
      },
      "source": [
        "### Tokenização"
      ]
    },
    {
      "cell_type": "markdown",
      "metadata": {
        "id": "A6HUA9RUykxr"
      },
      "source": [
        "A *tokenização* é o processo de dividir as sentenças em palavras. Considere a frase:\n",
        "> \"Eu estou lendo um livro.\"\n",
        "\n",
        "A tarefa de *tokenização* tem como objetivo extrair as palavras (ou tokens) dessa sentença, produzindo:\n",
        "> 'Eu', 'estou', 'lendo', 'um', 'livro', ' . '\n",
        "\n",
        "Esse tipo de extração é chamada de 'unigrama', uma vez que separa uma palavra por vez. Entretanto, é possível realizar a extraçã de dois ou três *tokens* por vez. Se são 2 *tokens* por vez, chamamos de **bigramas**. Se são 3, **trigramas**. Dependendo da necessidade, podemos ter **n-gramas**, sendo n um número natural.\n",
        "\n",
        "> **n-gramas** são sequências de n palavras de um texto.\n",
        "\n",
        "No PLN trabalhamos com *tokens* por questão de conveniência, já que temos a tendência de realizar as análises palavra por palavra.\n",
        "\n"
      ]
    },
    {
      "cell_type": "markdown",
      "metadata": {
        "id": "EH2TSMCJzPMi"
      },
      "source": [
        "Vamos realizar a tokenização de uma sentença simples. Para isso vamos utilizar um módulo da NLTK que facilita esse processo."
      ]
    },
    {
      "cell_type": "code",
      "metadata": {
        "colab": {
          "base_uri": "https://localhost:8080/"
        },
        "id": "OFXhK8S1q-jw",
        "outputId": "3efb5aa9-54de-4cd7-9bce-b259a600e2ea"
      },
      "source": [
        "import nltk #importando a biblioteca\n",
        "nltk.download('all') # baixando todos os recursos da biblioteca (pode demorar)\n",
        "from nltk import word_tokenize #importando o módulo word_tokenize"
      ],
      "execution_count": 8,
      "outputs": [
        {
          "output_type": "stream",
          "name": "stdout",
          "text": [
            "[nltk_data] Downloading collection 'all'\n",
            "[nltk_data]    | \n",
            "[nltk_data]    | Downloading package abc to /root/nltk_data...\n",
            "[nltk_data]    |   Unzipping corpora/abc.zip.\n",
            "[nltk_data]    | Downloading package alpino to /root/nltk_data...\n",
            "[nltk_data]    |   Unzipping corpora/alpino.zip.\n",
            "[nltk_data]    | Downloading package averaged_perceptron_tagger to\n",
            "[nltk_data]    |     /root/nltk_data...\n",
            "[nltk_data]    |   Unzipping taggers/averaged_perceptron_tagger.zip.\n",
            "[nltk_data]    | Downloading package averaged_perceptron_tagger_ru to\n",
            "[nltk_data]    |     /root/nltk_data...\n",
            "[nltk_data]    |   Unzipping\n",
            "[nltk_data]    |       taggers/averaged_perceptron_tagger_ru.zip.\n",
            "[nltk_data]    | Downloading package basque_grammars to\n",
            "[nltk_data]    |     /root/nltk_data...\n",
            "[nltk_data]    |   Unzipping grammars/basque_grammars.zip.\n",
            "[nltk_data]    | Downloading package biocreative_ppi to\n",
            "[nltk_data]    |     /root/nltk_data...\n",
            "[nltk_data]    |   Unzipping corpora/biocreative_ppi.zip.\n",
            "[nltk_data]    | Downloading package bllip_wsj_no_aux to\n",
            "[nltk_data]    |     /root/nltk_data...\n",
            "[nltk_data]    |   Unzipping models/bllip_wsj_no_aux.zip.\n",
            "[nltk_data]    | Downloading package book_grammars to\n",
            "[nltk_data]    |     /root/nltk_data...\n",
            "[nltk_data]    |   Unzipping grammars/book_grammars.zip.\n",
            "[nltk_data]    | Downloading package brown to /root/nltk_data...\n",
            "[nltk_data]    |   Unzipping corpora/brown.zip.\n",
            "[nltk_data]    | Downloading package brown_tei to /root/nltk_data...\n",
            "[nltk_data]    |   Unzipping corpora/brown_tei.zip.\n",
            "[nltk_data]    | Downloading package cess_cat to /root/nltk_data...\n",
            "[nltk_data]    |   Unzipping corpora/cess_cat.zip.\n",
            "[nltk_data]    | Downloading package cess_esp to /root/nltk_data...\n",
            "[nltk_data]    |   Unzipping corpora/cess_esp.zip.\n",
            "[nltk_data]    | Downloading package chat80 to /root/nltk_data...\n",
            "[nltk_data]    |   Unzipping corpora/chat80.zip.\n",
            "[nltk_data]    | Downloading package city_database to\n",
            "[nltk_data]    |     /root/nltk_data...\n",
            "[nltk_data]    |   Unzipping corpora/city_database.zip.\n",
            "[nltk_data]    | Downloading package cmudict to /root/nltk_data...\n",
            "[nltk_data]    |   Unzipping corpora/cmudict.zip.\n",
            "[nltk_data]    | Downloading package comparative_sentences to\n",
            "[nltk_data]    |     /root/nltk_data...\n",
            "[nltk_data]    |   Unzipping corpora/comparative_sentences.zip.\n",
            "[nltk_data]    | Downloading package comtrans to /root/nltk_data...\n",
            "[nltk_data]    | Downloading package conll2000 to /root/nltk_data...\n",
            "[nltk_data]    |   Unzipping corpora/conll2000.zip.\n",
            "[nltk_data]    | Downloading package conll2002 to /root/nltk_data...\n",
            "[nltk_data]    |   Unzipping corpora/conll2002.zip.\n",
            "[nltk_data]    | Downloading package conll2007 to /root/nltk_data...\n",
            "[nltk_data]    | Downloading package crubadan to /root/nltk_data...\n",
            "[nltk_data]    |   Unzipping corpora/crubadan.zip.\n",
            "[nltk_data]    | Downloading package dependency_treebank to\n",
            "[nltk_data]    |     /root/nltk_data...\n",
            "[nltk_data]    |   Unzipping corpora/dependency_treebank.zip.\n",
            "[nltk_data]    | Downloading package dolch to /root/nltk_data...\n",
            "[nltk_data]    |   Unzipping corpora/dolch.zip.\n",
            "[nltk_data]    | Downloading package europarl_raw to\n",
            "[nltk_data]    |     /root/nltk_data...\n",
            "[nltk_data]    |   Unzipping corpora/europarl_raw.zip.\n",
            "[nltk_data]    | Downloading package extended_omw to\n",
            "[nltk_data]    |     /root/nltk_data...\n",
            "[nltk_data]    |   Unzipping corpora/extended_omw.zip.\n",
            "[nltk_data]    | Downloading package floresta to /root/nltk_data...\n",
            "[nltk_data]    |   Unzipping corpora/floresta.zip.\n",
            "[nltk_data]    | Downloading package framenet_v15 to\n",
            "[nltk_data]    |     /root/nltk_data...\n",
            "[nltk_data]    |   Unzipping corpora/framenet_v15.zip.\n",
            "[nltk_data]    | Downloading package framenet_v17 to\n",
            "[nltk_data]    |     /root/nltk_data...\n",
            "[nltk_data]    |   Unzipping corpora/framenet_v17.zip.\n",
            "[nltk_data]    | Downloading package gazetteers to /root/nltk_data...\n",
            "[nltk_data]    |   Unzipping corpora/gazetteers.zip.\n",
            "[nltk_data]    | Downloading package genesis to /root/nltk_data...\n",
            "[nltk_data]    |   Unzipping corpora/genesis.zip.\n",
            "[nltk_data]    | Downloading package gutenberg to /root/nltk_data...\n",
            "[nltk_data]    |   Unzipping corpora/gutenberg.zip.\n",
            "[nltk_data]    | Downloading package ieer to /root/nltk_data...\n",
            "[nltk_data]    |   Unzipping corpora/ieer.zip.\n",
            "[nltk_data]    | Downloading package inaugural to /root/nltk_data...\n",
            "[nltk_data]    |   Unzipping corpora/inaugural.zip.\n",
            "[nltk_data]    | Downloading package indian to /root/nltk_data...\n",
            "[nltk_data]    |   Unzipping corpora/indian.zip.\n",
            "[nltk_data]    | Downloading package jeita to /root/nltk_data...\n",
            "[nltk_data]    | Downloading package kimmo to /root/nltk_data...\n",
            "[nltk_data]    |   Unzipping corpora/kimmo.zip.\n",
            "[nltk_data]    | Downloading package knbc to /root/nltk_data...\n",
            "[nltk_data]    | Downloading package large_grammars to\n",
            "[nltk_data]    |     /root/nltk_data...\n",
            "[nltk_data]    |   Unzipping grammars/large_grammars.zip.\n",
            "[nltk_data]    | Downloading package lin_thesaurus to\n",
            "[nltk_data]    |     /root/nltk_data...\n",
            "[nltk_data]    |   Unzipping corpora/lin_thesaurus.zip.\n",
            "[nltk_data]    | Downloading package mac_morpho to /root/nltk_data...\n",
            "[nltk_data]    |   Unzipping corpora/mac_morpho.zip.\n",
            "[nltk_data]    | Downloading package machado to /root/nltk_data...\n",
            "[nltk_data]    | Downloading package masc_tagged to /root/nltk_data...\n",
            "[nltk_data]    | Downloading package maxent_ne_chunker to\n",
            "[nltk_data]    |     /root/nltk_data...\n",
            "[nltk_data]    |   Unzipping chunkers/maxent_ne_chunker.zip.\n",
            "[nltk_data]    | Downloading package maxent_treebank_pos_tagger to\n",
            "[nltk_data]    |     /root/nltk_data...\n",
            "[nltk_data]    |   Unzipping taggers/maxent_treebank_pos_tagger.zip.\n",
            "[nltk_data]    | Downloading package moses_sample to\n",
            "[nltk_data]    |     /root/nltk_data...\n",
            "[nltk_data]    |   Unzipping models/moses_sample.zip.\n",
            "[nltk_data]    | Downloading package movie_reviews to\n",
            "[nltk_data]    |     /root/nltk_data...\n",
            "[nltk_data]    |   Unzipping corpora/movie_reviews.zip.\n",
            "[nltk_data]    | Downloading package mte_teip5 to /root/nltk_data...\n",
            "[nltk_data]    |   Unzipping corpora/mte_teip5.zip.\n",
            "[nltk_data]    | Downloading package mwa_ppdb to /root/nltk_data...\n",
            "[nltk_data]    |   Unzipping misc/mwa_ppdb.zip.\n",
            "[nltk_data]    | Downloading package names to /root/nltk_data...\n",
            "[nltk_data]    |   Unzipping corpora/names.zip.\n",
            "[nltk_data]    | Downloading package nombank.1.0 to /root/nltk_data...\n",
            "[nltk_data]    | Downloading package nonbreaking_prefixes to\n",
            "[nltk_data]    |     /root/nltk_data...\n",
            "[nltk_data]    |   Unzipping corpora/nonbreaking_prefixes.zip.\n",
            "[nltk_data]    | Downloading package nps_chat to /root/nltk_data...\n",
            "[nltk_data]    |   Unzipping corpora/nps_chat.zip.\n",
            "[nltk_data]    | Downloading package omw to /root/nltk_data...\n",
            "[nltk_data]    |   Unzipping corpora/omw.zip.\n",
            "[nltk_data]    | Downloading package omw-1.4 to /root/nltk_data...\n",
            "[nltk_data]    |   Unzipping corpora/omw-1.4.zip.\n",
            "[nltk_data]    | Downloading package opinion_lexicon to\n",
            "[nltk_data]    |     /root/nltk_data...\n",
            "[nltk_data]    |   Unzipping corpora/opinion_lexicon.zip.\n",
            "[nltk_data]    | Downloading package panlex_swadesh to\n",
            "[nltk_data]    |     /root/nltk_data...\n",
            "[nltk_data]    | Downloading package paradigms to /root/nltk_data...\n",
            "[nltk_data]    |   Unzipping corpora/paradigms.zip.\n",
            "[nltk_data]    | Downloading package pe08 to /root/nltk_data...\n",
            "[nltk_data]    |   Unzipping corpora/pe08.zip.\n",
            "[nltk_data]    | Downloading package perluniprops to\n",
            "[nltk_data]    |     /root/nltk_data...\n",
            "[nltk_data]    |   Unzipping misc/perluniprops.zip.\n",
            "[nltk_data]    | Downloading package pil to /root/nltk_data...\n",
            "[nltk_data]    |   Unzipping corpora/pil.zip.\n",
            "[nltk_data]    | Downloading package pl196x to /root/nltk_data...\n",
            "[nltk_data]    |   Unzipping corpora/pl196x.zip.\n",
            "[nltk_data]    | Downloading package porter_test to /root/nltk_data...\n",
            "[nltk_data]    |   Unzipping stemmers/porter_test.zip.\n",
            "[nltk_data]    | Downloading package ppattach to /root/nltk_data...\n",
            "[nltk_data]    |   Unzipping corpora/ppattach.zip.\n",
            "[nltk_data]    | Downloading package problem_reports to\n",
            "[nltk_data]    |     /root/nltk_data...\n",
            "[nltk_data]    |   Unzipping corpora/problem_reports.zip.\n",
            "[nltk_data]    | Downloading package product_reviews_1 to\n",
            "[nltk_data]    |     /root/nltk_data...\n",
            "[nltk_data]    |   Unzipping corpora/product_reviews_1.zip.\n",
            "[nltk_data]    | Downloading package product_reviews_2 to\n",
            "[nltk_data]    |     /root/nltk_data...\n",
            "[nltk_data]    |   Unzipping corpora/product_reviews_2.zip.\n",
            "[nltk_data]    | Downloading package propbank to /root/nltk_data...\n",
            "[nltk_data]    | Downloading package pros_cons to /root/nltk_data...\n",
            "[nltk_data]    |   Unzipping corpora/pros_cons.zip.\n",
            "[nltk_data]    | Downloading package ptb to /root/nltk_data...\n",
            "[nltk_data]    |   Unzipping corpora/ptb.zip.\n",
            "[nltk_data]    | Downloading package punkt to /root/nltk_data...\n",
            "[nltk_data]    |   Unzipping tokenizers/punkt.zip.\n",
            "[nltk_data]    | Downloading package qc to /root/nltk_data...\n",
            "[nltk_data]    |   Unzipping corpora/qc.zip.\n",
            "[nltk_data]    | Downloading package reuters to /root/nltk_data...\n",
            "[nltk_data]    | Downloading package rslp to /root/nltk_data...\n",
            "[nltk_data]    |   Unzipping stemmers/rslp.zip.\n",
            "[nltk_data]    | Downloading package rte to /root/nltk_data...\n",
            "[nltk_data]    |   Unzipping corpora/rte.zip.\n",
            "[nltk_data]    | Downloading package sample_grammars to\n",
            "[nltk_data]    |     /root/nltk_data...\n",
            "[nltk_data]    |   Unzipping grammars/sample_grammars.zip.\n",
            "[nltk_data]    | Downloading package semcor to /root/nltk_data...\n",
            "[nltk_data]    | Downloading package senseval to /root/nltk_data...\n",
            "[nltk_data]    |   Unzipping corpora/senseval.zip.\n",
            "[nltk_data]    | Downloading package sentence_polarity to\n",
            "[nltk_data]    |     /root/nltk_data...\n",
            "[nltk_data]    |   Unzipping corpora/sentence_polarity.zip.\n",
            "[nltk_data]    | Downloading package sentiwordnet to\n",
            "[nltk_data]    |     /root/nltk_data...\n",
            "[nltk_data]    |   Unzipping corpora/sentiwordnet.zip.\n",
            "[nltk_data]    | Downloading package shakespeare to /root/nltk_data...\n",
            "[nltk_data]    |   Unzipping corpora/shakespeare.zip.\n",
            "[nltk_data]    | Downloading package sinica_treebank to\n",
            "[nltk_data]    |     /root/nltk_data...\n",
            "[nltk_data]    |   Unzipping corpora/sinica_treebank.zip.\n",
            "[nltk_data]    | Downloading package smultron to /root/nltk_data...\n",
            "[nltk_data]    |   Unzipping corpora/smultron.zip.\n",
            "[nltk_data]    | Downloading package snowball_data to\n",
            "[nltk_data]    |     /root/nltk_data...\n",
            "[nltk_data]    | Downloading package spanish_grammars to\n",
            "[nltk_data]    |     /root/nltk_data...\n",
            "[nltk_data]    |   Unzipping grammars/spanish_grammars.zip.\n",
            "[nltk_data]    | Downloading package state_union to /root/nltk_data...\n",
            "[nltk_data]    |   Unzipping corpora/state_union.zip.\n",
            "[nltk_data]    | Downloading package stopwords to /root/nltk_data...\n",
            "[nltk_data]    |   Unzipping corpora/stopwords.zip.\n",
            "[nltk_data]    | Downloading package subjectivity to\n",
            "[nltk_data]    |     /root/nltk_data...\n",
            "[nltk_data]    |   Unzipping corpora/subjectivity.zip.\n",
            "[nltk_data]    | Downloading package swadesh to /root/nltk_data...\n",
            "[nltk_data]    |   Unzipping corpora/swadesh.zip.\n",
            "[nltk_data]    | Downloading package switchboard to /root/nltk_data...\n",
            "[nltk_data]    |   Unzipping corpora/switchboard.zip.\n",
            "[nltk_data]    | Downloading package tagsets to /root/nltk_data...\n",
            "[nltk_data]    |   Unzipping help/tagsets.zip.\n",
            "[nltk_data]    | Downloading package timit to /root/nltk_data...\n",
            "[nltk_data]    |   Unzipping corpora/timit.zip.\n",
            "[nltk_data]    | Downloading package toolbox to /root/nltk_data...\n",
            "[nltk_data]    |   Unzipping corpora/toolbox.zip.\n",
            "[nltk_data]    | Downloading package treebank to /root/nltk_data...\n",
            "[nltk_data]    |   Unzipping corpora/treebank.zip.\n",
            "[nltk_data]    | Downloading package twitter_samples to\n",
            "[nltk_data]    |     /root/nltk_data...\n",
            "[nltk_data]    |   Unzipping corpora/twitter_samples.zip.\n",
            "[nltk_data]    | Downloading package udhr to /root/nltk_data...\n",
            "[nltk_data]    |   Unzipping corpora/udhr.zip.\n",
            "[nltk_data]    | Downloading package udhr2 to /root/nltk_data...\n",
            "[nltk_data]    |   Unzipping corpora/udhr2.zip.\n",
            "[nltk_data]    | Downloading package unicode_samples to\n",
            "[nltk_data]    |     /root/nltk_data...\n",
            "[nltk_data]    |   Unzipping corpora/unicode_samples.zip.\n",
            "[nltk_data]    | Downloading package universal_tagset to\n",
            "[nltk_data]    |     /root/nltk_data...\n",
            "[nltk_data]    |   Unzipping taggers/universal_tagset.zip.\n",
            "[nltk_data]    | Downloading package universal_treebanks_v20 to\n",
            "[nltk_data]    |     /root/nltk_data...\n",
            "[nltk_data]    | Downloading package vader_lexicon to\n",
            "[nltk_data]    |     /root/nltk_data...\n",
            "[nltk_data]    | Downloading package verbnet to /root/nltk_data...\n",
            "[nltk_data]    |   Unzipping corpora/verbnet.zip.\n",
            "[nltk_data]    | Downloading package verbnet3 to /root/nltk_data...\n",
            "[nltk_data]    |   Unzipping corpora/verbnet3.zip.\n",
            "[nltk_data]    | Downloading package webtext to /root/nltk_data...\n",
            "[nltk_data]    |   Unzipping corpora/webtext.zip.\n",
            "[nltk_data]    | Downloading package wmt15_eval to /root/nltk_data...\n",
            "[nltk_data]    |   Unzipping models/wmt15_eval.zip.\n",
            "[nltk_data]    | Downloading package word2vec_sample to\n",
            "[nltk_data]    |     /root/nltk_data...\n",
            "[nltk_data]    |   Unzipping models/word2vec_sample.zip.\n",
            "[nltk_data]    | Downloading package wordnet to /root/nltk_data...\n",
            "[nltk_data]    |   Unzipping corpora/wordnet.zip.\n",
            "[nltk_data]    | Downloading package wordnet2021 to /root/nltk_data...\n",
            "[nltk_data]    |   Unzipping corpora/wordnet2021.zip.\n",
            "[nltk_data]    | Downloading package wordnet31 to /root/nltk_data...\n",
            "[nltk_data]    |   Unzipping corpora/wordnet31.zip.\n",
            "[nltk_data]    | Downloading package wordnet_ic to /root/nltk_data...\n",
            "[nltk_data]    |   Unzipping corpora/wordnet_ic.zip.\n",
            "[nltk_data]    | Downloading package words to /root/nltk_data...\n",
            "[nltk_data]    |   Unzipping corpora/words.zip.\n",
            "[nltk_data]    | Downloading package ycoe to /root/nltk_data...\n",
            "[nltk_data]    |   Unzipping corpora/ycoe.zip.\n",
            "[nltk_data]    | \n",
            "[nltk_data]  Done downloading collection all\n"
          ]
        }
      ]
    },
    {
      "cell_type": "code",
      "metadata": {
        "id": "hHUQsbdZzl_C"
      },
      "source": [
        "palavras = word_tokenize('Eu estou aprendendo sobre os fundamentos do PLN')"
      ],
      "execution_count": 9,
      "outputs": []
    },
    {
      "cell_type": "code",
      "metadata": {
        "colab": {
          "base_uri": "https://localhost:8080/"
        },
        "id": "Jb3oH8vGzx9s",
        "outputId": "7b5a24d7-4da3-4808-80d5-2369f0b98d97"
      },
      "source": [
        "palavras"
      ],
      "execution_count": 10,
      "outputs": [
        {
          "output_type": "execute_result",
          "data": {
            "text/plain": [
              "['Eu', 'estou', 'aprendendo', 'sobre', 'os', 'fundamentos', 'do', 'PLN']"
            ]
          },
          "metadata": {},
          "execution_count": 10
        }
      ]
    },
    {
      "cell_type": "markdown",
      "metadata": {
        "id": "O9HUuF_O7eF1"
      },
      "source": [
        "Aplicar essa tarefa em frases simples pode não parecer muito útil. Sendo assim, vamos ver exemplos com um *corpus*."
      ]
    },
    {
      "cell_type": "markdown",
      "metadata": {
        "id": "YXiTEQOG0cGz"
      },
      "source": [
        "#### O que é e para que serve um *corpus*?\n",
        "\n",
        "*Corpus* pode ser definido como o conjunto de materiais linguísticos que serão analisados. Para os propósitos do PLN, é necessário que esses materiais estejam na forma de texto e que possam ser lidos por um programa de computador.\n",
        "\n",
        "Vamos criar um método de leitura de um arquivo txt que contém nosso corpus:"
      ]
    },
    {
      "cell_type": "code",
      "metadata": {
        "id": "CL-tWvrDtFAk"
      },
      "source": [
        "def ler(nome_arquivo):\n",
        "  arquivo = open(nome_arquivo, 'r', encoding='utf-8')\n",
        "  conteudo_arq = arquivo.read()\n",
        "  arquivo.close()\n",
        "  return conteudo_arq"
      ],
      "execution_count": 11,
      "outputs": []
    },
    {
      "cell_type": "markdown",
      "metadata": {
        "id": "2xnUfxxAEubs"
      },
      "source": [
        "Vamos carregar o romance \"Dom Casmurro\" (arquivo 'marm08.txt'):"
      ]
    },
    {
      "cell_type": "code",
      "metadata": {
        "id": "xSVbDjHstmNC"
      },
      "source": [
        "obra = ler('marm08.txt')"
      ],
      "execution_count": 19,
      "outputs": []
    },
    {
      "cell_type": "markdown",
      "metadata": {
        "id": "D0xMlCz8Fatl"
      },
      "source": [
        "Podemos agora obter a *tokenização* do livro Dom Casmurro:"
      ]
    },
    {
      "cell_type": "code",
      "metadata": {
        "colab": {
          "base_uri": "https://localhost:8080/"
        },
        "id": "HPEnizRTCGap",
        "outputId": "f0cdabca-a817-4b57-e021-c6111d0936ef"
      },
      "source": [
        "palavras = word_tokenize(obra)\n",
        "palavras"
      ],
      "execution_count": 20,
      "outputs": [
        {
          "output_type": "execute_result",
          "data": {
            "text/plain": [
              "['Romance',\n",
              " ',',\n",
              " 'Dom',\n",
              " 'Casmurro',\n",
              " ',',\n",
              " '1899',\n",
              " 'Dom',\n",
              " 'Casmurro',\n",
              " 'Texto',\n",
              " 'de',\n",
              " 'referência',\n",
              " ':',\n",
              " 'Obras',\n",
              " 'Completas',\n",
              " 'de',\n",
              " 'Machado',\n",
              " 'de',\n",
              " 'Assis',\n",
              " ',',\n",
              " 'vol',\n",
              " '.',\n",
              " 'I',\n",
              " ',',\n",
              " 'Nova',\n",
              " 'Aguilar',\n",
              " ',',\n",
              " 'Rio',\n",
              " 'de',\n",
              " 'Janeiro',\n",
              " ',',\n",
              " '1994',\n",
              " '.',\n",
              " 'Publicado',\n",
              " 'originalmente',\n",
              " 'pela',\n",
              " 'Editora',\n",
              " 'Garnier',\n",
              " ',',\n",
              " 'Rio',\n",
              " 'de',\n",
              " 'Janeiro',\n",
              " ',',\n",
              " '1899',\n",
              " '.',\n",
              " 'CAPÍTULO',\n",
              " 'PRIMEIRO',\n",
              " 'DO',\n",
              " 'TÍTULO',\n",
              " 'Uma',\n",
              " 'noite',\n",
              " 'destas',\n",
              " ',',\n",
              " 'vindo',\n",
              " 'da',\n",
              " 'cidade',\n",
              " 'para',\n",
              " 'o',\n",
              " 'Engenho',\n",
              " 'Novo',\n",
              " ',',\n",
              " 'encontrei',\n",
              " 'no',\n",
              " 'trem',\n",
              " 'da',\n",
              " 'Central',\n",
              " 'um',\n",
              " 'rapaz',\n",
              " 'aqui',\n",
              " 'do',\n",
              " 'bairro',\n",
              " ',',\n",
              " 'que',\n",
              " 'eu',\n",
              " 'conheço',\n",
              " 'de',\n",
              " 'vista',\n",
              " 'e',\n",
              " 'de',\n",
              " 'chapéu',\n",
              " '.',\n",
              " 'Cumprimentou-me',\n",
              " ',',\n",
              " 'sentou-se',\n",
              " 'ao',\n",
              " 'pé',\n",
              " 'de',\n",
              " 'mim',\n",
              " ',',\n",
              " 'falou',\n",
              " 'da',\n",
              " 'Lua',\n",
              " 'e',\n",
              " 'dos',\n",
              " 'ministros',\n",
              " ',',\n",
              " 'e',\n",
              " 'acabou',\n",
              " 'recitando-me',\n",
              " 'versos',\n",
              " '.',\n",
              " 'A',\n",
              " 'viagem',\n",
              " 'era',\n",
              " 'curta',\n",
              " ',',\n",
              " 'e',\n",
              " 'os',\n",
              " 'versos',\n",
              " 'pode',\n",
              " 'ser',\n",
              " 'que',\n",
              " 'não',\n",
              " 'fossem',\n",
              " 'inteiramente',\n",
              " 'maus',\n",
              " '.',\n",
              " 'Sucedeu',\n",
              " ',',\n",
              " 'porém',\n",
              " ',',\n",
              " 'que',\n",
              " ',',\n",
              " 'como',\n",
              " 'eu',\n",
              " 'estava',\n",
              " 'cansado',\n",
              " ',',\n",
              " 'fechei',\n",
              " 'os',\n",
              " 'olhos',\n",
              " 'três',\n",
              " 'ou',\n",
              " 'quatro',\n",
              " 'vezes',\n",
              " ';',\n",
              " 'tanto',\n",
              " 'bastou',\n",
              " 'para',\n",
              " 'que',\n",
              " 'ele',\n",
              " 'interrompesse',\n",
              " 'a',\n",
              " 'leitura',\n",
              " 'e',\n",
              " 'metesse',\n",
              " 'os',\n",
              " 'versos',\n",
              " 'no',\n",
              " 'bolso',\n",
              " '.',\n",
              " '—',\n",
              " 'Continue',\n",
              " ',',\n",
              " 'disse',\n",
              " 'eu',\n",
              " 'acordando',\n",
              " '.',\n",
              " '—',\n",
              " 'Já',\n",
              " 'acabei',\n",
              " ',',\n",
              " 'murmurou',\n",
              " 'ele',\n",
              " '.',\n",
              " '—',\n",
              " 'São',\n",
              " 'muito',\n",
              " 'bonitos',\n",
              " '.',\n",
              " 'Vi-lhe',\n",
              " 'fazer',\n",
              " 'um',\n",
              " 'gesto',\n",
              " 'para',\n",
              " 'tirá-los',\n",
              " 'outra',\n",
              " 'vez',\n",
              " 'do',\n",
              " 'bolso',\n",
              " ',',\n",
              " 'mas',\n",
              " 'não',\n",
              " 'passou',\n",
              " 'do',\n",
              " 'gesto',\n",
              " ';',\n",
              " 'estava',\n",
              " 'amuado',\n",
              " '.',\n",
              " 'No',\n",
              " 'dia',\n",
              " 'seguinte',\n",
              " 'entrou',\n",
              " 'a',\n",
              " 'dizer',\n",
              " 'de',\n",
              " 'mim',\n",
              " 'nomes',\n",
              " 'feios',\n",
              " ',',\n",
              " 'e',\n",
              " 'acabou',\n",
              " 'alcunhando-me',\n",
              " 'Dom',\n",
              " 'Casmurro',\n",
              " '.',\n",
              " 'Os',\n",
              " 'vizinhos',\n",
              " ',',\n",
              " 'que',\n",
              " 'não',\n",
              " 'gostam',\n",
              " 'dos',\n",
              " 'meus',\n",
              " 'hábitos',\n",
              " 'reclusos',\n",
              " 'e',\n",
              " 'calados',\n",
              " ',',\n",
              " 'deram',\n",
              " 'curso',\n",
              " 'à',\n",
              " 'alcunha',\n",
              " ',',\n",
              " 'que',\n",
              " 'afinal',\n",
              " 'pegou',\n",
              " '.',\n",
              " 'Nem',\n",
              " 'por',\n",
              " 'isso',\n",
              " 'me',\n",
              " 'zanguei',\n",
              " '.',\n",
              " 'Contei',\n",
              " 'a',\n",
              " 'anedota',\n",
              " 'aos',\n",
              " 'amigos',\n",
              " 'da',\n",
              " 'cidade',\n",
              " ',',\n",
              " 'e',\n",
              " 'eles',\n",
              " ',',\n",
              " 'por',\n",
              " 'graça',\n",
              " ',',\n",
              " 'chamam-me',\n",
              " 'assim',\n",
              " ',',\n",
              " 'alguns',\n",
              " 'em',\n",
              " 'bilhetes',\n",
              " ':',\n",
              " \"'Dom\",\n",
              " 'Casmurro',\n",
              " ',',\n",
              " 'domingo',\n",
              " 'vou',\n",
              " 'jantar',\n",
              " 'com',\n",
              " 'você',\n",
              " '”',\n",
              " '.—',\n",
              " \"'Vou\",\n",
              " 'para',\n",
              " 'Petrópolis',\n",
              " ',',\n",
              " 'Dom',\n",
              " 'Casmurro',\n",
              " ';',\n",
              " 'a',\n",
              " 'casa',\n",
              " 'é',\n",
              " 'a',\n",
              " 'mesma',\n",
              " 'da',\n",
              " 'Renânia',\n",
              " ';',\n",
              " 'vê',\n",
              " 'se',\n",
              " 'deixas',\n",
              " 'essa',\n",
              " 'caverna',\n",
              " 'do',\n",
              " 'Engenho',\n",
              " 'Novo',\n",
              " ',',\n",
              " 'e',\n",
              " 'vai',\n",
              " 'lá',\n",
              " 'passar',\n",
              " 'uns',\n",
              " 'quinze',\n",
              " 'dias',\n",
              " 'comigo',\n",
              " '”',\n",
              " '.—',\n",
              " \"'Meu\",\n",
              " 'caro',\n",
              " 'Dom',\n",
              " 'Casmurro',\n",
              " ',',\n",
              " 'não',\n",
              " 'cuide',\n",
              " 'que',\n",
              " 'o',\n",
              " 'dispenso',\n",
              " 'do',\n",
              " 'teatro',\n",
              " 'amanhã',\n",
              " ';',\n",
              " 'venha',\n",
              " 'e',\n",
              " 'dormirá',\n",
              " 'aqui',\n",
              " 'na',\n",
              " 'cidade',\n",
              " ';',\n",
              " 'dou-lhe',\n",
              " 'camarote',\n",
              " ',',\n",
              " 'dou-lhe',\n",
              " 'chá',\n",
              " ',',\n",
              " 'dou-lhe',\n",
              " 'cama',\n",
              " ';',\n",
              " 'só',\n",
              " 'não',\n",
              " 'lhe',\n",
              " 'dou',\n",
              " 'moça',\n",
              " '”',\n",
              " '.',\n",
              " 'Não',\n",
              " 'consultes',\n",
              " 'dicionários',\n",
              " '.',\n",
              " 'Casmurro',\n",
              " 'não',\n",
              " 'está',\n",
              " 'aqui',\n",
              " 'no',\n",
              " 'sentido',\n",
              " 'que',\n",
              " 'eles',\n",
              " 'lhe',\n",
              " 'dão',\n",
              " ',',\n",
              " 'mas',\n",
              " 'no',\n",
              " 'que',\n",
              " 'lhe',\n",
              " 'pôs',\n",
              " 'o',\n",
              " 'vulgo',\n",
              " 'de',\n",
              " 'homem',\n",
              " 'calado',\n",
              " 'e',\n",
              " 'metido',\n",
              " 'consigo',\n",
              " '.',\n",
              " 'Dom',\n",
              " 'veio',\n",
              " 'por',\n",
              " 'ironia',\n",
              " ',',\n",
              " 'para',\n",
              " 'atribuir-me',\n",
              " 'fumos',\n",
              " 'de',\n",
              " 'fidalgo',\n",
              " '.',\n",
              " 'Tudo',\n",
              " 'por',\n",
              " 'estar',\n",
              " 'cochilando',\n",
              " '!',\n",
              " 'Também',\n",
              " 'não',\n",
              " 'achei',\n",
              " 'melhor',\n",
              " 'título',\n",
              " 'para',\n",
              " 'a',\n",
              " 'minha',\n",
              " 'narração',\n",
              " ';',\n",
              " 'se',\n",
              " 'não',\n",
              " 'tiver',\n",
              " 'outro',\n",
              " 'daqui',\n",
              " 'até',\n",
              " 'ao',\n",
              " 'fim',\n",
              " 'do',\n",
              " 'livro',\n",
              " ',',\n",
              " 'vai',\n",
              " 'este',\n",
              " 'mesmo',\n",
              " '.',\n",
              " 'O',\n",
              " 'meu',\n",
              " 'poeta',\n",
              " 'do',\n",
              " 'trem',\n",
              " 'ficará',\n",
              " 'sabendo',\n",
              " 'que',\n",
              " 'não',\n",
              " 'lhe',\n",
              " 'guardo',\n",
              " 'rancor',\n",
              " '.',\n",
              " 'E',\n",
              " 'com',\n",
              " 'pequeno',\n",
              " 'esforço',\n",
              " ',',\n",
              " 'sendo',\n",
              " 'o',\n",
              " 'título',\n",
              " 'seu',\n",
              " ',',\n",
              " 'poderá',\n",
              " 'cuidar',\n",
              " 'que',\n",
              " 'a',\n",
              " 'obra',\n",
              " 'é',\n",
              " 'sua',\n",
              " '.',\n",
              " 'Há',\n",
              " 'livros',\n",
              " 'que',\n",
              " 'apenas',\n",
              " 'terão',\n",
              " 'isso',\n",
              " 'dos',\n",
              " 'seus',\n",
              " 'autores',\n",
              " ';',\n",
              " 'alguns',\n",
              " 'nem',\n",
              " 'tanto',\n",
              " '.',\n",
              " 'CAPÍTULO',\n",
              " 'II',\n",
              " 'DO',\n",
              " 'LIVRO',\n",
              " 'Agora',\n",
              " 'que',\n",
              " 'expliquei',\n",
              " 'o',\n",
              " 'título',\n",
              " ',',\n",
              " 'passo',\n",
              " 'a',\n",
              " 'escrever',\n",
              " 'o',\n",
              " 'livro',\n",
              " '.',\n",
              " 'Antes',\n",
              " 'disso',\n",
              " ',',\n",
              " 'porém',\n",
              " ',',\n",
              " 'digamos',\n",
              " 'os',\n",
              " 'motivos',\n",
              " 'que',\n",
              " 'me',\n",
              " 'põem',\n",
              " 'a',\n",
              " 'pena',\n",
              " 'na',\n",
              " 'mão',\n",
              " '.',\n",
              " 'Vivo',\n",
              " 'só',\n",
              " ',',\n",
              " 'com',\n",
              " 'um',\n",
              " 'criado',\n",
              " '.',\n",
              " 'A',\n",
              " 'casa',\n",
              " 'em',\n",
              " 'que',\n",
              " 'moro',\n",
              " 'é',\n",
              " 'própria',\n",
              " ';',\n",
              " 'fi-la',\n",
              " 'construir',\n",
              " 'de',\n",
              " 'propósito',\n",
              " ',',\n",
              " 'levado',\n",
              " 'de',\n",
              " 'um',\n",
              " 'desejo',\n",
              " 'tão',\n",
              " 'particular',\n",
              " 'que',\n",
              " 'me',\n",
              " 'vexa',\n",
              " 'imprimi-lo',\n",
              " ',',\n",
              " 'mas',\n",
              " 'vá',\n",
              " 'lá',\n",
              " '.',\n",
              " 'Um',\n",
              " 'dia',\n",
              " ',',\n",
              " 'há',\n",
              " 'bastantes',\n",
              " 'anos',\n",
              " ',',\n",
              " 'lembrou-me',\n",
              " 'reproduzir',\n",
              " 'no',\n",
              " 'Engenho',\n",
              " 'Novo',\n",
              " 'a',\n",
              " 'casa',\n",
              " 'em',\n",
              " 'que',\n",
              " 'me',\n",
              " 'criei',\n",
              " 'na',\n",
              " 'antiga',\n",
              " 'Rua',\n",
              " 'de',\n",
              " 'Mata-cavalos',\n",
              " ',',\n",
              " 'dando-lhe',\n",
              " 'o',\n",
              " 'mesmo',\n",
              " 'aspecto',\n",
              " 'e',\n",
              " 'economia',\n",
              " 'daquela',\n",
              " 'outra',\n",
              " ',',\n",
              " 'que',\n",
              " 'desapareceu',\n",
              " '.',\n",
              " 'Construtor',\n",
              " 'e',\n",
              " 'pintor',\n",
              " 'entenderam',\n",
              " 'bem',\n",
              " 'as',\n",
              " 'indicações',\n",
              " 'que',\n",
              " 'lhes',\n",
              " 'fiz',\n",
              " ':',\n",
              " 'é',\n",
              " 'o',\n",
              " 'mesmo',\n",
              " 'prédio',\n",
              " 'assobradado',\n",
              " ',',\n",
              " 'três',\n",
              " 'janelas',\n",
              " 'de',\n",
              " 'frente',\n",
              " ',',\n",
              " 'varanda',\n",
              " 'ao',\n",
              " 'fundo',\n",
              " ',',\n",
              " 'as',\n",
              " 'mesmas',\n",
              " 'alcovas',\n",
              " 'e',\n",
              " 'salas',\n",
              " '.',\n",
              " 'Na',\n",
              " 'principal',\n",
              " 'destas',\n",
              " ',',\n",
              " 'a',\n",
              " 'pintura',\n",
              " 'do',\n",
              " 'teto',\n",
              " 'e',\n",
              " 'das',\n",
              " 'paredes',\n",
              " 'é',\n",
              " 'mais',\n",
              " 'ou',\n",
              " 'menos',\n",
              " 'igual',\n",
              " ',',\n",
              " 'umas',\n",
              " 'grinaldas',\n",
              " 'de',\n",
              " 'flores',\n",
              " 'miúdas',\n",
              " 'e',\n",
              " 'grandes',\n",
              " 'pássaros',\n",
              " 'que',\n",
              " 'as',\n",
              " 'tomam',\n",
              " 'nos',\n",
              " 'bicos',\n",
              " ',',\n",
              " 'de',\n",
              " 'espaço',\n",
              " 'a',\n",
              " 'espaço',\n",
              " '.',\n",
              " 'Nos',\n",
              " 'quatro',\n",
              " 'cantos',\n",
              " 'do',\n",
              " 'teto',\n",
              " 'as',\n",
              " 'figuras',\n",
              " 'das',\n",
              " 'estações',\n",
              " ',',\n",
              " 'e',\n",
              " 'ao',\n",
              " 'centro',\n",
              " 'das',\n",
              " 'paredes',\n",
              " 'os',\n",
              " 'medalhões',\n",
              " 'de',\n",
              " 'César',\n",
              " ',',\n",
              " 'Augusto',\n",
              " ',',\n",
              " 'Nero',\n",
              " 'e',\n",
              " 'Massinissa',\n",
              " ',',\n",
              " 'com',\n",
              " 'os',\n",
              " 'nomes',\n",
              " 'por',\n",
              " 'baixo',\n",
              " '...',\n",
              " 'Não',\n",
              " 'alcanço',\n",
              " 'a',\n",
              " 'razão',\n",
              " 'de',\n",
              " 'tais',\n",
              " 'personagens',\n",
              " '.',\n",
              " 'Quando',\n",
              " 'fomos',\n",
              " 'para',\n",
              " 'a',\n",
              " 'casa',\n",
              " 'de',\n",
              " 'Mata-cavalos',\n",
              " ',',\n",
              " 'já',\n",
              " 'ela',\n",
              " 'estava',\n",
              " 'assim',\n",
              " 'decorada',\n",
              " ';',\n",
              " 'vinha',\n",
              " 'do',\n",
              " 'decênio',\n",
              " 'anterior',\n",
              " '.',\n",
              " 'Naturalmente',\n",
              " 'era',\n",
              " 'gosto',\n",
              " 'do',\n",
              " 'tempo',\n",
              " 'meter',\n",
              " 'sabor',\n",
              " 'clássico',\n",
              " 'e',\n",
              " 'figuras',\n",
              " 'antigas',\n",
              " 'em',\n",
              " 'pinturas',\n",
              " 'americanas',\n",
              " '.',\n",
              " 'O',\n",
              " 'mais',\n",
              " 'é',\n",
              " 'também',\n",
              " 'análogo',\n",
              " 'e',\n",
              " 'parecido',\n",
              " '.',\n",
              " 'Tenho',\n",
              " 'chacarinha',\n",
              " ',',\n",
              " 'flores',\n",
              " ',',\n",
              " 'legume',\n",
              " ',',\n",
              " 'uma',\n",
              " 'casuarina',\n",
              " ',',\n",
              " 'um',\n",
              " 'poço',\n",
              " 'e',\n",
              " 'lavadouro',\n",
              " '.',\n",
              " 'Uso',\n",
              " 'louça',\n",
              " 'velha',\n",
              " 'e',\n",
              " 'mobília',\n",
              " 'velha',\n",
              " '.',\n",
              " 'Enfim',\n",
              " ',',\n",
              " 'agora',\n",
              " ',',\n",
              " 'como',\n",
              " 'outrora',\n",
              " ',',\n",
              " 'há',\n",
              " 'aqui',\n",
              " 'o',\n",
              " 'mesmo',\n",
              " 'contraste',\n",
              " 'da',\n",
              " 'vida',\n",
              " 'interior',\n",
              " ',',\n",
              " 'que',\n",
              " 'é',\n",
              " 'pacata',\n",
              " ',',\n",
              " 'com',\n",
              " 'a',\n",
              " 'exterior',\n",
              " ',',\n",
              " 'que',\n",
              " 'é',\n",
              " 'ruidosa',\n",
              " '.',\n",
              " 'O',\n",
              " 'meu',\n",
              " 'fim',\n",
              " 'evidente',\n",
              " 'era',\n",
              " 'atar',\n",
              " 'as',\n",
              " 'duas',\n",
              " 'pontas',\n",
              " 'da',\n",
              " 'vida',\n",
              " ',',\n",
              " 'e',\n",
              " 'restaurar',\n",
              " 'na',\n",
              " 'velhice',\n",
              " 'a',\n",
              " 'adolescência',\n",
              " '.',\n",
              " 'Pois',\n",
              " ',',\n",
              " 'senhor',\n",
              " ',',\n",
              " 'não',\n",
              " 'consegui',\n",
              " 'recompor',\n",
              " 'o',\n",
              " 'que',\n",
              " 'foi',\n",
              " 'nem',\n",
              " 'o',\n",
              " 'que',\n",
              " 'fui',\n",
              " '.',\n",
              " 'Em',\n",
              " 'tudo',\n",
              " ',',\n",
              " 'se',\n",
              " 'o',\n",
              " 'rosto',\n",
              " 'é',\n",
              " 'igual',\n",
              " ',',\n",
              " 'a',\n",
              " 'fisionomia',\n",
              " 'é',\n",
              " 'diferente',\n",
              " '.',\n",
              " 'Se',\n",
              " 'só',\n",
              " 'me',\n",
              " 'faltassem',\n",
              " 'os',\n",
              " 'outros',\n",
              " ',',\n",
              " 'vá',\n",
              " ';',\n",
              " 'um',\n",
              " 'homem',\n",
              " 'consola-se',\n",
              " 'mais',\n",
              " 'ou',\n",
              " 'menos',\n",
              " 'das',\n",
              " 'pessoas',\n",
              " 'que',\n",
              " 'perde',\n",
              " ';',\n",
              " 'mais',\n",
              " 'falto',\n",
              " 'eu',\n",
              " 'mesmo',\n",
              " ',',\n",
              " 'e',\n",
              " 'esta',\n",
              " 'lacuna',\n",
              " 'é',\n",
              " 'tudo',\n",
              " '.',\n",
              " 'O',\n",
              " 'que',\n",
              " 'aqui',\n",
              " 'está',\n",
              " 'é',\n",
              " ',',\n",
              " 'mal',\n",
              " 'comparando',\n",
              " ',',\n",
              " 'semelhante',\n",
              " 'à',\n",
              " 'pintura',\n",
              " 'que',\n",
              " 'se',\n",
              " 'põe',\n",
              " 'na',\n",
              " 'barba',\n",
              " 'e',\n",
              " 'nos',\n",
              " 'cabelos',\n",
              " ',',\n",
              " 'e',\n",
              " 'que',\n",
              " 'apenas',\n",
              " 'conserva',\n",
              " 'o',\n",
              " 'hábito',\n",
              " 'externo',\n",
              " ',',\n",
              " 'como',\n",
              " 'se',\n",
              " 'diz',\n",
              " 'nas',\n",
              " 'autópsias',\n",
              " ';',\n",
              " 'o',\n",
              " 'interno',\n",
              " 'não',\n",
              " 'agüenta',\n",
              " 'tinta',\n",
              " '.',\n",
              " 'Uma',\n",
              " 'certidão',\n",
              " 'que',\n",
              " 'me',\n",
              " 'desse',\n",
              " 'vinte',\n",
              " 'anos',\n",
              " 'de',\n",
              " 'idade',\n",
              " 'poderia',\n",
              " 'enganar',\n",
              " 'os',\n",
              " 'estranhos',\n",
              " ',',\n",
              " 'como',\n",
              " 'todos',\n",
              " 'os',\n",
              " 'documentos',\n",
              " 'falsos',\n",
              " ',',\n",
              " 'mas',\n",
              " 'não',\n",
              " 'a',\n",
              " 'mim',\n",
              " '.',\n",
              " 'Os',\n",
              " 'amigos',\n",
              " 'que',\n",
              " 'me',\n",
              " 'restam',\n",
              " 'são',\n",
              " 'de',\n",
              " 'data',\n",
              " 'recente',\n",
              " ';',\n",
              " 'todos',\n",
              " 'os',\n",
              " 'antigos',\n",
              " 'foram',\n",
              " 'estudar',\n",
              " 'a',\n",
              " 'geologia',\n",
              " 'dos',\n",
              " 'campos-santos',\n",
              " '.',\n",
              " 'Quanto',\n",
              " 'às',\n",
              " 'amigas',\n",
              " ',',\n",
              " 'algumas',\n",
              " 'datam',\n",
              " 'de',\n",
              " 'quinze',\n",
              " 'anos',\n",
              " ',',\n",
              " 'outras',\n",
              " 'de',\n",
              " 'menos',\n",
              " ',',\n",
              " 'e',\n",
              " 'quase',\n",
              " 'todas',\n",
              " 'crêem',\n",
              " 'na',\n",
              " 'mocidade',\n",
              " '.',\n",
              " 'Duas',\n",
              " 'ou',\n",
              " 'três',\n",
              " 'fariam',\n",
              " 'crer',\n",
              " 'nela',\n",
              " 'aos',\n",
              " 'outros',\n",
              " ',',\n",
              " 'mas',\n",
              " 'a',\n",
              " 'língua',\n",
              " 'que',\n",
              " 'falam',\n",
              " 'obriga',\n",
              " 'muita',\n",
              " 'vez',\n",
              " 'a',\n",
              " 'consultar',\n",
              " 'os',\n",
              " 'dicionários',\n",
              " ',',\n",
              " 'e',\n",
              " 'tal',\n",
              " 'freqüência',\n",
              " 'é',\n",
              " 'cansativa',\n",
              " '.',\n",
              " 'Entretanto',\n",
              " ',',\n",
              " 'vida',\n",
              " 'diferente',\n",
              " 'não',\n",
              " 'quer',\n",
              " 'dizer',\n",
              " 'vida',\n",
              " 'pior',\n",
              " ';',\n",
              " 'é',\n",
              " 'outra',\n",
              " 'coisa',\n",
              " '.',\n",
              " 'A',\n",
              " 'certos',\n",
              " 'respeitos',\n",
              " ',',\n",
              " 'aquela',\n",
              " 'vida',\n",
              " 'antiga',\n",
              " 'aparece-me',\n",
              " 'despida',\n",
              " 'de',\n",
              " 'muitos',\n",
              " 'encantos',\n",
              " 'que',\n",
              " 'lhe',\n",
              " 'achei',\n",
              " ';',\n",
              " 'mas',\n",
              " 'é',\n",
              " ...]"
            ]
          },
          "metadata": {},
          "execution_count": 20
        }
      ]
    },
    {
      "cell_type": "markdown",
      "metadata": {
        "id": "6GG88HlSHDSg"
      },
      "source": [
        "Podemos contar o tamanho do texto obtido:"
      ]
    },
    {
      "cell_type": "code",
      "metadata": {
        "colab": {
          "base_uri": "https://localhost:8080/"
        },
        "id": "nuaqSEeMHJLt",
        "outputId": "43919db0-731e-4078-a152-7f07fd347bdd"
      },
      "source": [
        "len(palavras)"
      ],
      "execution_count": 21,
      "outputs": [
        {
          "output_type": "execute_result",
          "data": {
            "text/plain": [
              "78936"
            ]
          },
          "metadata": {},
          "execution_count": 21
        }
      ]
    },
    {
      "cell_type": "code",
      "metadata": {
        "colab": {
          "base_uri": "https://localhost:8080/"
        },
        "id": "LQUYPiH-vmqY",
        "outputId": "a51f3332-ba77-4c7b-d5bf-ce6ffde80271"
      },
      "source": [
        "len(obra)"
      ],
      "execution_count": 22,
      "outputs": [
        {
          "output_type": "execute_result",
          "data": {
            "text/plain": [
              "373504"
            ]
          },
          "metadata": {},
          "execution_count": 22
        }
      ]
    },
    {
      "cell_type": "markdown",
      "metadata": {
        "id": "ajE03pmgF8oA"
      },
      "source": [
        "### Limpeza do texto"
      ]
    },
    {
      "cell_type": "markdown",
      "metadata": {
        "id": "YpIpXS9wGFo3"
      },
      "source": [
        "Em aplicações de PLN, são avaliadas unidades de texto como sílabas, palavras, frases, entre outras, e não os caracteres do texto. Sendo assim, geralmente são empregadas estratégias de limpeza do texto.\n",
        "\n",
        "Vamos realizar a remoção da pontuação e a conversão de todo o texto para caracteres minúsculos. Podemos definir uma função para que isso possa ser feito sempre que necessário, sem repetição de códigos:"
      ]
    },
    {
      "cell_type": "code",
      "metadata": {
        "id": "hfLrC7mwF1KQ"
      },
      "source": [
        "def limpar(lista):\n",
        "  lixo = '.,:.;?!\"`()[]{}\\/|#$%^&*'\n",
        "  quase_limpo = [x.strip(lixo).lower() for x in lista]\n",
        "  return [x for x in quase_limpo if x.isalpha() or '-' in x]"
      ],
      "execution_count": 23,
      "outputs": []
    },
    {
      "cell_type": "code",
      "metadata": {
        "colab": {
          "base_uri": "https://localhost:8080/"
        },
        "id": "Uz4-rq78Ikjp",
        "outputId": "947a7709-3a2d-4c9a-88ab-45868d4f1268"
      },
      "source": [
        "corpus_sujo = ['banana', 'maçã.', 'abaca.te', ':Melancia']\n",
        "print(limpar(corpus_sujo))"
      ],
      "execution_count": 24,
      "outputs": [
        {
          "output_type": "stream",
          "name": "stdout",
          "text": [
            "['banana', 'maçã', 'melancia']\n"
          ]
        }
      ]
    },
    {
      "cell_type": "markdown",
      "metadata": {
        "id": "Za0TzKTgIvX5"
      },
      "source": [
        "Vamos comparar o copus da obra Dom Casmurro antes e depois da limpeza:"
      ]
    },
    {
      "cell_type": "code",
      "metadata": {
        "colab": {
          "base_uri": "https://localhost:8080/"
        },
        "id": "rIaAuS-6IrGI",
        "outputId": "713d26b8-c0c0-4562-b970-5e9d0487a5ea"
      },
      "source": [
        "print(\"Antes da limpeza:\", len(palavras))\n",
        "palavras = limpar(palavras)\n",
        "print(\"Depois da limpeza:\", len(palavras))"
      ],
      "execution_count": 25,
      "outputs": [
        {
          "output_type": "stream",
          "name": "stdout",
          "text": [
            "Antes da limpeza: 78936\n",
            "Depois da limpeza: 65212\n"
          ]
        }
      ]
    },
    {
      "cell_type": "markdown",
      "metadata": {
        "id": "utjtgtodL0i0"
      },
      "source": [
        "Outra forma de realizar a limpeza de um *corpus* é através da remoção de **palavras vazias**. Palavras vazias são palavras que podem ser descartadas antes de uma análise pois possuem reduzida contribuição semântica ou nocional. Geralmente são preposições, artigos, conjunções, alguns pronomes e advérbios.\n",
        "\n",
        "A NLTK traz uma lista de 203 palavras vazias para o português. Podemos importa-las usando:"
      ]
    },
    {
      "cell_type": "code",
      "metadata": {
        "id": "swZW3tOyI8T5"
      },
      "source": [
        "vazias = nltk.corpus.stopwords.words('portuguese')"
      ],
      "execution_count": 26,
      "outputs": []
    },
    {
      "cell_type": "markdown",
      "metadata": {
        "id": "P0Z0QGBLNPZF"
      },
      "source": [
        "Vamos ver um exemplo:"
      ]
    },
    {
      "cell_type": "code",
      "metadata": {
        "colab": {
          "base_uri": "https://localhost:8080/"
        },
        "id": "cp19flEINJDV",
        "outputId": "d7a21704-4f67-44e0-a5ea-1484fd4b4b5b"
      },
      "source": [
        "sentenca = 'Eu estou aprendendo Python. É uma das linguagens de programação mais populares.'\n",
        "palavras_da_sentenca = word_tokenize(sentenca)\n",
        "print(palavras_da_sentenca)\n",
        "sentenca_sem_palavras_vazias = ' '.join([palavra for palavra in palavras_da_sentenca if palavra not in vazias])\n",
        "print(sentenca_sem_palavras_vazias)"
      ],
      "execution_count": 27,
      "outputs": [
        {
          "output_type": "stream",
          "name": "stdout",
          "text": [
            "['Eu', 'estou', 'aprendendo', 'Python', '.', 'É', 'uma', 'das', 'linguagens', 'de', 'programação', 'mais', 'populares', '.']\n",
            "Eu aprendendo Python . É linguagens programação populares .\n"
          ]
        }
      ]
    },
    {
      "cell_type": "markdown",
      "metadata": {
        "id": "PXoJX8rbOCHa"
      },
      "source": [
        "O código acima realizou a remoção das palavras que são consideradas vazias, deixando a sentença estranha para a leitura, mas com mais significado para análises com PLN.\n",
        "\n",
        "Vamos criar uma função que remova as palavras vazias e aplicá-la a obra Dom Casmurro e verificar a mudança no tamanho do *corpus*."
      ]
    },
    {
      "cell_type": "code",
      "metadata": {
        "id": "sctkW9U5N6ym"
      },
      "source": [
        "def remove_vazias(lista):\n",
        "  return [palavra for palavra in lista if palavra not in vazias]"
      ],
      "execution_count": 28,
      "outputs": []
    },
    {
      "cell_type": "code",
      "metadata": {
        "colab": {
          "base_uri": "https://localhost:8080/"
        },
        "id": "BnbMEEekOtBC",
        "outputId": "11a30d12-e80d-44db-f3e8-8b37194098b7"
      },
      "source": [
        "print(\"Antes da limpeza de palavras vazias:\", len(palavras))\n",
        "palavras_sem_vazias = remove_vazias(palavras)\n",
        "print(\"Depois da limpeza de palavras vazias:\", len(palavras_sem_vazias))"
      ],
      "execution_count": 29,
      "outputs": [
        {
          "output_type": "stream",
          "name": "stdout",
          "text": [
            "Antes da limpeza de palavras vazias: 65212\n",
            "Depois da limpeza de palavras vazias: 34737\n"
          ]
        }
      ]
    },
    {
      "cell_type": "markdown",
      "metadata": {
        "id": "sb-rPHV4PDvs"
      },
      "source": [
        "### Contagens"
      ]
    },
    {
      "cell_type": "markdown",
      "metadata": {
        "id": "B_UdQusFPGHa"
      },
      "source": [
        "Outra tarefa comum no PLN é a contagem de palavras para gerar algumas estatísticas e analisar o vocabulário."
      ]
    },
    {
      "cell_type": "markdown",
      "metadata": {
        "id": "9_bxFinnPVcL"
      },
      "source": [
        "#### Vocabulário"
      ]
    },
    {
      "cell_type": "markdown",
      "metadata": {
        "id": "UVC8n2JyPggH"
      },
      "source": [
        "O vocabulário é basicamente uma lista de todas as palavras que aparecem no *corpus*. É como um dicionário, e sendo assim, não apresenta repetição de palavras. Podemos obter o vocabulário facilmente:"
      ]
    },
    {
      "cell_type": "code",
      "metadata": {
        "colab": {
          "base_uri": "https://localhost:8080/"
        },
        "id": "TnBu1BaQO3bR",
        "outputId": "cdf7a6f0-daf0-4737-8796-000b39617b62"
      },
      "source": [
        "vocabulario_sem_limpeza = set(palavras)\n",
        "print(\"Vocabulário sem a remoção de palavras vazias: \", len(vocabulario_sem_limpeza))\n",
        "vocabulario = set(palavras_sem_vazias)\n",
        "print(\"Vocabulário com a remoção de palavras vazias: \", len(vocabulario))"
      ],
      "execution_count": 30,
      "outputs": [
        {
          "output_type": "stream",
          "name": "stdout",
          "text": [
            "Vocabulário sem a remoção de palavras vazias:  9238\n",
            "Vocabulário com a remoção de palavras vazias:  9069\n"
          ]
        }
      ]
    },
    {
      "cell_type": "markdown",
      "metadata": {
        "id": "2GDlDSbHP4NF"
      },
      "source": [
        "#### Ocorrências"
      ]
    },
    {
      "cell_type": "markdown",
      "metadata": {
        "id": "rCCWLnvLQWpM"
      },
      "source": [
        "É comum querermos saber quais são as palavras que possuem mais ocorrências em um texto. Podemos criar um dicionário no Python que associa a palavra a sua contagem de ocorrências."
      ]
    },
    {
      "cell_type": "code",
      "metadata": {
        "id": "f6aIZcqcP2za"
      },
      "source": [
        "from collections import defaultdict\n",
        "def ocorrencias(lista_palavras):\n",
        "    dicionario = defaultdict(int)\n",
        "    for p in lista_palavras:\n",
        "        dicionario[p] += 1\n",
        "    \n",
        "    return dicionario"
      ],
      "execution_count": 31,
      "outputs": []
    },
    {
      "cell_type": "markdown",
      "metadata": {
        "id": "_-zLbSfhSvhO"
      },
      "source": [
        "Utilizando a função acima, podemos obter uma estrutura do Python que contém uma chave e um valor, no nosso caso uma palavra e sua contagem de ocorrências.\n",
        "\n",
        "Podemos utilizar uma função do Python chamada `sorted()` que, com algumas alterações, pode ordenar as palavras em função da sua ocorrência. No exemplo a seguir, veremos as 10 palavras mais frequentes considerando a obra Dom Casmurro sem a remoção das palavras vazias:"
      ]
    },
    {
      "cell_type": "code",
      "metadata": {
        "colab": {
          "base_uri": "https://localhost:8080/"
        },
        "id": "7BGZIKOLRgkT",
        "outputId": "7076974d-186a-4f1c-c624-318f560edfd5"
      },
      "source": [
        "dic = ocorrencias(palavras)\n",
        "mais_frequentes = sorted(dic.items(), key=lambda tupla:tupla[1], reverse=True)[:10]\n",
        "for palavra, n in mais_frequentes:\n",
        "    print(palavra, '\\t', n)"
      ],
      "execution_count": 32,
      "outputs": [
        {
          "output_type": "stream",
          "name": "stdout",
          "text": [
            "que \t 2684\n",
            "a \t 2483\n",
            "e \t 2185\n",
            "de \t 1975\n",
            "o \t 1667\n",
            "não \t 1524\n",
            "um \t 771\n",
            "é \t 715\n",
            "os \t 660\n",
            "da \t 626\n"
          ]
        }
      ]
    },
    {
      "cell_type": "markdown",
      "metadata": {
        "id": "2fJ_KIz4Sva8"
      },
      "source": [
        "Agora, o mesmo trecho pode ser utilizado para verificarmos as 10 mais frequentes com a limpeza de palavras vazias:"
      ]
    },
    {
      "cell_type": "code",
      "metadata": {
        "colab": {
          "base_uri": "https://localhost:8080/"
        },
        "id": "apzffFztR9EO",
        "outputId": "017a4494-715b-4cd3-8372-26dabe6db43f"
      },
      "source": [
        "dic = ocorrencias(palavras_sem_vazias)\n",
        "mais_frequentes = sorted(dic.items(), key=lambda tupla:tupla[1], reverse=True)[:20]\n",
        "for palavra, n in mais_frequentes:\n",
        "    print(palavra, '\\t', n)"
      ],
      "execution_count": 33,
      "outputs": [
        {
          "output_type": "stream",
          "name": "stdout",
          "text": [
            "capitu \t 341\n",
            "mãe \t 228\n",
            "dias \t 192\n",
            "tudo \t 189\n",
            "capítulo \t 188\n",
            "casa \t 169\n",
            "ser \t 167\n",
            "olhos \t 163\n",
            "mim \t 162\n",
            "josé \t 159\n",
            "assim \t 158\n",
            "vez \t 147\n",
            "agora \t 145\n",
            "ainda \t 141\n",
            "outra \t 138\n",
            "nada \t 135\n",
            "disse \t 123\n",
            "tão \t 122\n",
            "tempo \t 120\n",
            "padre \t 112\n"
          ]
        }
      ]
    },
    {
      "cell_type": "markdown",
      "metadata": {
        "id": "9nn5yZU4VVeF"
      },
      "source": [
        "### Stemming"
      ]
    },
    {
      "cell_type": "markdown",
      "metadata": {
        "id": "gNnea2KuVrz-"
      },
      "source": [
        "O processo de *stemming* está relacionado a reduzir as palavras a suas raízes morfológicas, eliminando assim algumas formas flexionadas que possuem o mesmo significado.\n",
        "\n",
        "Essa é uma estratégia que deve ser usada somente em determinadas situações, uma vez que homônimos indesejados podem surgir, como por exemplo: \"nada\", advérbio, e \"nadaram\", forma conjulgada do verbo \"nadar\", seriam reduzidas na raiz \"nad\". Todas essas raízes seriam contadas uma única vez, afetando a descrição do *corpus*. Porém a técnica pode ser útil na identificação de termos mais raros no *corpus*, as chamadas **Hápax legômena**.\n",
        "\n",
        "Podemos utilizar um **stemmer** para reduzir as palavras. Vamos empregar um dos módulos da NLTK."
      ]
    },
    {
      "cell_type": "code",
      "metadata": {
        "colab": {
          "base_uri": "https://localhost:8080/"
        },
        "id": "PEkqd8ieVekU",
        "outputId": "aae5339f-05a7-4f54-cb5d-eadd0a3e4de8"
      },
      "source": [
        "stemmer = nltk.stem.RSLPStemmer()\n",
        "raizes = [stemmer.stem(x) for x in set(palavras)]\n",
        "raizes[:10]"
      ],
      "execution_count": 34,
      "outputs": [
        {
          "output_type": "execute_result",
          "data": {
            "text/plain": [
              "['pasm',\n",
              " 'acas',\n",
              " 'carn',\n",
              " 'caix',\n",
              " 'entorn',\n",
              " 'pegando-lh',\n",
              " 'biomb',\n",
              " 'l',\n",
              " 'ord',\n",
              " 'pint']"
            ]
          },
          "metadata": {},
          "execution_count": 34
        }
      ]
    },
    {
      "cell_type": "markdown",
      "metadata": {
        "id": "N192l9tpYn3V"
      },
      "source": [
        "### Etiquetagem"
      ]
    },
    {
      "cell_type": "markdown",
      "metadata": {
        "id": "HqxKQ0S8YrNl"
      },
      "source": [
        "A etiquetagem morfossintática, também conhecida com PoS Tagging, é o processo no qual as palavras de um *corpus* recebem uma etiqueta que representa a parte do discurso (part of speech) equivalente a palavra.\n",
        "\n",
        "Para realizar a etiquetagem, podemos empregar a biblioteca spaCy e seus componentes adicionais que permitem a etiquetagem de textos em português."
      ]
    },
    {
      "cell_type": "code",
      "metadata": {
        "colab": {
          "base_uri": "https://localhost:8080/"
        },
        "id": "WLtRdY_IYT5H",
        "outputId": "ed799e39-cf14-4d21-ca80-63ed1604e5db"
      },
      "source": [
        "import spacy\n",
        "spacy.cli.download(\"pt_core_news_sm\") # Download dos recursos em pt-BR\n",
        "nlp = spacy.load('pt_core_news_sm') # Carregamento dos recursos em pt-BR"
      ],
      "execution_count": 35,
      "outputs": [
        {
          "output_type": "stream",
          "name": "stdout",
          "text": [
            "\u001b[38;5;2m✔ Download and installation successful\u001b[0m\n",
            "You can now load the model via spacy.load('pt_core_news_sm')\n"
          ]
        }
      ]
    },
    {
      "cell_type": "markdown",
      "metadata": {
        "id": "4PxNtckZaIa8"
      },
      "source": [
        "Vamos executar um exemplo simples:"
      ]
    },
    {
      "cell_type": "code",
      "metadata": {
        "colab": {
          "base_uri": "https://localhost:8080/"
        },
        "id": "S7fXXLobaDi9",
        "outputId": "0201c58e-99f4-4f60-a518-ae4278b21e6e"
      },
      "source": [
        "doc = nlp('Será que vai funcionar essa etiquetagem?')\n",
        "etiq = [(x.orth_, x.pos_) for x in doc]\n",
        "print(etiq)"
      ],
      "execution_count": 36,
      "outputs": [
        {
          "output_type": "stream",
          "name": "stdout",
          "text": [
            "[('Será', 'VERB'), ('que', 'SCONJ'), ('vai', 'AUX'), ('funcionar', 'VERB'), ('essa', 'DET'), ('etiquetagem', 'NOUN'), ('?', 'PUNCT')]\n"
          ]
        }
      ]
    },
    {
      "cell_type": "markdown",
      "metadata": {
        "id": "y7Tl4x1EaOHN"
      },
      "source": [
        "Note que as etiquetas representam as funções morfológicas de cada palavra. Esses rótulos estão em inglês. Esse [post](https://stackoverflow.com/questions/40288323/what-do-spacys-part-of-speech-and-dependency-tags-mean) do stackoverflow tem uma lista que ajuda a descobrir rapidamente o significado de cada uma."
      ]
    },
    {
      "cell_type": "markdown",
      "metadata": {
        "id": "9z6gOdlVbeXu"
      },
      "source": [
        "### Gráficos"
      ]
    },
    {
      "cell_type": "markdown",
      "metadata": {
        "id": "NLjNbnwrbh5I"
      },
      "source": [
        "Alguns gráficos podem ser gerados para auxiliar na análise dos textos. Veremos dois: um gráfico de linha com as frequências dos *tokens* e um gráfico de barras para representar a etiquetagem."
      ]
    },
    {
      "cell_type": "markdown",
      "metadata": {
        "id": "ThW-GPc8cRa3"
      },
      "source": [
        "#### Frequências"
      ]
    },
    {
      "cell_type": "markdown",
      "metadata": {
        "id": "idTnqts1cY7m"
      },
      "source": [
        "Vamos gerar um gráfico de linha para exibir as 20 palavras mais frequentes da obra Dom Casmurro. A NLTK possui um módulo que facilita a plotagem desse gráfico:\n"
      ]
    },
    {
      "cell_type": "code",
      "metadata": {
        "colab": {
          "base_uri": "https://localhost:8080/",
          "height": 311
        },
        "id": "jSiAV4JCaNE1",
        "outputId": "d67680c2-0f89-4de1-846a-262c9b58a363"
      },
      "source": [
        "freq = nltk.FreqDist(palavras_sem_vazias)\n",
        "freq.plot(20, cumulative=False)"
      ],
      "execution_count": 37,
      "outputs": [
        {
          "output_type": "display_data",
          "data": {
            "text/plain": [
              "<Figure size 432x288 with 1 Axes>"
            ],
            "image/png": "[encoded data removed]"
          },
          "metadata": {
            "needs_background": "light"
          }
        }
      ]
    },
    {
      "cell_type": "markdown",
      "metadata": {
        "id": "zoGwBjW7dcdi"
      },
      "source": [
        "#### Utilização de Partes do Discurso"
      ]
    },
    {
      "cell_type": "markdown",
      "metadata": {
        "id": "cL6etCdNde3V"
      },
      "source": [
        "Para visualizar as partes do discurso mais frequentes, utilizaremos apenas as etiquetas mais tradicionais, eliminando as de pontuação, espaços em branco, símbolos não-alfabéticos, numerais e palavras irreconhecíveis. Vamos utilizar também a biblioteca matplotlib, muito empregada no Python para a construção de gráficos. O código a seguir produz um gráfico de barras com a distribuição de frequência das partes do discurso na obra Dom Casmurro:"
      ]
    },
    {
      "cell_type": "code",
      "metadata": {
        "colab": {
          "base_uri": "https://localhost:8080/",
          "height": 336
        },
        "id": "-MScepTBdIm2",
        "outputId": "3cafafdc-5d04-41ac-c5f4-08f2e3bcb1ac"
      },
      "source": [
        "import matplotlib.pyplot as plt\n",
        "from collections import defaultdict\n",
        "\n",
        "lixo = ['PUNCT', 'SPACE', 'X', 'SYM', 'NUM']\n",
        "doc = nlp(obra)\n",
        "etiq = [(pal.orth_, pal.pos_) for pal in doc]\n",
        "pos2 = [pos for (pal, pos) in etiq if pos not in lixo]\n",
        "cont = defaultdict(int)\n",
        "for p in pos2:\n",
        "    cont[p] += 1\n",
        "frequencia = sorted(cont.items(), key=lambda tupla:tupla[1], reverse=True)\n",
        "cont = defaultdict(int)\n",
        "for palavra, n in frequencia:\n",
        "  cont[palavra] = n\n",
        "fig = plt.figure()\n",
        "ax = fig.add_axes([0,0,1,1])\n",
        "nomes = cont.keys()\n",
        "ocorrencias = cont.values()\n",
        "ax.bar(nomes,ocorrencias)\n",
        "plt.show()"
      ],
      "execution_count": 38,
      "outputs": [
        {
          "output_type": "display_data",
          "data": {
            "text/plain": [
              "<Figure size 432x288 with 1 Axes>"
            ],
            "image/png": "[encoded data removed]"
          },
          "metadata": {
            "needs_background": "light"
          }
        }
      ]
    },
    {
      "cell_type": "markdown",
      "source": [
        "## Classificando textos"
      ],
      "metadata": {
        "id": "5g0hv8rH-ghr"
      }
    },
    {
      "cell_type": "markdown",
      "source": [
        "### Bag of Words (BoW)\n",
        "\n",
        "Para implementar o Bag of Words com python, podemos utilizar a [scikit-learn](https://scikit-learn.org/stable/). Especificamente, utilizaremos a CountVectorizer, que é uma classe que permite gerar a representação no formato de matriz dos textos. Utilizaremos também a biblioteca pandas, mas não vamos entrar em detalhes nessa aula. Vamos importar as bibliotecas e criar nosso documento (corpus):"
      ],
      "metadata": {
        "id": "QJgkhZd9-nJj"
      }
    },
    {
      "cell_type": "code",
      "metadata": {
        "id": "N9NKUfAX2JW6"
      },
      "source": [
        "import pandas as pd\n",
        "from sklearn.feature_extraction.text import CountVectorizer\n",
        "\n",
        "corpus = ['Ciência de Dados é uma interseção entre Artes e Ciência',\n",
        "          'Geralmente, alunos de Artes usam o lado direito do cérebro e estudantes de Ciência o lado esquerdo',\n",
        "          'Destacar-se tanto nas Artes quanto nas Ciências ao mesmo tempo é difícil',\n",
        "          'Processamento de Linguagem Natural faz parte da Ciência de Dados']\n"
      ],
      "execution_count": 40,
      "outputs": []
    },
    {
      "cell_type": "markdown",
      "source": [
        "Agora, vamos utilizar o CountVectorizer para criar a representação BoW:"
      ],
      "metadata": {
        "id": "1USGhzBuNMJ1"
      }
    },
    {
      "cell_type": "code",
      "source": [
        "bow = CountVectorizer()\n",
        "bow_df = pd.DataFrame(bow.fit_transform(corpus).todense())\n",
        "bow_df.columns = sorted(bow.vocabulary_)\n",
        "bow_df.head()"
      ],
      "metadata": {
        "colab": {
          "base_uri": "https://localhost:8080/",
          "height": 204
        },
        "id": "kHcLOfjBNBSE",
        "outputId": "43cb9d62-9260-4960-8f5b-e14c2ce96d54"
      },
      "execution_count": 44,
      "outputs": [
        {
          "output_type": "execute_result",
          "data": {
            "text/plain": [
              "   alunos  ao  artes  ciência  ciências  cérebro  da  dados  de  destacar  \\\n",
              "0       0   0      1        2         0        0   0      1   1         0   \n",
              "1       1   0      1        1         0        1   0      0   2         0   \n",
              "2       0   1      1        0         1        0   0      0   0         1   \n",
              "3       0   0      0        1         0        0   1      1   2         0   \n",
              "\n",
              "   ...  nas  natural  parte  processamento  quanto  se  tanto  tempo  uma  \\\n",
              "0  ...    0        0      0              0       0   0      0      0    1   \n",
              "1  ...    0        0      0              0       0   0      0      0    0   \n",
              "2  ...    2        0      0              0       1   1      1      1    0   \n",
              "3  ...    0        1      1              1       0   0      0      0    0   \n",
              "\n",
              "   usam  \n",
              "0     0  \n",
              "1     1  \n",
              "2     0  \n",
              "3     0  \n",
              "\n",
              "[4 rows x 32 columns]"
            ],
            "text/html": [
              "\n",
              "  <div id=\"df-8c8496aa-86ff-420e-9463-21a4642cf7ae\">\n",
              "    <div class=\"colab-df-container\">\n",
              "      <div>\n",
              "<style scoped>\n",
              "    .dataframe tbody tr th:only-of-type {\n",
              "        vertical-align: middle;\n",
              "    }\n",
              "\n",
              "    .dataframe tbody tr th {\n",
              "        vertical-align: top;\n",
              "    }\n",
              "\n",
              "    .dataframe thead th {\n",
              "        text-align: right;\n",
              "    }\n",
              "</style>\n",
              "<table border=\"1\" class=\"dataframe\">\n",
              "  <thead>\n",
              "    <tr style=\"text-align: right;\">\n",
              "      <th></th>\n",
              "      <th>alunos</th>\n",
              "      <th>ao</th>\n",
              "      <th>artes</th>\n",
              "      <th>ciência</th>\n",
              "      <th>ciências</th>\n",
              "      <th>cérebro</th>\n",
              "      <th>da</th>\n",
              "      <th>dados</th>\n",
              "      <th>de</th>\n",
              "      <th>destacar</th>\n",
              "      <th>...</th>\n",
              "      <th>nas</th>\n",
              "      <th>natural</th>\n",
              "      <th>parte</th>\n",
              "      <th>processamento</th>\n",
              "      <th>quanto</th>\n",
              "      <th>se</th>\n",
              "      <th>tanto</th>\n",
              "      <th>tempo</th>\n",
              "      <th>uma</th>\n",
              "      <th>usam</th>\n",
              "    </tr>\n",
              "  </thead>\n",
              "  <tbody>\n",
              "    <tr>\n",
              "      <th>0</th>\n",
              "      <td>0</td>\n",
              "      <td>0</td>\n",
              "      <td>1</td>\n",
              "      <td>2</td>\n",
              "      <td>0</td>\n",
              "      <td>0</td>\n",
              "      <td>0</td>\n",
              "      <td>1</td>\n",
              "      <td>1</td>\n",
              "      <td>0</td>\n",
              "      <td>...</td>\n",
              "      <td>0</td>\n",
              "      <td>0</td>\n",
              "      <td>0</td>\n",
              "      <td>0</td>\n",
              "      <td>0</td>\n",
              "      <td>0</td>\n",
              "      <td>0</td>\n",
              "      <td>0</td>\n",
              "      <td>1</td>\n",
              "      <td>0</td>\n",
              "    </tr>\n",
              "    <tr>\n",
              "      <th>1</th>\n",
              "      <td>1</td>\n",
              "      <td>0</td>\n",
              "      <td>1</td>\n",
              "      <td>1</td>\n",
              "      <td>0</td>\n",
              "      <td>1</td>\n",
              "      <td>0</td>\n",
              "      <td>0</td>\n",
              "      <td>2</td>\n",
              "      <td>0</td>\n",
              "      <td>...</td>\n",
              "      <td>0</td>\n",
              "      <td>0</td>\n",
              "      <td>0</td>\n",
              "      <td>0</td>\n",
              "      <td>0</td>\n",
              "      <td>0</td>\n",
              "      <td>0</td>\n",
              "      <td>0</td>\n",
              "      <td>0</td>\n",
              "      <td>1</td>\n",
              "    </tr>\n",
              "    <tr>\n",
              "      <th>2</th>\n",
              "      <td>0</td>\n",
              "      <td>1</td>\n",
              "      <td>1</td>\n",
              "      <td>0</td>\n",
              "      <td>1</td>\n",
              "      <td>0</td>\n",
              "      <td>0</td>\n",
              "      <td>0</td>\n",
              "      <td>0</td>\n",
              "      <td>1</td>\n",
              "      <td>...</td>\n",
              "      <td>2</td>\n",
              "      <td>0</td>\n",
              "      <td>0</td>\n",
              "      <td>0</td>\n",
              "      <td>1</td>\n",
              "      <td>1</td>\n",
              "      <td>1</td>\n",
              "      <td>1</td>\n",
              "      <td>0</td>\n",
              "      <td>0</td>\n",
              "    </tr>\n",
              "    <tr>\n",
              "      <th>3</th>\n",
              "      <td>0</td>\n",
              "      <td>0</td>\n",
              "      <td>0</td>\n",
              "      <td>1</td>\n",
              "      <td>0</td>\n",
              "      <td>0</td>\n",
              "      <td>1</td>\n",
              "      <td>1</td>\n",
              "      <td>2</td>\n",
              "      <td>0</td>\n",
              "      <td>...</td>\n",
              "      <td>0</td>\n",
              "      <td>1</td>\n",
              "      <td>1</td>\n",
              "      <td>1</td>\n",
              "      <td>0</td>\n",
              "      <td>0</td>\n",
              "      <td>0</td>\n",
              "      <td>0</td>\n",
              "      <td>0</td>\n",
              "      <td>0</td>\n",
              "    </tr>\n",
              "  </tbody>\n",
              "</table>\n",
              "<p>4 rows × 32 columns</p>\n",
              "</div>\n",
              "      <button class=\"colab-df-convert\" onclick=\"convertToInteractive('df-8c8496aa-86ff-420e-9463-21a4642cf7ae')\"\n",
              "              title=\"Convert this dataframe to an interactive table.\"\n",
              "              style=\"display:none;\">\n",
              "        \n",
              "  <svg xmlns=\"http://www.w3.org/2000/svg\" height=\"24px\"viewBox=\"0 0 24 24\"\n",
              "       width=\"24px\">\n",
              "    <path d=\"M0 0h24v24H0V0z\" fill=\"none\"/>\n",
              "    <path d=\"M18.56 5.44l.94 2.06.94-2.06 2.06-.94-2.06-.94-.94-2.06-.94 2.06-2.06.94zm-11 1L8.5 8.5l.94-2.06 2.06-.94-2.06-.94L8.5 2.5l-.94 2.06-2.06.94zm10 10l.94 2.06.94-2.06 2.06-.94-2.06-.94-.94-2.06-.94 2.06-2.06.94z\"/><path d=\"M17.41 7.96l-1.37-1.37c-.4-.4-.92-.59-1.43-.59-.52 0-1.04.2-1.43.59L10.3 9.45l-7.72 7.72c-.78.78-.78 2.05 0 2.83L4 21.41c.39.39.9.59 1.41.59.51 0 1.02-.2 1.41-.59l7.78-7.78 2.81-2.81c.8-.78.8-2.07 0-2.86zM5.41 20L4 18.59l7.72-7.72 1.47 1.35L5.41 20z\"/>\n",
              "  </svg>\n",
              "      </button>\n",
              "      \n",
              "  <style>\n",
              "    .colab-df-container {\n",
              "      display:flex;\n",
              "      flex-wrap:wrap;\n",
              "      gap: 12px;\n",
              "    }\n",
              "\n",
              "    .colab-df-convert {\n",
              "      background-color: #E8F0FE;\n",
              "      border: none;\n",
              "      border-radius: 50%;\n",
              "      cursor: pointer;\n",
              "      display: none;\n",
              "      fill: #1967D2;\n",
              "      height: 32px;\n",
              "      padding: 0 0 0 0;\n",
              "      width: 32px;\n",
              "    }\n",
              "\n",
              "    .colab-df-convert:hover {\n",
              "      background-color: #E2EBFA;\n",
              "      box-shadow: 0px 1px 2px rgba(60, 64, 67, 0.3), 0px 1px 3px 1px rgba(60, 64, 67, 0.15);\n",
              "      fill: #174EA6;\n",
              "    }\n",
              "\n",
              "    [theme=dark] .colab-df-convert {\n",
              "      background-color: #3B4455;\n",
              "      fill: #D2E3FC;\n",
              "    }\n",
              "\n",
              "    [theme=dark] .colab-df-convert:hover {\n",
              "      background-color: #434B5C;\n",
              "      box-shadow: 0px 1px 3px 1px rgba(0, 0, 0, 0.15);\n",
              "      filter: drop-shadow(0px 1px 2px rgba(0, 0, 0, 0.3));\n",
              "      fill: #FFFFFF;\n",
              "    }\n",
              "  </style>\n",
              "\n",
              "      <script>\n",
              "        const buttonEl =\n",
              "          document.querySelector('#df-8c8496aa-86ff-420e-9463-21a4642cf7ae button.colab-df-convert');\n",
              "        buttonEl.style.display =\n",
              "          google.colab.kernel.accessAllowed ? 'block' : 'none';\n",
              "\n",
              "        async function convertToInteractive(key) {\n",
              "          const element = document.querySelector('#df-8c8496aa-86ff-420e-9463-21a4642cf7ae');\n",
              "          const dataTable =\n",
              "            await google.colab.kernel.invokeFunction('convertToInteractive',\n",
              "                                                     [key], {});\n",
              "          if (!dataTable) return;\n",
              "\n",
              "          const docLinkHtml = 'Like what you see? Visit the ' +\n",
              "            '<a target=\"_blank\" href=https://colab.research.google.com/notebooks/data_table.ipynb>data table notebook</a>'\n",
              "            + ' to learn more about interactive tables.';\n",
              "          element.innerHTML = '';\n",
              "          dataTable['output_type'] = 'display_data';\n",
              "          await google.colab.output.renderOutput(dataTable, element);\n",
              "          const docLink = document.createElement('div');\n",
              "          docLink.innerHTML = docLinkHtml;\n",
              "          element.appendChild(docLink);\n",
              "        }\n",
              "      </script>\n",
              "    </div>\n",
              "  </div>\n",
              "  "
            ]
          },
          "metadata": {},
          "execution_count": 44
        }
      ]
    },
    {
      "cell_type": "markdown",
      "source": [
        "Podemos criar também uma representação BoW somente com os 10 termos mais frequentes:"
      ],
      "metadata": {
        "id": "HQYuTskHO0ue"
      }
    },
    {
      "cell_type": "code",
      "source": [
        "bow_10 = CountVectorizer(max_features=10)\n",
        "bow_df_10 = pd.DataFrame(bow_10.fit_transform(corpus).todense())\n",
        "bow_df_10.columns = sorted(bow_10.vocabulary_)\n",
        "bow_df_10.head()"
      ],
      "metadata": {
        "colab": {
          "base_uri": "https://localhost:8080/",
          "height": 175
        },
        "id": "hcSKkcw9N0q1",
        "outputId": "914bf3bf-49e1-452c-e1c5-ac126702c60f"
      },
      "execution_count": 45,
      "outputs": [
        {
          "output_type": "execute_result",
          "data": {
            "text/plain": [
              "   artes  ciência  dados  de  lado  linguagem  mesmo  nas  natural  parte\n",
              "0      1        2      1   1     0          0      0    0        0      0\n",
              "1      1        1      0   2     2          0      0    0        0      0\n",
              "2      1        0      0   0     0          0      1    2        0      0\n",
              "3      0        1      1   2     0          1      0    0        1      1"
            ],
            "text/html": [
              "\n",
              "  <div id=\"df-22ef9564-f1d2-450d-a421-612a4ef09a38\">\n",
              "    <div class=\"colab-df-container\">\n",
              "      <div>\n",
              "<style scoped>\n",
              "    .dataframe tbody tr th:only-of-type {\n",
              "        vertical-align: middle;\n",
              "    }\n",
              "\n",
              "    .dataframe tbody tr th {\n",
              "        vertical-align: top;\n",
              "    }\n",
              "\n",
              "    .dataframe thead th {\n",
              "        text-align: right;\n",
              "    }\n",
              "</style>\n",
              "<table border=\"1\" class=\"dataframe\">\n",
              "  <thead>\n",
              "    <tr style=\"text-align: right;\">\n",
              "      <th></th>\n",
              "      <th>artes</th>\n",
              "      <th>ciência</th>\n",
              "      <th>dados</th>\n",
              "      <th>de</th>\n",
              "      <th>lado</th>\n",
              "      <th>linguagem</th>\n",
              "      <th>mesmo</th>\n",
              "      <th>nas</th>\n",
              "      <th>natural</th>\n",
              "      <th>parte</th>\n",
              "    </tr>\n",
              "  </thead>\n",
              "  <tbody>\n",
              "    <tr>\n",
              "      <th>0</th>\n",
              "      <td>1</td>\n",
              "      <td>2</td>\n",
              "      <td>1</td>\n",
              "      <td>1</td>\n",
              "      <td>0</td>\n",
              "      <td>0</td>\n",
              "      <td>0</td>\n",
              "      <td>0</td>\n",
              "      <td>0</td>\n",
              "      <td>0</td>\n",
              "    </tr>\n",
              "    <tr>\n",
              "      <th>1</th>\n",
              "      <td>1</td>\n",
              "      <td>1</td>\n",
              "      <td>0</td>\n",
              "      <td>2</td>\n",
              "      <td>2</td>\n",
              "      <td>0</td>\n",
              "      <td>0</td>\n",
              "      <td>0</td>\n",
              "      <td>0</td>\n",
              "      <td>0</td>\n",
              "    </tr>\n",
              "    <tr>\n",
              "      <th>2</th>\n",
              "      <td>1</td>\n",
              "      <td>0</td>\n",
              "      <td>0</td>\n",
              "      <td>0</td>\n",
              "      <td>0</td>\n",
              "      <td>0</td>\n",
              "      <td>1</td>\n",
              "      <td>2</td>\n",
              "      <td>0</td>\n",
              "      <td>0</td>\n",
              "    </tr>\n",
              "    <tr>\n",
              "      <th>3</th>\n",
              "      <td>0</td>\n",
              "      <td>1</td>\n",
              "      <td>1</td>\n",
              "      <td>2</td>\n",
              "      <td>0</td>\n",
              "      <td>1</td>\n",
              "      <td>0</td>\n",
              "      <td>0</td>\n",
              "      <td>1</td>\n",
              "      <td>1</td>\n",
              "    </tr>\n",
              "  </tbody>\n",
              "</table>\n",
              "</div>\n",
              "      <button class=\"colab-df-convert\" onclick=\"convertToInteractive('df-22ef9564-f1d2-450d-a421-612a4ef09a38')\"\n",
              "              title=\"Convert this dataframe to an interactive table.\"\n",
              "              style=\"display:none;\">\n",
              "        \n",
              "  <svg xmlns=\"http://www.w3.org/2000/svg\" height=\"24px\"viewBox=\"0 0 24 24\"\n",
              "       width=\"24px\">\n",
              "    <path d=\"M0 0h24v24H0V0z\" fill=\"none\"/>\n",
              "    <path d=\"M18.56 5.44l.94 2.06.94-2.06 2.06-.94-2.06-.94-.94-2.06-.94 2.06-2.06.94zm-11 1L8.5 8.5l.94-2.06 2.06-.94-2.06-.94L8.5 2.5l-.94 2.06-2.06.94zm10 10l.94 2.06.94-2.06 2.06-.94-2.06-.94-.94-2.06-.94 2.06-2.06.94z\"/><path d=\"M17.41 7.96l-1.37-1.37c-.4-.4-.92-.59-1.43-.59-.52 0-1.04.2-1.43.59L10.3 9.45l-7.72 7.72c-.78.78-.78 2.05 0 2.83L4 21.41c.39.39.9.59 1.41.59.51 0 1.02-.2 1.41-.59l7.78-7.78 2.81-2.81c.8-.78.8-2.07 0-2.86zM5.41 20L4 18.59l7.72-7.72 1.47 1.35L5.41 20z\"/>\n",
              "  </svg>\n",
              "      </button>\n",
              "      \n",
              "  <style>\n",
              "    .colab-df-container {\n",
              "      display:flex;\n",
              "      flex-wrap:wrap;\n",
              "      gap: 12px;\n",
              "    }\n",
              "\n",
              "    .colab-df-convert {\n",
              "      background-color: #E8F0FE;\n",
              "      border: none;\n",
              "      border-radius: 50%;\n",
              "      cursor: pointer;\n",
              "      display: none;\n",
              "      fill: #1967D2;\n",
              "      height: 32px;\n",
              "      padding: 0 0 0 0;\n",
              "      width: 32px;\n",
              "    }\n",
              "\n",
              "    .colab-df-convert:hover {\n",
              "      background-color: #E2EBFA;\n",
              "      box-shadow: 0px 1px 2px rgba(60, 64, 67, 0.3), 0px 1px 3px 1px rgba(60, 64, 67, 0.15);\n",
              "      fill: #174EA6;\n",
              "    }\n",
              "\n",
              "    [theme=dark] .colab-df-convert {\n",
              "      background-color: #3B4455;\n",
              "      fill: #D2E3FC;\n",
              "    }\n",
              "\n",
              "    [theme=dark] .colab-df-convert:hover {\n",
              "      background-color: #434B5C;\n",
              "      box-shadow: 0px 1px 3px 1px rgba(0, 0, 0, 0.15);\n",
              "      filter: drop-shadow(0px 1px 2px rgba(0, 0, 0, 0.3));\n",
              "      fill: #FFFFFF;\n",
              "    }\n",
              "  </style>\n",
              "\n",
              "      <script>\n",
              "        const buttonEl =\n",
              "          document.querySelector('#df-22ef9564-f1d2-450d-a421-612a4ef09a38 button.colab-df-convert');\n",
              "        buttonEl.style.display =\n",
              "          google.colab.kernel.accessAllowed ? 'block' : 'none';\n",
              "\n",
              "        async function convertToInteractive(key) {\n",
              "          const element = document.querySelector('#df-22ef9564-f1d2-450d-a421-612a4ef09a38');\n",
              "          const dataTable =\n",
              "            await google.colab.kernel.invokeFunction('convertToInteractive',\n",
              "                                                     [key], {});\n",
              "          if (!dataTable) return;\n",
              "\n",
              "          const docLinkHtml = 'Like what you see? Visit the ' +\n",
              "            '<a target=\"_blank\" href=https://colab.research.google.com/notebooks/data_table.ipynb>data table notebook</a>'\n",
              "            + ' to learn more about interactive tables.';\n",
              "          element.innerHTML = '';\n",
              "          dataTable['output_type'] = 'display_data';\n",
              "          await google.colab.output.renderOutput(dataTable, element);\n",
              "          const docLink = document.createElement('div');\n",
              "          docLink.innerHTML = docLinkHtml;\n",
              "          element.appendChild(docLink);\n",
              "        }\n",
              "      </script>\n",
              "    </div>\n",
              "  </div>\n",
              "  "
            ]
          },
          "metadata": {},
          "execution_count": 45
        }
      ]
    },
    {
      "cell_type": "markdown",
      "source": [
        "### TF-IDF\n",
        "\n",
        "Assim como na representação BoW, utilizaremos a scikit-learn para gerar o TF-IDF, através da classe TfidfVectorizer. Vamos empregar o mesmo corpus do exemplo anterior:"
      ],
      "metadata": {
        "id": "9MUZ3XGBWkpf"
      }
    },
    {
      "cell_type": "code",
      "source": [
        "import pandas as pd\n",
        "from sklearn.feature_extraction.text import TfidfVectorizer\n",
        "\n",
        "corpus = ['Ciência de Dados é uma interseção entre Artes e Ciência',\n",
        "          'Geralmente, alunos de Artes usam o lado direito do cérebro e estudantes de Ciência o lado esquerdo',\n",
        "          'Destacar-se tanto nas Artes quanto nas Ciências ao mesmo tempo é difícil',\n",
        "          'Processamento de Linguagem Natural faz parte da Ciência de Dados']"
      ],
      "metadata": {
        "id": "gK8nOguLPRaJ"
      },
      "execution_count": 46,
      "outputs": []
    },
    {
      "cell_type": "markdown",
      "source": [
        "Vamos gerar a representação TF-IDF:"
      ],
      "metadata": {
        "id": "tyvuPxv6XP9n"
      }
    },
    {
      "cell_type": "code",
      "source": [
        "tfidf = TfidfVectorizer()\n",
        "tfidf_df = pd.DataFrame(tfidf.fit_transform(corpus).todense())\n",
        "tfidf_df.columns = sorted(tfidf.vocabulary_)\n",
        "tfidf_df.head()"
      ],
      "metadata": {
        "colab": {
          "base_uri": "https://localhost:8080/",
          "height": 268
        },
        "id": "mad7CHWyXNPe",
        "outputId": "fd2d6330-e426-469b-de03-cc4e35a0b68a"
      },
      "execution_count": 48,
      "outputs": [
        {
          "output_type": "execute_result",
          "data": {
            "text/plain": [
              "     alunos        ao     artes   ciência  ciências   cérebro       da  \\\n",
              "0  0.000000  0.000000  0.259157  0.518314  0.000000  0.000000  0.00000   \n",
              "1  0.263117  0.000000  0.167944  0.167944  0.000000  0.263117  0.00000   \n",
              "2  0.000000  0.273104  0.174319  0.000000  0.273104  0.000000  0.00000   \n",
              "3  0.000000  0.000000  0.000000  0.216916  0.000000  0.000000  0.33984   \n",
              "\n",
              "      dados        de  destacar  ...       nas  natural    parte  \\\n",
              "0  0.320110  0.259157  0.000000  ...  0.000000  0.00000  0.00000   \n",
              "1  0.000000  0.335889  0.000000  ...  0.000000  0.00000  0.00000   \n",
              "2  0.000000  0.000000  0.273104  ...  0.546207  0.00000  0.00000   \n",
              "3  0.267934  0.433831  0.000000  ...  0.000000  0.33984  0.33984   \n",
              "\n",
              "   processamento    quanto        se     tanto     tempo       uma      usam  \n",
              "0        0.00000  0.000000  0.000000  0.000000  0.000000  0.406019  0.000000  \n",
              "1        0.00000  0.000000  0.000000  0.000000  0.000000  0.000000  0.263117  \n",
              "2        0.00000  0.273104  0.273104  0.273104  0.273104  0.000000  0.000000  \n",
              "3        0.33984  0.000000  0.000000  0.000000  0.000000  0.000000  0.000000  \n",
              "\n",
              "[4 rows x 32 columns]"
            ],
            "text/html": [
              "\n",
              "  <div id=\"df-2ebb0daf-dd71-4ecf-8907-e62bff13a027\">\n",
              "    <div class=\"colab-df-container\">\n",
              "      <div>\n",
              "<style scoped>\n",
              "    .dataframe tbody tr th:only-of-type {\n",
              "        vertical-align: middle;\n",
              "    }\n",
              "\n",
              "    .dataframe tbody tr th {\n",
              "        vertical-align: top;\n",
              "    }\n",
              "\n",
              "    .dataframe thead th {\n",
              "        text-align: right;\n",
              "    }\n",
              "</style>\n",
              "<table border=\"1\" class=\"dataframe\">\n",
              "  <thead>\n",
              "    <tr style=\"text-align: right;\">\n",
              "      <th></th>\n",
              "      <th>alunos</th>\n",
              "      <th>ao</th>\n",
              "      <th>artes</th>\n",
              "      <th>ciência</th>\n",
              "      <th>ciências</th>\n",
              "      <th>cérebro</th>\n",
              "      <th>da</th>\n",
              "      <th>dados</th>\n",
              "      <th>de</th>\n",
              "      <th>destacar</th>\n",
              "      <th>...</th>\n",
              "      <th>nas</th>\n",
              "      <th>natural</th>\n",
              "      <th>parte</th>\n",
              "      <th>processamento</th>\n",
              "      <th>quanto</th>\n",
              "      <th>se</th>\n",
              "      <th>tanto</th>\n",
              "      <th>tempo</th>\n",
              "      <th>uma</th>\n",
              "      <th>usam</th>\n",
              "    </tr>\n",
              "  </thead>\n",
              "  <tbody>\n",
              "    <tr>\n",
              "      <th>0</th>\n",
              "      <td>0.000000</td>\n",
              "      <td>0.000000</td>\n",
              "      <td>0.259157</td>\n",
              "      <td>0.518314</td>\n",
              "      <td>0.000000</td>\n",
              "      <td>0.000000</td>\n",
              "      <td>0.00000</td>\n",
              "      <td>0.320110</td>\n",
              "      <td>0.259157</td>\n",
              "      <td>0.000000</td>\n",
              "      <td>...</td>\n",
              "      <td>0.000000</td>\n",
              "      <td>0.00000</td>\n",
              "      <td>0.00000</td>\n",
              "      <td>0.00000</td>\n",
              "      <td>0.000000</td>\n",
              "      <td>0.000000</td>\n",
              "      <td>0.000000</td>\n",
              "      <td>0.000000</td>\n",
              "      <td>0.406019</td>\n",
              "      <td>0.000000</td>\n",
              "    </tr>\n",
              "    <tr>\n",
              "      <th>1</th>\n",
              "      <td>0.263117</td>\n",
              "      <td>0.000000</td>\n",
              "      <td>0.167944</td>\n",
              "      <td>0.167944</td>\n",
              "      <td>0.000000</td>\n",
              "      <td>0.263117</td>\n",
              "      <td>0.00000</td>\n",
              "      <td>0.000000</td>\n",
              "      <td>0.335889</td>\n",
              "      <td>0.000000</td>\n",
              "      <td>...</td>\n",
              "      <td>0.000000</td>\n",
              "      <td>0.00000</td>\n",
              "      <td>0.00000</td>\n",
              "      <td>0.00000</td>\n",
              "      <td>0.000000</td>\n",
              "      <td>0.000000</td>\n",
              "      <td>0.000000</td>\n",
              "      <td>0.000000</td>\n",
              "      <td>0.000000</td>\n",
              "      <td>0.263117</td>\n",
              "    </tr>\n",
              "    <tr>\n",
              "      <th>2</th>\n",
              "      <td>0.000000</td>\n",
              "      <td>0.273104</td>\n",
              "      <td>0.174319</td>\n",
              "      <td>0.000000</td>\n",
              "      <td>0.273104</td>\n",
              "      <td>0.000000</td>\n",
              "      <td>0.00000</td>\n",
              "      <td>0.000000</td>\n",
              "      <td>0.000000</td>\n",
              "      <td>0.273104</td>\n",
              "      <td>...</td>\n",
              "      <td>0.546207</td>\n",
              "      <td>0.00000</td>\n",
              "      <td>0.00000</td>\n",
              "      <td>0.00000</td>\n",
              "      <td>0.273104</td>\n",
              "      <td>0.273104</td>\n",
              "      <td>0.273104</td>\n",
              "      <td>0.273104</td>\n",
              "      <td>0.000000</td>\n",
              "      <td>0.000000</td>\n",
              "    </tr>\n",
              "    <tr>\n",
              "      <th>3</th>\n",
              "      <td>0.000000</td>\n",
              "      <td>0.000000</td>\n",
              "      <td>0.000000</td>\n",
              "      <td>0.216916</td>\n",
              "      <td>0.000000</td>\n",
              "      <td>0.000000</td>\n",
              "      <td>0.33984</td>\n",
              "      <td>0.267934</td>\n",
              "      <td>0.433831</td>\n",
              "      <td>0.000000</td>\n",
              "      <td>...</td>\n",
              "      <td>0.000000</td>\n",
              "      <td>0.33984</td>\n",
              "      <td>0.33984</td>\n",
              "      <td>0.33984</td>\n",
              "      <td>0.000000</td>\n",
              "      <td>0.000000</td>\n",
              "      <td>0.000000</td>\n",
              "      <td>0.000000</td>\n",
              "      <td>0.000000</td>\n",
              "      <td>0.000000</td>\n",
              "    </tr>\n",
              "  </tbody>\n",
              "</table>\n",
              "<p>4 rows × 32 columns</p>\n",
              "</div>\n",
              "      <button class=\"colab-df-convert\" onclick=\"convertToInteractive('df-2ebb0daf-dd71-4ecf-8907-e62bff13a027')\"\n",
              "              title=\"Convert this dataframe to an interactive table.\"\n",
              "              style=\"display:none;\">\n",
              "        \n",
              "  <svg xmlns=\"http://www.w3.org/2000/svg\" height=\"24px\"viewBox=\"0 0 24 24\"\n",
              "       width=\"24px\">\n",
              "    <path d=\"M0 0h24v24H0V0z\" fill=\"none\"/>\n",
              "    <path d=\"M18.56 5.44l.94 2.06.94-2.06 2.06-.94-2.06-.94-.94-2.06-.94 2.06-2.06.94zm-11 1L8.5 8.5l.94-2.06 2.06-.94-2.06-.94L8.5 2.5l-.94 2.06-2.06.94zm10 10l.94 2.06.94-2.06 2.06-.94-2.06-.94-.94-2.06-.94 2.06-2.06.94z\"/><path d=\"M17.41 7.96l-1.37-1.37c-.4-.4-.92-.59-1.43-.59-.52 0-1.04.2-1.43.59L10.3 9.45l-7.72 7.72c-.78.78-.78 2.05 0 2.83L4 21.41c.39.39.9.59 1.41.59.51 0 1.02-.2 1.41-.59l7.78-7.78 2.81-2.81c.8-.78.8-2.07 0-2.86zM5.41 20L4 18.59l7.72-7.72 1.47 1.35L5.41 20z\"/>\n",
              "  </svg>\n",
              "      </button>\n",
              "      \n",
              "  <style>\n",
              "    .colab-df-container {\n",
              "      display:flex;\n",
              "      flex-wrap:wrap;\n",
              "      gap: 12px;\n",
              "    }\n",
              "\n",
              "    .colab-df-convert {\n",
              "      background-color: #E8F0FE;\n",
              "      border: none;\n",
              "      border-radius: 50%;\n",
              "      cursor: pointer;\n",
              "      display: none;\n",
              "      fill: #1967D2;\n",
              "      height: 32px;\n",
              "      padding: 0 0 0 0;\n",
              "      width: 32px;\n",
              "    }\n",
              "\n",
              "    .colab-df-convert:hover {\n",
              "      background-color: #E2EBFA;\n",
              "      box-shadow: 0px 1px 2px rgba(60, 64, 67, 0.3), 0px 1px 3px 1px rgba(60, 64, 67, 0.15);\n",
              "      fill: #174EA6;\n",
              "    }\n",
              "\n",
              "    [theme=dark] .colab-df-convert {\n",
              "      background-color: #3B4455;\n",
              "      fill: #D2E3FC;\n",
              "    }\n",
              "\n",
              "    [theme=dark] .colab-df-convert:hover {\n",
              "      background-color: #434B5C;\n",
              "      box-shadow: 0px 1px 3px 1px rgba(0, 0, 0, 0.15);\n",
              "      filter: drop-shadow(0px 1px 2px rgba(0, 0, 0, 0.3));\n",
              "      fill: #FFFFFF;\n",
              "    }\n",
              "  </style>\n",
              "\n",
              "      <script>\n",
              "        const buttonEl =\n",
              "          document.querySelector('#df-2ebb0daf-dd71-4ecf-8907-e62bff13a027 button.colab-df-convert');\n",
              "        buttonEl.style.display =\n",
              "          google.colab.kernel.accessAllowed ? 'block' : 'none';\n",
              "\n",
              "        async function convertToInteractive(key) {\n",
              "          const element = document.querySelector('#df-2ebb0daf-dd71-4ecf-8907-e62bff13a027');\n",
              "          const dataTable =\n",
              "            await google.colab.kernel.invokeFunction('convertToInteractive',\n",
              "                                                     [key], {});\n",
              "          if (!dataTable) return;\n",
              "\n",
              "          const docLinkHtml = 'Like what you see? Visit the ' +\n",
              "            '<a target=\"_blank\" href=https://colab.research.google.com/notebooks/data_table.ipynb>data table notebook</a>'\n",
              "            + ' to learn more about interactive tables.';\n",
              "          element.innerHTML = '';\n",
              "          dataTable['output_type'] = 'display_data';\n",
              "          await google.colab.output.renderOutput(dataTable, element);\n",
              "          const docLink = document.createElement('div');\n",
              "          docLink.innerHTML = docLinkHtml;\n",
              "          element.appendChild(docLink);\n",
              "        }\n",
              "      </script>\n",
              "    </div>\n",
              "  </div>\n",
              "  "
            ]
          },
          "metadata": {},
          "execution_count": 48
        }
      ]
    },
    {
      "cell_type": "markdown",
      "source": [
        "### Classificando: Spam\n",
        "\n",
        "Vamos classificar alguns textos como spam e não spam. Para isso, iremos empregar as técnicas que vimos anteriormente e um classificador. Ainda não vimos classificadores, mas não se preocupe. O intuito aqui é apenas ver uma das aplicações do Processamento de Linguagem Natural.\n",
        "\n",
        "Primeiro, vamos importar as bibliotecas necessárias:"
      ],
      "metadata": {
        "id": "rxPkaRLCYe1P"
      }
    },
    {
      "cell_type": "code",
      "source": [
        "import pandas as pd\n",
        "import numpy as np"
      ],
      "metadata": {
        "id": "1bxzgftaXbo-"
      },
      "execution_count": 49,
      "outputs": []
    },
    {
      "cell_type": "markdown",
      "source": [
        "Agora, vamos carregar o conjunto de dados que contém os textos e a indicação se se trata de um spam ou não:"
      ],
      "metadata": {
        "id": "eF0DQ1LpZDqv"
      }
    },
    {
      "cell_type": "code",
      "source": [
        "df = pd.read_csv('spam.csv',encoding='latin-1')\n",
        "# checando as dimensões do conjunto de dados\n",
        "df.shape"
      ],
      "metadata": {
        "colab": {
          "base_uri": "https://localhost:8080/"
        },
        "id": "A7a6YpulZDGW",
        "outputId": "43b846d1-74d8-4fcc-c32d-a3348dd2dcf1"
      },
      "execution_count": 51,
      "outputs": [
        {
          "output_type": "execute_result",
          "data": {
            "text/plain": [
              "(5572, 5)"
            ]
          },
          "metadata": {},
          "execution_count": 51
        }
      ]
    },
    {
      "cell_type": "markdown",
      "source": [
        "Vamos visualizar um exemplo do conjunto de dados:"
      ],
      "metadata": {
        "id": "3lWG5UIUZc53"
      }
    },
    {
      "cell_type": "code",
      "source": [
        "df.head()"
      ],
      "metadata": {
        "colab": {
          "base_uri": "https://localhost:8080/",
          "height": 206
        },
        "id": "YcbcFdYQZSjG",
        "outputId": "b88f33d7-5b76-4f52-dd0c-09e34f961588"
      },
      "execution_count": 52,
      "outputs": [
        {
          "output_type": "execute_result",
          "data": {
            "text/plain": [
              "     v1                                                 v2 Unnamed: 2  \\\n",
              "0   ham  Go until jurong point, crazy.. Available only ...        NaN   \n",
              "1   ham                      Ok lar... Joking wif u oni...        NaN   \n",
              "2  spam  Free entry in 2 a wkly comp to win FA Cup fina...        NaN   \n",
              "3   ham  U dun say so early hor... U c already then say...        NaN   \n",
              "4   ham  Nah I don't think he goes to usf, he lives aro...        NaN   \n",
              "\n",
              "  Unnamed: 3 Unnamed: 4  \n",
              "0        NaN        NaN  \n",
              "1        NaN        NaN  \n",
              "2        NaN        NaN  \n",
              "3        NaN        NaN  \n",
              "4        NaN        NaN  "
            ],
            "text/html": [
              "\n",
              "  <div id=\"df-6ca82a3b-5205-45ea-b0b2-74aa6ddbde92\">\n",
              "    <div class=\"colab-df-container\">\n",
              "      <div>\n",
              "<style scoped>\n",
              "    .dataframe tbody tr th:only-of-type {\n",
              "        vertical-align: middle;\n",
              "    }\n",
              "\n",
              "    .dataframe tbody tr th {\n",
              "        vertical-align: top;\n",
              "    }\n",
              "\n",
              "    .dataframe thead th {\n",
              "        text-align: right;\n",
              "    }\n",
              "</style>\n",
              "<table border=\"1\" class=\"dataframe\">\n",
              "  <thead>\n",
              "    <tr style=\"text-align: right;\">\n",
              "      <th></th>\n",
              "      <th>v1</th>\n",
              "      <th>v2</th>\n",
              "      <th>Unnamed: 2</th>\n",
              "      <th>Unnamed: 3</th>\n",
              "      <th>Unnamed: 4</th>\n",
              "    </tr>\n",
              "  </thead>\n",
              "  <tbody>\n",
              "    <tr>\n",
              "      <th>0</th>\n",
              "      <td>ham</td>\n",
              "      <td>Go until jurong point, crazy.. Available only ...</td>\n",
              "      <td>NaN</td>\n",
              "      <td>NaN</td>\n",
              "      <td>NaN</td>\n",
              "    </tr>\n",
              "    <tr>\n",
              "      <th>1</th>\n",
              "      <td>ham</td>\n",
              "      <td>Ok lar... Joking wif u oni...</td>\n",
              "      <td>NaN</td>\n",
              "      <td>NaN</td>\n",
              "      <td>NaN</td>\n",
              "    </tr>\n",
              "    <tr>\n",
              "      <th>2</th>\n",
              "      <td>spam</td>\n",
              "      <td>Free entry in 2 a wkly comp to win FA Cup fina...</td>\n",
              "      <td>NaN</td>\n",
              "      <td>NaN</td>\n",
              "      <td>NaN</td>\n",
              "    </tr>\n",
              "    <tr>\n",
              "      <th>3</th>\n",
              "      <td>ham</td>\n",
              "      <td>U dun say so early hor... U c already then say...</td>\n",
              "      <td>NaN</td>\n",
              "      <td>NaN</td>\n",
              "      <td>NaN</td>\n",
              "    </tr>\n",
              "    <tr>\n",
              "      <th>4</th>\n",
              "      <td>ham</td>\n",
              "      <td>Nah I don't think he goes to usf, he lives aro...</td>\n",
              "      <td>NaN</td>\n",
              "      <td>NaN</td>\n",
              "      <td>NaN</td>\n",
              "    </tr>\n",
              "  </tbody>\n",
              "</table>\n",
              "</div>\n",
              "      <button class=\"colab-df-convert\" onclick=\"convertToInteractive('df-6ca82a3b-5205-45ea-b0b2-74aa6ddbde92')\"\n",
              "              title=\"Convert this dataframe to an interactive table.\"\n",
              "              style=\"display:none;\">\n",
              "        \n",
              "  <svg xmlns=\"http://www.w3.org/2000/svg\" height=\"24px\"viewBox=\"0 0 24 24\"\n",
              "       width=\"24px\">\n",
              "    <path d=\"M0 0h24v24H0V0z\" fill=\"none\"/>\n",
              "    <path d=\"M18.56 5.44l.94 2.06.94-2.06 2.06-.94-2.06-.94-.94-2.06-.94 2.06-2.06.94zm-11 1L8.5 8.5l.94-2.06 2.06-.94-2.06-.94L8.5 2.5l-.94 2.06-2.06.94zm10 10l.94 2.06.94-2.06 2.06-.94-2.06-.94-.94-2.06-.94 2.06-2.06.94z\"/><path d=\"M17.41 7.96l-1.37-1.37c-.4-.4-.92-.59-1.43-.59-.52 0-1.04.2-1.43.59L10.3 9.45l-7.72 7.72c-.78.78-.78 2.05 0 2.83L4 21.41c.39.39.9.59 1.41.59.51 0 1.02-.2 1.41-.59l7.78-7.78 2.81-2.81c.8-.78.8-2.07 0-2.86zM5.41 20L4 18.59l7.72-7.72 1.47 1.35L5.41 20z\"/>\n",
              "  </svg>\n",
              "      </button>\n",
              "      \n",
              "  <style>\n",
              "    .colab-df-container {\n",
              "      display:flex;\n",
              "      flex-wrap:wrap;\n",
              "      gap: 12px;\n",
              "    }\n",
              "\n",
              "    .colab-df-convert {\n",
              "      background-color: #E8F0FE;\n",
              "      border: none;\n",
              "      border-radius: 50%;\n",
              "      cursor: pointer;\n",
              "      display: none;\n",
              "      fill: #1967D2;\n",
              "      height: 32px;\n",
              "      padding: 0 0 0 0;\n",
              "      width: 32px;\n",
              "    }\n",
              "\n",
              "    .colab-df-convert:hover {\n",
              "      background-color: #E2EBFA;\n",
              "      box-shadow: 0px 1px 2px rgba(60, 64, 67, 0.3), 0px 1px 3px 1px rgba(60, 64, 67, 0.15);\n",
              "      fill: #174EA6;\n",
              "    }\n",
              "\n",
              "    [theme=dark] .colab-df-convert {\n",
              "      background-color: #3B4455;\n",
              "      fill: #D2E3FC;\n",
              "    }\n",
              "\n",
              "    [theme=dark] .colab-df-convert:hover {\n",
              "      background-color: #434B5C;\n",
              "      box-shadow: 0px 1px 3px 1px rgba(0, 0, 0, 0.15);\n",
              "      filter: drop-shadow(0px 1px 2px rgba(0, 0, 0, 0.3));\n",
              "      fill: #FFFFFF;\n",
              "    }\n",
              "  </style>\n",
              "\n",
              "      <script>\n",
              "        const buttonEl =\n",
              "          document.querySelector('#df-6ca82a3b-5205-45ea-b0b2-74aa6ddbde92 button.colab-df-convert');\n",
              "        buttonEl.style.display =\n",
              "          google.colab.kernel.accessAllowed ? 'block' : 'none';\n",
              "\n",
              "        async function convertToInteractive(key) {\n",
              "          const element = document.querySelector('#df-6ca82a3b-5205-45ea-b0b2-74aa6ddbde92');\n",
              "          const dataTable =\n",
              "            await google.colab.kernel.invokeFunction('convertToInteractive',\n",
              "                                                     [key], {});\n",
              "          if (!dataTable) return;\n",
              "\n",
              "          const docLinkHtml = 'Like what you see? Visit the ' +\n",
              "            '<a target=\"_blank\" href=https://colab.research.google.com/notebooks/data_table.ipynb>data table notebook</a>'\n",
              "            + ' to learn more about interactive tables.';\n",
              "          element.innerHTML = '';\n",
              "          dataTable['output_type'] = 'display_data';\n",
              "          await google.colab.output.renderOutput(dataTable, element);\n",
              "          const docLink = document.createElement('div');\n",
              "          docLink.innerHTML = docLinkHtml;\n",
              "          element.appendChild(docLink);\n",
              "        }\n",
              "      </script>\n",
              "    </div>\n",
              "  </div>\n",
              "  "
            ]
          },
          "metadata": {},
          "execution_count": 52
        }
      ]
    },
    {
      "cell_type": "markdown",
      "source": [
        "Vamos renomear as colunas, chamando v1 de rótulo e v2 de texto:"
      ],
      "metadata": {
        "id": "jDQVH9P8Zl-7"
      }
    },
    {
      "cell_type": "code",
      "source": [
        "df = df.rename(columns={'v1': 'rotulo', 'v2': 'texto'})\n",
        "df.head()"
      ],
      "metadata": {
        "colab": {
          "base_uri": "https://localhost:8080/",
          "height": 206
        },
        "id": "E-61KxOHZhNi",
        "outputId": "a09c157d-0c77-402e-bac1-4d101d844da7"
      },
      "execution_count": 53,
      "outputs": [
        {
          "output_type": "execute_result",
          "data": {
            "text/plain": [
              "  rotulo                                              texto Unnamed: 2  \\\n",
              "0    ham  Go until jurong point, crazy.. Available only ...        NaN   \n",
              "1    ham                      Ok lar... Joking wif u oni...        NaN   \n",
              "2   spam  Free entry in 2 a wkly comp to win FA Cup fina...        NaN   \n",
              "3    ham  U dun say so early hor... U c already then say...        NaN   \n",
              "4    ham  Nah I don't think he goes to usf, he lives aro...        NaN   \n",
              "\n",
              "  Unnamed: 3 Unnamed: 4  \n",
              "0        NaN        NaN  \n",
              "1        NaN        NaN  \n",
              "2        NaN        NaN  \n",
              "3        NaN        NaN  \n",
              "4        NaN        NaN  "
            ],
            "text/html": [
              "\n",
              "  <div id=\"df-4f0b44c2-3ae9-4eae-85cf-206ca38130bb\">\n",
              "    <div class=\"colab-df-container\">\n",
              "      <div>\n",
              "<style scoped>\n",
              "    .dataframe tbody tr th:only-of-type {\n",
              "        vertical-align: middle;\n",
              "    }\n",
              "\n",
              "    .dataframe tbody tr th {\n",
              "        vertical-align: top;\n",
              "    }\n",
              "\n",
              "    .dataframe thead th {\n",
              "        text-align: right;\n",
              "    }\n",
              "</style>\n",
              "<table border=\"1\" class=\"dataframe\">\n",
              "  <thead>\n",
              "    <tr style=\"text-align: right;\">\n",
              "      <th></th>\n",
              "      <th>rotulo</th>\n",
              "      <th>texto</th>\n",
              "      <th>Unnamed: 2</th>\n",
              "      <th>Unnamed: 3</th>\n",
              "      <th>Unnamed: 4</th>\n",
              "    </tr>\n",
              "  </thead>\n",
              "  <tbody>\n",
              "    <tr>\n",
              "      <th>0</th>\n",
              "      <td>ham</td>\n",
              "      <td>Go until jurong point, crazy.. Available only ...</td>\n",
              "      <td>NaN</td>\n",
              "      <td>NaN</td>\n",
              "      <td>NaN</td>\n",
              "    </tr>\n",
              "    <tr>\n",
              "      <th>1</th>\n",
              "      <td>ham</td>\n",
              "      <td>Ok lar... Joking wif u oni...</td>\n",
              "      <td>NaN</td>\n",
              "      <td>NaN</td>\n",
              "      <td>NaN</td>\n",
              "    </tr>\n",
              "    <tr>\n",
              "      <th>2</th>\n",
              "      <td>spam</td>\n",
              "      <td>Free entry in 2 a wkly comp to win FA Cup fina...</td>\n",
              "      <td>NaN</td>\n",
              "      <td>NaN</td>\n",
              "      <td>NaN</td>\n",
              "    </tr>\n",
              "    <tr>\n",
              "      <th>3</th>\n",
              "      <td>ham</td>\n",
              "      <td>U dun say so early hor... U c already then say...</td>\n",
              "      <td>NaN</td>\n",
              "      <td>NaN</td>\n",
              "      <td>NaN</td>\n",
              "    </tr>\n",
              "    <tr>\n",
              "      <th>4</th>\n",
              "      <td>ham</td>\n",
              "      <td>Nah I don't think he goes to usf, he lives aro...</td>\n",
              "      <td>NaN</td>\n",
              "      <td>NaN</td>\n",
              "      <td>NaN</td>\n",
              "    </tr>\n",
              "  </tbody>\n",
              "</table>\n",
              "</div>\n",
              "      <button class=\"colab-df-convert\" onclick=\"convertToInteractive('df-4f0b44c2-3ae9-4eae-85cf-206ca38130bb')\"\n",
              "              title=\"Convert this dataframe to an interactive table.\"\n",
              "              style=\"display:none;\">\n",
              "        \n",
              "  <svg xmlns=\"http://www.w3.org/2000/svg\" height=\"24px\"viewBox=\"0 0 24 24\"\n",
              "       width=\"24px\">\n",
              "    <path d=\"M0 0h24v24H0V0z\" fill=\"none\"/>\n",
              "    <path d=\"M18.56 5.44l.94 2.06.94-2.06 2.06-.94-2.06-.94-.94-2.06-.94 2.06-2.06.94zm-11 1L8.5 8.5l.94-2.06 2.06-.94-2.06-.94L8.5 2.5l-.94 2.06-2.06.94zm10 10l.94 2.06.94-2.06 2.06-.94-2.06-.94-.94-2.06-.94 2.06-2.06.94z\"/><path d=\"M17.41 7.96l-1.37-1.37c-.4-.4-.92-.59-1.43-.59-.52 0-1.04.2-1.43.59L10.3 9.45l-7.72 7.72c-.78.78-.78 2.05 0 2.83L4 21.41c.39.39.9.59 1.41.59.51 0 1.02-.2 1.41-.59l7.78-7.78 2.81-2.81c.8-.78.8-2.07 0-2.86zM5.41 20L4 18.59l7.72-7.72 1.47 1.35L5.41 20z\"/>\n",
              "  </svg>\n",
              "      </button>\n",
              "      \n",
              "  <style>\n",
              "    .colab-df-container {\n",
              "      display:flex;\n",
              "      flex-wrap:wrap;\n",
              "      gap: 12px;\n",
              "    }\n",
              "\n",
              "    .colab-df-convert {\n",
              "      background-color: #E8F0FE;\n",
              "      border: none;\n",
              "      border-radius: 50%;\n",
              "      cursor: pointer;\n",
              "      display: none;\n",
              "      fill: #1967D2;\n",
              "      height: 32px;\n",
              "      padding: 0 0 0 0;\n",
              "      width: 32px;\n",
              "    }\n",
              "\n",
              "    .colab-df-convert:hover {\n",
              "      background-color: #E2EBFA;\n",
              "      box-shadow: 0px 1px 2px rgba(60, 64, 67, 0.3), 0px 1px 3px 1px rgba(60, 64, 67, 0.15);\n",
              "      fill: #174EA6;\n",
              "    }\n",
              "\n",
              "    [theme=dark] .colab-df-convert {\n",
              "      background-color: #3B4455;\n",
              "      fill: #D2E3FC;\n",
              "    }\n",
              "\n",
              "    [theme=dark] .colab-df-convert:hover {\n",
              "      background-color: #434B5C;\n",
              "      box-shadow: 0px 1px 3px 1px rgba(0, 0, 0, 0.15);\n",
              "      filter: drop-shadow(0px 1px 2px rgba(0, 0, 0, 0.3));\n",
              "      fill: #FFFFFF;\n",
              "    }\n",
              "  </style>\n",
              "\n",
              "      <script>\n",
              "        const buttonEl =\n",
              "          document.querySelector('#df-4f0b44c2-3ae9-4eae-85cf-206ca38130bb button.colab-df-convert');\n",
              "        buttonEl.style.display =\n",
              "          google.colab.kernel.accessAllowed ? 'block' : 'none';\n",
              "\n",
              "        async function convertToInteractive(key) {\n",
              "          const element = document.querySelector('#df-4f0b44c2-3ae9-4eae-85cf-206ca38130bb');\n",
              "          const dataTable =\n",
              "            await google.colab.kernel.invokeFunction('convertToInteractive',\n",
              "                                                     [key], {});\n",
              "          if (!dataTable) return;\n",
              "\n",
              "          const docLinkHtml = 'Like what you see? Visit the ' +\n",
              "            '<a target=\"_blank\" href=https://colab.research.google.com/notebooks/data_table.ipynb>data table notebook</a>'\n",
              "            + ' to learn more about interactive tables.';\n",
              "          element.innerHTML = '';\n",
              "          dataTable['output_type'] = 'display_data';\n",
              "          await google.colab.output.renderOutput(dataTable, element);\n",
              "          const docLink = document.createElement('div');\n",
              "          docLink.innerHTML = docLinkHtml;\n",
              "          element.appendChild(docLink);\n",
              "        }\n",
              "      </script>\n",
              "    </div>\n",
              "  </div>\n",
              "  "
            ]
          },
          "metadata": {},
          "execution_count": 53
        }
      ]
    },
    {
      "cell_type": "markdown",
      "source": [
        "Vamos visualizar a distribuição das classes:"
      ],
      "metadata": {
        "id": "P6GbJwmjbB5n"
      }
    },
    {
      "cell_type": "code",
      "source": [
        "df.rotulo.value_counts()"
      ],
      "metadata": {
        "colab": {
          "base_uri": "https://localhost:8080/"
        },
        "id": "-pUi-a5IZtff",
        "outputId": "acc610cc-d782-4768-c57d-3a56f4a6a179"
      },
      "execution_count": 57,
      "outputs": [
        {
          "output_type": "execute_result",
          "data": {
            "text/plain": [
              "ham     4825\n",
              "spam     747\n",
              "Name: rotulo, dtype: int64"
            ]
          },
          "metadata": {},
          "execution_count": 57
        }
      ]
    },
    {
      "cell_type": "markdown",
      "source": [
        "Para representar as classes como valores numéricos de forma que o modelo de classificação consiga entender, vamos codificar cada valor (ham e spam) como 0 e 1, respectivamente, e gerar uma nova coluna chamada rotulo_num:"
      ],
      "metadata": {
        "id": "JMjVG_BzbnuP"
      }
    },
    {
      "cell_type": "code",
      "source": [
        "df['rotulo_num']=df.rotulo.map({\"ham\":0,\"spam\":1})\n",
        "# checando a conversão\n",
        "df.head()"
      ],
      "metadata": {
        "colab": {
          "base_uri": "https://localhost:8080/",
          "height": 206
        },
        "id": "p2q_OWNlbUpP",
        "outputId": "3f86135e-87f7-4096-87b7-07806b978ffa"
      },
      "execution_count": 59,
      "outputs": [
        {
          "output_type": "execute_result",
          "data": {
            "text/plain": [
              "  rotulo                                              texto Unnamed: 2  \\\n",
              "0    ham  Go until jurong point, crazy.. Available only ...        NaN   \n",
              "1    ham                      Ok lar... Joking wif u oni...        NaN   \n",
              "2   spam  Free entry in 2 a wkly comp to win FA Cup fina...        NaN   \n",
              "3    ham  U dun say so early hor... U c already then say...        NaN   \n",
              "4    ham  Nah I don't think he goes to usf, he lives aro...        NaN   \n",
              "\n",
              "  Unnamed: 3 Unnamed: 4  rotulo_num  \n",
              "0        NaN        NaN           0  \n",
              "1        NaN        NaN           0  \n",
              "2        NaN        NaN           1  \n",
              "3        NaN        NaN           0  \n",
              "4        NaN        NaN           0  "
            ],
            "text/html": [
              "\n",
              "  <div id=\"df-00f854fa-6ce5-423c-a391-c0acdb53c86d\">\n",
              "    <div class=\"colab-df-container\">\n",
              "      <div>\n",
              "<style scoped>\n",
              "    .dataframe tbody tr th:only-of-type {\n",
              "        vertical-align: middle;\n",
              "    }\n",
              "\n",
              "    .dataframe tbody tr th {\n",
              "        vertical-align: top;\n",
              "    }\n",
              "\n",
              "    .dataframe thead th {\n",
              "        text-align: right;\n",
              "    }\n",
              "</style>\n",
              "<table border=\"1\" class=\"dataframe\">\n",
              "  <thead>\n",
              "    <tr style=\"text-align: right;\">\n",
              "      <th></th>\n",
              "      <th>rotulo</th>\n",
              "      <th>texto</th>\n",
              "      <th>Unnamed: 2</th>\n",
              "      <th>Unnamed: 3</th>\n",
              "      <th>Unnamed: 4</th>\n",
              "      <th>rotulo_num</th>\n",
              "    </tr>\n",
              "  </thead>\n",
              "  <tbody>\n",
              "    <tr>\n",
              "      <th>0</th>\n",
              "      <td>ham</td>\n",
              "      <td>Go until jurong point, crazy.. Available only ...</td>\n",
              "      <td>NaN</td>\n",
              "      <td>NaN</td>\n",
              "      <td>NaN</td>\n",
              "      <td>0</td>\n",
              "    </tr>\n",
              "    <tr>\n",
              "      <th>1</th>\n",
              "      <td>ham</td>\n",
              "      <td>Ok lar... Joking wif u oni...</td>\n",
              "      <td>NaN</td>\n",
              "      <td>NaN</td>\n",
              "      <td>NaN</td>\n",
              "      <td>0</td>\n",
              "    </tr>\n",
              "    <tr>\n",
              "      <th>2</th>\n",
              "      <td>spam</td>\n",
              "      <td>Free entry in 2 a wkly comp to win FA Cup fina...</td>\n",
              "      <td>NaN</td>\n",
              "      <td>NaN</td>\n",
              "      <td>NaN</td>\n",
              "      <td>1</td>\n",
              "    </tr>\n",
              "    <tr>\n",
              "      <th>3</th>\n",
              "      <td>ham</td>\n",
              "      <td>U dun say so early hor... U c already then say...</td>\n",
              "      <td>NaN</td>\n",
              "      <td>NaN</td>\n",
              "      <td>NaN</td>\n",
              "      <td>0</td>\n",
              "    </tr>\n",
              "    <tr>\n",
              "      <th>4</th>\n",
              "      <td>ham</td>\n",
              "      <td>Nah I don't think he goes to usf, he lives aro...</td>\n",
              "      <td>NaN</td>\n",
              "      <td>NaN</td>\n",
              "      <td>NaN</td>\n",
              "      <td>0</td>\n",
              "    </tr>\n",
              "  </tbody>\n",
              "</table>\n",
              "</div>\n",
              "      <button class=\"colab-df-convert\" onclick=\"convertToInteractive('df-00f854fa-6ce5-423c-a391-c0acdb53c86d')\"\n",
              "              title=\"Convert this dataframe to an interactive table.\"\n",
              "              style=\"display:none;\">\n",
              "        \n",
              "  <svg xmlns=\"http://www.w3.org/2000/svg\" height=\"24px\"viewBox=\"0 0 24 24\"\n",
              "       width=\"24px\">\n",
              "    <path d=\"M0 0h24v24H0V0z\" fill=\"none\"/>\n",
              "    <path d=\"M18.56 5.44l.94 2.06.94-2.06 2.06-.94-2.06-.94-.94-2.06-.94 2.06-2.06.94zm-11 1L8.5 8.5l.94-2.06 2.06-.94-2.06-.94L8.5 2.5l-.94 2.06-2.06.94zm10 10l.94 2.06.94-2.06 2.06-.94-2.06-.94-.94-2.06-.94 2.06-2.06.94z\"/><path d=\"M17.41 7.96l-1.37-1.37c-.4-.4-.92-.59-1.43-.59-.52 0-1.04.2-1.43.59L10.3 9.45l-7.72 7.72c-.78.78-.78 2.05 0 2.83L4 21.41c.39.39.9.59 1.41.59.51 0 1.02-.2 1.41-.59l7.78-7.78 2.81-2.81c.8-.78.8-2.07 0-2.86zM5.41 20L4 18.59l7.72-7.72 1.47 1.35L5.41 20z\"/>\n",
              "  </svg>\n",
              "      </button>\n",
              "      \n",
              "  <style>\n",
              "    .colab-df-container {\n",
              "      display:flex;\n",
              "      flex-wrap:wrap;\n",
              "      gap: 12px;\n",
              "    }\n",
              "\n",
              "    .colab-df-convert {\n",
              "      background-color: #E8F0FE;\n",
              "      border: none;\n",
              "      border-radius: 50%;\n",
              "      cursor: pointer;\n",
              "      display: none;\n",
              "      fill: #1967D2;\n",
              "      height: 32px;\n",
              "      padding: 0 0 0 0;\n",
              "      width: 32px;\n",
              "    }\n",
              "\n",
              "    .colab-df-convert:hover {\n",
              "      background-color: #E2EBFA;\n",
              "      box-shadow: 0px 1px 2px rgba(60, 64, 67, 0.3), 0px 1px 3px 1px rgba(60, 64, 67, 0.15);\n",
              "      fill: #174EA6;\n",
              "    }\n",
              "\n",
              "    [theme=dark] .colab-df-convert {\n",
              "      background-color: #3B4455;\n",
              "      fill: #D2E3FC;\n",
              "    }\n",
              "\n",
              "    [theme=dark] .colab-df-convert:hover {\n",
              "      background-color: #434B5C;\n",
              "      box-shadow: 0px 1px 3px 1px rgba(0, 0, 0, 0.15);\n",
              "      filter: drop-shadow(0px 1px 2px rgba(0, 0, 0, 0.3));\n",
              "      fill: #FFFFFF;\n",
              "    }\n",
              "  </style>\n",
              "\n",
              "      <script>\n",
              "        const buttonEl =\n",
              "          document.querySelector('#df-00f854fa-6ce5-423c-a391-c0acdb53c86d button.colab-df-convert');\n",
              "        buttonEl.style.display =\n",
              "          google.colab.kernel.accessAllowed ? 'block' : 'none';\n",
              "\n",
              "        async function convertToInteractive(key) {\n",
              "          const element = document.querySelector('#df-00f854fa-6ce5-423c-a391-c0acdb53c86d');\n",
              "          const dataTable =\n",
              "            await google.colab.kernel.invokeFunction('convertToInteractive',\n",
              "                                                     [key], {});\n",
              "          if (!dataTable) return;\n",
              "\n",
              "          const docLinkHtml = 'Like what you see? Visit the ' +\n",
              "            '<a target=\"_blank\" href=https://colab.research.google.com/notebooks/data_table.ipynb>data table notebook</a>'\n",
              "            + ' to learn more about interactive tables.';\n",
              "          element.innerHTML = '';\n",
              "          dataTable['output_type'] = 'display_data';\n",
              "          await google.colab.output.renderOutput(dataTable, element);\n",
              "          const docLink = document.createElement('div');\n",
              "          docLink.innerHTML = docLinkHtml;\n",
              "          element.appendChild(docLink);\n",
              "        }\n",
              "      </script>\n",
              "    </div>\n",
              "  </div>\n",
              "  "
            ]
          },
          "metadata": {},
          "execution_count": 59
        }
      ]
    },
    {
      "cell_type": "markdown",
      "source": [
        "Vamos criar agora as variáveis x e y para armazenar os textos e os rótulos. X e y são nomes de variáveis muito empregadas no desenvolvimento de modelos de aprendizagem com python, sendo que X armazena os dados e y os rótulos:"
      ],
      "metadata": {
        "id": "RYE2LSpxfzdc"
      }
    },
    {
      "cell_type": "code",
      "source": [
        "x = df.texto\n",
        "y = df.rotulo_num"
      ],
      "metadata": {
        "id": "Kk4r7rjNftfy"
      },
      "execution_count": 61,
      "outputs": []
    },
    {
      "cell_type": "markdown",
      "source": [
        "É importante separar os dados em um conjunto de treinamento e um de testes:"
      ],
      "metadata": {
        "id": "i6DsJPOTghJB"
      }
    },
    {
      "cell_type": "code",
      "source": [
        "from sklearn.model_selection import train_test_split\n",
        "\n",
        "x_train,x_test,y_train,y_test = train_test_split(x,y,random_state=42)\n",
        "\n",
        "print(\"Tamanho do conjunto de treino:\", x_train.shape)\n",
        "print(\"Tamanho do conjunto de teste:\", x_test.shape)"
      ],
      "metadata": {
        "colab": {
          "base_uri": "https://localhost:8080/"
        },
        "id": "GuS9h1mrgHXP",
        "outputId": "8a868cd1-cad5-4d3c-b147-f0d781ce0be6"
      },
      "execution_count": 63,
      "outputs": [
        {
          "output_type": "stream",
          "name": "stdout",
          "text": [
            "Tamanho do conjunto de treino: (4179,)\n",
            "Tamanho do conjunto de teste: (1393,)\n"
          ]
        }
      ]
    },
    {
      "cell_type": "markdown",
      "source": [
        "Agora, iremos aplicar a vetorização dos dados com a técnica BoW:"
      ],
      "metadata": {
        "id": "B4XIaN9kg44N"
      }
    },
    {
      "cell_type": "code",
      "source": [
        "from sklearn.feature_extraction.text import CountVectorizer\n",
        "\n",
        "vect = CountVectorizer()\n",
        "\n",
        "x_train_dtm = vect.fit_transform(x_train)\n",
        "x_test_dtm = vect.transform(x_test)"
      ],
      "metadata": {
        "id": "hOR82DJRgwdY"
      },
      "execution_count": 65,
      "outputs": []
    },
    {
      "cell_type": "markdown",
      "source": [
        "Classificaremos os dados com o algoritmo Naïve Bayes. Esse algoritmo é um dos mais empregados em tarefas de classificação para aplicações de Processamento de Linguagem Natural:"
      ],
      "metadata": {
        "id": "zqXAARr0hUwY"
      }
    },
    {
      "cell_type": "code",
      "source": [
        "from sklearn.naive_bayes import MultinomialNB\n",
        "nb = MultinomialNB()"
      ],
      "metadata": {
        "id": "gtDeymXehJoX"
      },
      "execution_count": 66,
      "outputs": []
    },
    {
      "cell_type": "markdown",
      "source": [
        "Treinando o modelo:"
      ],
      "metadata": {
        "id": "XJQT9knqhqsJ"
      }
    },
    {
      "cell_type": "code",
      "source": [
        "%time nb.fit(x_train_dtm,y_train)"
      ],
      "metadata": {
        "colab": {
          "base_uri": "https://localhost:8080/"
        },
        "id": "t_zTefI4hoH4",
        "outputId": "42205b2b-8f0a-4575-ff49-177f4b4235fd"
      },
      "execution_count": 67,
      "outputs": [
        {
          "output_type": "stream",
          "name": "stdout",
          "text": [
            "CPU times: user 5.26 ms, sys: 0 ns, total: 5.26 ms\n",
            "Wall time: 7.7 ms\n"
          ]
        },
        {
          "output_type": "execute_result",
          "data": {
            "text/plain": [
              "MultinomialNB()"
            ]
          },
          "metadata": {},
          "execution_count": 67
        }
      ]
    },
    {
      "cell_type": "markdown",
      "source": [
        "Vamos gerar uma predição:"
      ],
      "metadata": {
        "id": "g9rAE_Zkhw4P"
      }
    },
    {
      "cell_type": "code",
      "source": [
        "y_pred_class = nb.predict(x_test_dtm)"
      ],
      "metadata": {
        "id": "sDItd2GFhu94"
      },
      "execution_count": 68,
      "outputs": []
    },
    {
      "cell_type": "markdown",
      "source": [
        "Calculando a acurácia do modelo:"
      ],
      "metadata": {
        "id": "I1Otrk6Bh4NA"
      }
    },
    {
      "cell_type": "code",
      "source": [
        "from sklearn import metrics\n",
        "metrics.accuracy_score(y_test,y_pred_class)"
      ],
      "metadata": {
        "colab": {
          "base_uri": "https://localhost:8080/"
        },
        "id": "F97P8NAsh2DH",
        "outputId": "bc11a9ab-ba68-4aff-c34f-463ab800fc82"
      },
      "execution_count": 69,
      "outputs": [
        {
          "output_type": "execute_result",
          "data": {
            "text/plain": [
              "0.9820531227566404"
            ]
          },
          "metadata": {},
          "execution_count": 69
        }
      ]
    },
    {
      "cell_type": "markdown",
      "source": [
        "O modelo alcançou uma acurácia de 98%. Mas será que ele está realmente acertando a classe que importa, ou seja, os spams?\n",
        "\n",
        "Podemos utilizar uma matriz de confusão para verificar isso:"
      ],
      "metadata": {
        "id": "ZK8KyEEWh-ag"
      }
    },
    {
      "cell_type": "code",
      "source": [
        "metrics.confusion_matrix(y_test,y_pred_class)"
      ],
      "metadata": {
        "colab": {
          "base_uri": "https://localhost:8080/"
        },
        "id": "52tmkffHh7Wn",
        "outputId": "8a2dd9c6-f714-49b2-fccb-33ac4a62ce7b"
      },
      "execution_count": 70,
      "outputs": [
        {
          "output_type": "execute_result",
          "data": {
            "text/plain": [
              "array([[1199,    3],\n",
              "       [  22,  169]])"
            ]
          },
          "metadata": {},
          "execution_count": 70
        }
      ]
    },
    {
      "cell_type": "markdown",
      "source": [
        "A interpretação da matriz nos diz o seguinte:\n",
        "* 1199 - eram spam e foram classificados como spam\n",
        "* 3 - não eram spam, mas foram classicados como spam\n",
        "* 22 - eram spam, mas não foram classificados como spam\n",
        "* 169 - não eram spam, e não foram classificados como spam"
      ],
      "metadata": {
        "id": "SKaLZWl2iXt4"
      }
    }
  ]
}